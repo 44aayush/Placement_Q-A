{
 "cells": [
  {
   "cell_type": "markdown",
   "id": "8ae01703-8a01-4119-8daa-a74d65ed1622",
   "metadata": {},
   "source": [
    "# Max Sum Subarray of Size k\n",
    "\n",
    "<span style=\"color:orange\">\n",
    "- IP => size : k<br>\n",
    "- array : Arr[]<br>\n",
    "- k != len(array)<br>\n",
    "- OP => MaxSum of window size k</span>\n",
    "<br>\n",
    "<h4> Time => O(n) <br>\n",
    "    Space => O(1)\n",
    "</h4>"
   ]
  },
  {
   "cell_type": "code",
   "execution_count": 1,
   "id": "f052d117-11e6-41bb-98d3-2e6d7bfde2d6",
   "metadata": {},
   "outputs": [],
   "source": [
    "def maxKSum(Arr, k):\n",
    "    n = len(Arr)\n",
    "    \n",
    "    if (n < k):\n",
    "        return -1\n",
    "    mx, s, i, j = float('-inf'), 0, 0, 0\n",
    "    \n",
    "    while(j < n):\n",
    "        s += Arr[j]\n",
    "        if (j-i+1 < k): \n",
    "            j += 1\n",
    "        elif (j-i+1 == k): \n",
    "            mx = max(mx, s)\n",
    "            s -= Arr[i]\n",
    "            i += 1\n",
    "            j += 1\n",
    "    return mx"
   ]
  },
  {
   "cell_type": "code",
   "execution_count": 2,
   "id": "7c3e93f4-ddf7-4618-a7a4-b1888e93b586",
   "metadata": {},
   "outputs": [
    {
     "name": "stdout",
     "output_type": "stream",
     "text": [
      "24\n"
     ]
    }
   ],
   "source": [
    "Arr = [1, 4, 2, 10, 2, 3, 1, 0, 20]\n",
    "k = 4\n",
    "mx = maxKSum(Arr, k)\n",
    "print(mx)"
   ]
  },
  {
   "cell_type": "code",
   "execution_count": 3,
   "id": "0055086c-9913-4952-8811-415a23245e5a",
   "metadata": {},
   "outputs": [],
   "source": [
    "def minKSum(Arr, k):\n",
    "    n = len(Arr)\n",
    "    \n",
    "    if (n < k):\n",
    "        return -1\n",
    "    m, s, i, j = float('inf'), 0, 0, 0\n",
    "    \n",
    "    while(j < n):\n",
    "        s += Arr[j]\n",
    "        if (j-i+1 < k): \n",
    "            j += 1\n",
    "        elif (j-i+1 == k): \n",
    "            m = min(m, s)\n",
    "            s -= Arr[i]\n",
    "            i += 1\n",
    "            j += 1\n",
    "    return m"
   ]
  },
  {
   "cell_type": "code",
   "execution_count": 4,
   "id": "f2b8aa65-803b-47ee-a772-44c115fd21a6",
   "metadata": {},
   "outputs": [
    {
     "name": "stdout",
     "output_type": "stream",
     "text": [
      "6\n"
     ]
    }
   ],
   "source": [
    "Arr = [1, 4, 2, 10, 2, 3, 1, 0, 10, 1]\n",
    "k = 4\n",
    "m = minKSum(Arr, k)\n",
    "print(m)"
   ]
  },
  {
   "cell_type": "markdown",
   "id": "14e389eb-7cda-49c4-aae9-e29bd9a6fc55",
   "metadata": {},
   "source": [
    "# Count Occurences of Anagram\n",
    "<span style=\"color: orange\">\n",
    "Input : <br>\n",
    "string => aabaabaa<br>\n",
    "subStr => aaba<br>\n",
    "Output : 4<br>\n",
    "Explanation : Anagrams of the word aaba => aaba,abaa<br> each appear twice in the text and hence the\n",
    "count is 4.\n",
    "</span>"
   ]
  },
  {
   "cell_type": "code",
   "execution_count": 5,
   "id": "f615469f-4e52-445d-ac63-2f3febefc3b1",
   "metadata": {},
   "outputs": [],
   "source": [
    "def countAnagram(S, subS):\n",
    "    c = 0\n",
    "    n = len(subS)\n",
    "    ck = sorted(subS)\n",
    "    mk = ''.join(ck)\n",
    "    \n",
    "    for i,item in enumerate(S):\n",
    "        if S[i] in mk:\n",
    "            p = S[i: i+n]\n",
    "            jk = sorted(p)\n",
    "            er = ''.join(jk)\n",
    "            #print(er)\n",
    "            if er == mk: \n",
    "                c += 1\n",
    "    \n",
    "    return c"
   ]
  },
  {
   "cell_type": "code",
   "execution_count": 6,
   "id": "ca82702e-b883-4c6c-8956-c2358f4d5e40",
   "metadata": {},
   "outputs": [
    {
     "data": {
      "text/plain": [
       "3"
      ]
     },
     "execution_count": 6,
     "metadata": {},
     "output_type": "execute_result"
    }
   ],
   "source": [
    "S = \"forxxorfxdofr\"\n",
    "subS = \"for\"\n",
    "countAnagram(S, subS)"
   ]
  },
  {
   "cell_type": "code",
   "execution_count": 7,
   "id": "b12c17b5-2c6b-4e26-8e5b-98340382c01b",
   "metadata": {},
   "outputs": [
    {
     "data": {
      "text/plain": [
       "4"
      ]
     },
     "execution_count": 7,
     "metadata": {},
     "output_type": "execute_result"
    }
   ],
   "source": [
    "S = \"aabaabaa\"\n",
    "subS = \"aaba\"\n",
    "countAnagram(S, subS)"
   ]
  },
  {
   "cell_type": "markdown",
   "id": "721a5531-df17-4343-814c-c1dce8ab1359",
   "metadata": {},
   "source": [
    "# First Negative number in window of Size k\n",
    "<span style=\"color: orange\">\n",
    "    Input :<br> \n",
    "    N = 5<br>\n",
    "    A[] = {-8, 2, 3, -6, 10}<br>\n",
    "    K = 2<br>\n",
    "    <br>\n",
    "    Output :<br> \n",
    "    -8 0 -6 -6<br>\n",
    "    <br>\n",
    "    Explanation :<br>\n",
    "    First negative integer for each window of size k<br>\n",
    "    {-8, 2} = -8<br>\n",
    "    {2, 3} = 0 (does not contain a negative integer)<br>\n",
    "    {3, -6} = -6<br>\n",
    "    {-6, 10} = -6<br></span>"
   ]
  },
  {
   "cell_type": "code",
   "execution_count": 10,
   "id": "a68ae0ec-f715-4446-a020-aabc57b8cfc3",
   "metadata": {},
   "outputs": [],
   "source": [
    "def printFirstNegativeInteger(arr, k):\n",
    "    firstNegativeIndex = 0\n",
    " \n",
    "    for i in range(k - 1, len(arr)):\n",
    " \n",
    "        while firstNegativeIndex < i and (firstNegativeIndex <= i - k or arr[firstNegativeIndex] > 0):\n",
    "            firstNegativeIndex += 1\n",
    " \n",
    "        firstNegativeElement = arr[firstNegativeIndex] if arr[firstNegativeIndex] < 0 else 0\n",
    "        print(firstNegativeElement, end=' ')"
   ]
  },
  {
   "cell_type": "code",
   "execution_count": 11,
   "id": "5f60641d-3e72-4fd3-9307-640e9e3ec88f",
   "metadata": {},
   "outputs": [
    {
     "name": "stdout",
     "output_type": "stream",
     "text": [
      "-1 -1 -7 -15 -15 0 "
     ]
    }
   ],
   "source": [
    "arr = [12, -1, -7, 8, -15, 30, 16, 28]\n",
    "k = 3\n",
    "printFirstNegativeInteger(arr, k);"
   ]
  },
  {
   "cell_type": "markdown",
   "id": "9651e768-f1ea-44df-833c-2636218c77f4",
   "metadata": {},
   "source": [
    "# Maximum of all SubArray of Size k\n",
    "<span style=\"color:orange\">\n",
    "Input 1:<br>\n",
    "    A = [1, 3, -1, -3, 5, 3, 6, 7]<br>\n",
    "    B = 3<br>\n",
    "Output 1:<br>\n",
    "    C = [3, 3, 5, 5, 6, 7]\n",
    "</span>"
   ]
  },
  {
   "cell_type": "code",
   "execution_count": 21,
   "id": "9f6bbde5-2c46-4a84-93d9-22f32c4ae2c4",
   "metadata": {},
   "outputs": [],
   "source": [
    "def maxSubArray(Arr, k):\n",
    "    res = []\n",
    "    mx = []\n",
    "    i = 0\n",
    "    j = 0\n",
    "    n = len(Arr)\n",
    "    \n",
    "    while(j < n):\n",
    "        mx.append(Arr[j])\n",
    "        if (j-i+1 < k): \n",
    "            j += 1\n",
    "        elif(j-i+1 == k):\n",
    "            maximum = max(mx)\n",
    "            res.append(maximum)\n",
    "            i += 1\n",
    "            j += 1\n",
    "            del mx[0]\n",
    "            \n",
    "    return res"
   ]
  },
  {
   "cell_type": "code",
   "execution_count": 22,
   "id": "4826a9d3-5574-4f49-8e68-04a09216f4e9",
   "metadata": {},
   "outputs": [
    {
     "data": {
      "text/plain": [
       "[3, 3, 5, 5, 6, 7]"
      ]
     },
     "execution_count": 22,
     "metadata": {},
     "output_type": "execute_result"
    }
   ],
   "source": [
    "A = [1, 3, -1, -3, 5, 3, 6, 7]\n",
    "B = 3\n",
    "maxSubArray(A, B)"
   ]
  },
  {
   "cell_type": "markdown",
   "id": "39ca6177-2874-47b0-8327-d808e9b9acf1",
   "metadata": {},
   "source": [
    "# Largest subArray of sum k\n",
    "- Given an array containing N positive integers and an integer K. Your task is to find the length of the longest Sub-Array with sum of the elements equal to the given value K.\n",
    "\n",
    "<br>\n",
    "<span style=\"color: orange\">\n",
    "Input:<br>\n",
    "k = 5<br>\n",
    "A = [4, 1, 1, 1, 2, 3, 5]<br>\n",
    "Output:<br> \n",
    "4\n",
    "</span>"
   ]
  },
  {
   "cell_type": "code",
   "execution_count": 1,
   "id": "8812d382-9cbe-4de4-af24-981f333c26f0",
   "metadata": {},
   "outputs": [],
   "source": [
    "def longestSubArray(Arr, k):\n",
    "    s = 0\n",
    "    maxLen = 0\n",
    "    i = 0\n",
    "    j = 0\n",
    "    \n",
    "    while(j < len(Arr)):\n",
    "        s += Arr[j]\n",
    "        \n",
    "        if (s < k):\n",
    "            j += 1\n",
    "        \n",
    "        elif (s == k):\n",
    "            maxLen = max(maxLen, j-i+1)\n",
    "            j += 1\n",
    "            \n",
    "        elif(s > k):\n",
    "            while(s > k):\n",
    "                s -= Arr[i]\n",
    "                i += 1\n",
    "                j += 1\n",
    "    return maxLen"
   ]
  },
  {
   "cell_type": "code",
   "execution_count": 2,
   "id": "ba58e1e7-4898-4b53-93ed-3abaa1743fb7",
   "metadata": {},
   "outputs": [
    {
     "data": {
      "text/plain": [
       "4"
      ]
     },
     "execution_count": 2,
     "metadata": {},
     "output_type": "execute_result"
    }
   ],
   "source": [
    "k = 5\n",
    "A = [4, 1, 1, 1, 2, 3, 5]\n",
    "longestSubArray(A, k)"
   ]
  },
  {
   "cell_type": "markdown",
   "id": "8dc4f249-e428-4eeb-9c49-03a1d8ccd37e",
   "metadata": {},
   "source": [
    "# Longest K unique characters substring\n",
    "<span style=\"color:orange\">\n",
    "Input:<br>\n",
    "S = \"aabacbebebe\", <br>\n",
    "K = 3<br>\n",
    "Output: 7<br>\n",
    "Explanation: \"cbebebe\" is the longest \n",
    "substring with K distinct characters.\n",
    "</span>\n",
    "\n",
    "<h4>\n",
    "Time => O(|S|)<br>\n",
    "Space => O(1)\n",
    "</h4>"
   ]
  },
  {
   "cell_type": "code",
   "execution_count": 9,
   "id": "a2c80a41-1967-491f-822b-18ce9242c2cc",
   "metadata": {},
   "outputs": [],
   "source": [
    "from collections import defaultdict\n",
    "def longestKSubstr(S, k):\n",
    "    LongKSub = 0\n",
    "    i = 0\n",
    "    dict_ = defaultdict(int)\n",
    "    n = len(S)\n",
    "    \n",
    "    for j in range(len(S)):\n",
    "        dict_[S[j]] += 1\n",
    "        window_size = j-i+1\n",
    "        if (window_size- max(dict_.values())) > k:\n",
    "            dict_[S[i]] -= 1\n",
    "            if not dict_[S[i]]:\n",
    "                del dict_[S[i]]\n",
    "            i += 1\n",
    "        LongKSub = max(LongKSub, window_size)\n",
    "                \n",
    "    return LongKSub"
   ]
  },
  {
   "cell_type": "code",
   "execution_count": 41,
   "id": "f40ef7ee-fda0-4bed-af05-19b06a0a9d07",
   "metadata": {},
   "outputs": [],
   "source": [
    "def longestKSubstr_1(s, k):\n",
    "    \n",
    "        i = 0\n",
    "        c_frequency = {}\n",
    "        longest_str_len = 0\n",
    "        for j in range(len(s)):\n",
    "            \n",
    "            if not s[j] in c_frequency:\n",
    "                c_frequency[s[j]] = 0\n",
    "            c_frequency[s[j]] += 1\n",
    "            \n",
    "            # Replacements cost = cells count between left and right - highest frequency\n",
    "            cells_count = j - i + 1\n",
    "            if cells_count - max(c_frequency.values()) > k:\n",
    "                c_frequency[s[i]] -= 1\n",
    "                if not c_frequency[s[i]]:\n",
    "                    c_frequency.pop(s[i])\n",
    "                i += 1\n",
    "            longest_str_len = max(longest_str_len, cells_count)\n",
    "            \n",
    "        return longest_str_len"
   ]
  },
  {
   "cell_type": "code",
   "execution_count": 42,
   "id": "fb7ac077-e113-4c2f-a5aa-6f00f14628bf",
   "metadata": {},
   "outputs": [
    {
     "data": {
      "text/plain": [
       "7"
      ]
     },
     "execution_count": 42,
     "metadata": {},
     "output_type": "execute_result"
    }
   ],
   "source": [
    "S = \"aabacbebebe\"\n",
    "k = 3\n",
    "longestKSubstr(S, k)"
   ]
  },
  {
   "cell_type": "code",
   "execution_count": 43,
   "id": "35c63c97-421f-4707-9bb5-78665e03f4ce",
   "metadata": {},
   "outputs": [
    {
     "data": {
      "text/plain": [
       "7"
      ]
     },
     "execution_count": 43,
     "metadata": {},
     "output_type": "execute_result"
    }
   ],
   "source": [
    "S = \"aabacbebebe\"\n",
    "k = 3\n",
    "longestKSubstr_1(S, k)"
   ]
  },
  {
   "cell_type": "markdown",
   "id": "d02deef0-9a2a-4403-a48a-637dd6d6cb40",
   "metadata": {},
   "source": [
    "# Longest Substring Without Repeating Characters\n",
    "<span style=\"color: orange\">\n",
    "Input: s = \"pwwkew\"<br>\n",
    "Output: 3<br>\n",
    "Explanation: The answer is \"wke\", with the length of 3.<br>\n",
    "Notice that the answer must be a substring, \"pwke\" is a subsequence and not a substring<br>\n",
    "<span>"
   ]
  },
  {
   "cell_type": "code",
   "execution_count": 44,
   "id": "c74ed12d-6159-4019-9bdf-6277ce1fc977",
   "metadata": {},
   "outputs": [],
   "source": [
    "def longestNonRepeatingSub(s):\n",
    "    d = {}\n",
    "    p1 = p2 = m = 0\n",
    "\n",
    "    while p2 < len(s):\n",
    "        if s[p2] not in d:\n",
    "            d[s[p2]] = True\n",
    "            p2 += 1\n",
    "            m = max(len(d), m)\n",
    "        else:\n",
    "            del d[s[p1]]\n",
    "            p1 += 1\n",
    "\n",
    "    return m"
   ]
  },
  {
   "cell_type": "code",
   "execution_count": 55,
   "id": "0062d8cc-fb5a-4b63-a293-826d31b25ea5",
   "metadata": {},
   "outputs": [],
   "source": [
    "def longestNonRepeatingSub_1(s):\n",
    "    char = set()\n",
    "    i = j = longSub = 0\n",
    "    length = len(s)\n",
    "    \n",
    "    while j < length:\n",
    "        if s[j] not in char:\n",
    "            char.add(s[j])\n",
    "            j += 1\n",
    "            longSub = max(longSub, len(char))\n",
    "        else:\n",
    "            char.remove(s[i])\n",
    "            i += 1\n",
    "    \n",
    "    return longSub"
   ]
  },
  {
   "cell_type": "code",
   "execution_count": 56,
   "id": "18926a11-23dc-45ad-8968-414628d97b64",
   "metadata": {},
   "outputs": [
    {
     "data": {
      "text/plain": [
       "3"
      ]
     },
     "execution_count": 56,
     "metadata": {},
     "output_type": "execute_result"
    }
   ],
   "source": [
    "s = \"pwwkew\"\n",
    "longestNonRepeatingSub(s)"
   ]
  },
  {
   "cell_type": "code",
   "execution_count": 57,
   "id": "acac173a-7a61-4e21-9389-7e274269c441",
   "metadata": {},
   "outputs": [
    {
     "data": {
      "text/plain": [
       "3"
      ]
     },
     "execution_count": 57,
     "metadata": {},
     "output_type": "execute_result"
    }
   ],
   "source": [
    "s = \"pwwkew\"\n",
    "longestNonRepeatingSub_1(s)"
   ]
  },
  {
   "cell_type": "markdown",
   "id": "079b1f52-6da9-4e9b-81d2-9bcca7964783",
   "metadata": {},
   "source": [
    "# Pick Toys\n"
   ]
  },
  {
   "cell_type": "code",
   "execution_count": null,
   "id": "c0c9f992-5add-444d-9baa-6a5852e66be7",
   "metadata": {},
   "outputs": [],
   "source": []
  }
 ],
 "metadata": {
  "kernelspec": {
   "display_name": "Python 3",
   "language": "python",
   "name": "python3"
  },
  "language_info": {
   "codemirror_mode": {
    "name": "ipython",
    "version": 3
   },
   "file_extension": ".py",
   "mimetype": "text/x-python",
   "name": "python",
   "nbconvert_exporter": "python",
   "pygments_lexer": "ipython3",
   "version": "3.9.1"
  }
 },
 "nbformat": 4,
 "nbformat_minor": 5
}
