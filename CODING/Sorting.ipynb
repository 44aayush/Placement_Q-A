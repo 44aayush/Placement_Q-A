{
 "cells": [
  {
   "cell_type": "markdown",
   "id": "d50dbc9b-fe87-4c97-8a7b-1e187c073395",
   "metadata": {},
   "source": [
    "- Comparison Sort => bubble, insertion, selection, merge, quick\n",
    "\n",
    "- Recursive (Divide and Conquer) => MergeSort and QuickSort\n",
    "\n",
    "- Non-Comparison Sort => radix, bucket"
   ]
  },
  {
   "cell_type": "markdown",
   "id": "205af52c-9237-4ea5-bd00-562cded78012",
   "metadata": {},
   "source": [
    "# Bubble Sort\n",
    "\n",
    "<span style=\"color:red\">\n",
    "bubbleSort(array)<br>\n",
    "    for i in range(array.length-1)<br>\n",
    "        for j in range(array.length-1-i)<br>\n",
    "            if array[j] > array[j+1]<br>\n",
    "                swap(array, j, j+1)<br>\n",
    "</span>\n",
    "\n",
    "- <span style=\"color:orange\">O(N<sup>2</sup>)</span>"
   ]
  },
  {
   "cell_type": "code",
   "execution_count": 16,
   "id": "ec4416bd-bb81-4a1b-8d2e-9b1c6b7dc8ce",
   "metadata": {},
   "outputs": [],
   "source": [
    "def bubbleSort(arr):\n",
    "    n = len(arr)\n",
    "    for i in range(n-1):\n",
    "        for j in range(n-1-i):\n",
    "            if arr[j] > arr[j+1]:\n",
    "                arr[j], arr[j+1] = arr[j+1], arr[j]\n",
    "    return arr"
   ]
  },
  {
   "cell_type": "code",
   "execution_count": 17,
   "id": "f3795125-e17f-48cf-8cc3-06b2de1d9020",
   "metadata": {},
   "outputs": [
    {
     "name": "stdout",
     "output_type": "stream",
     "text": [
      "[1, 2, 3, 4]\n"
     ]
    }
   ],
   "source": [
    "arr = [4,3,2,1]\n",
    "print(bubbleSort(arr))"
   ]
  },
  {
   "cell_type": "markdown",
   "id": "2d9a31e2-45c5-4c45-b3ce-f96b834fa888",
   "metadata": {},
   "source": [
    "# Selection Sort\n",
    "<span style=\"color:red\">\n",
    "selectionSort(array)<br>\n",
    "    for i in range(array.length-1)<br>\n",
    "        index = i<br>\n",
    "        for j in range(i+1, array.length)<br>\n",
    "            if array[index] > array[j]<br>\n",
    "                index = j<br>\n",
    "        if index not i<br>\n",
    "            swap(array, j, j+1)<br>\n",
    "</span>\n",
    "\n",
    "- <span style=\"color:orange\">O(N<sup>2</sup>)</span>"
   ]
  },
  {
   "cell_type": "code",
   "execution_count": 18,
   "id": "f86d933c-b86c-4462-be23-17575c0126ec",
   "metadata": {},
   "outputs": [],
   "source": [
    "def selectionSort(arr, n):\n",
    "    for i in range(n-1):\n",
    "        index = i\n",
    "        for j in range(i+1, n):\n",
    "            if arr[index] > arr[j]:\n",
    "                index = j\n",
    "        if index != i:\n",
    "            arr[i], arr[index] = arr[index], arr[i]\n",
    "    return arr"
   ]
  },
  {
   "cell_type": "code",
   "execution_count": 19,
   "id": "b3218973-7e64-4258-9bc1-cc162b3d187a",
   "metadata": {},
   "outputs": [
    {
     "name": "stdout",
     "output_type": "stream",
     "text": [
      "[1, 2, 3, 4]\n"
     ]
    }
   ],
   "source": [
    "arr = [4,3,2,1]\n",
    "print(selectionSort(arr, len(arr)))"
   ]
  },
  {
   "cell_type": "markdown",
   "id": "7cd8c613-ec3d-4d7b-af74-93090cd4c9f7",
   "metadata": {},
   "source": [
    "# Insertion Sort\n",
    "<span style=\"color:red\">\n",
    "insertionSort(array)<br>\n",
    "    for i in range(1, array.length)<br>\n",
    "        j = i<br>\n",
    "        while j>0 and array[j-1] > array[j]<br>\n",
    "                swap(array, j, j+1)<br>\n",
    "                j = j-1\n",
    "</span>\n",
    "\n",
    "- <span style=\"color:orange\">O(N<sup>2</sup>)</span>"
   ]
  },
  {
   "cell_type": "code",
   "execution_count": 20,
   "id": "72feba32-6800-4d63-bb79-d006bd3a1732",
   "metadata": {},
   "outputs": [],
   "source": [
    "def insertionSort(arr, n):\n",
    "    for i in range(1, n):\n",
    "        j = i\n",
    "        while j>0 and arr[j-1] > arr[j]:\n",
    "            arr[j-1], arr[j] = arr[j], arr[j-1]\n",
    "            j = j-1\n",
    "    return arr"
   ]
  },
  {
   "cell_type": "code",
   "execution_count": 21,
   "id": "82c19c1c-aaa1-4002-a5be-5bc606ddf52e",
   "metadata": {},
   "outputs": [
    {
     "name": "stdout",
     "output_type": "stream",
     "text": [
      "[-2, 1, 2, 4, 5, 6, 10]\n"
     ]
    }
   ],
   "source": [
    "arr = [5, 2, 10, -2, 6, 4, 1]\n",
    "print(insertionSort(arr, len(arr)))"
   ]
  },
  {
   "cell_type": "markdown",
   "id": "2ca84c9d-90b7-4f9a-a0bc-c4f8506f373c",
   "metadata": {},
   "source": [
    "# Quick Sort\n",
    "- <span style=\"color:red\">\n",
    "quickSort(array, low, high)<br>\n",
    "    if low >= high return<br>\n",
    "    pivot = partition(array, low, high)<br>\n",
    "    quickSort(array, low, pivot-1)<br>\n",
    "    quickSort(array, pivot+1, high)  <br>  \n",
    "</span>\n",
    "- <span style=\"color:yellow\">\n",
    "partition(array, low, high)<br>\n",
    "    pi = low + ((high - low) / 2)   <br>\n",
    "    swap(pi, high)<br>\n",
    "    i = low<br>\n",
    "    \n",
    "    for j = low to high<br>\n",
    "        if array[high] >= array[j]<br>\n",
    "            swap(i, j)<br>\n",
    "            i += 1<br>\n",
    "    swap(i, high)<br>\n",
    "    return i<br>\n",
    "</span>\n",
    "- <span style=\"color:orange\">O(N logN)</span>"
   ]
  },
  {
   "cell_type": "code",
   "execution_count": 34,
   "id": "db3c83bb-ec4d-4750-8b8b-63c632448e80",
   "metadata": {},
   "outputs": [],
   "source": [
    "def quickSort(arr, low, high):\n",
    "    if low >= high:\n",
    "        return\n",
    "    \n",
    "    pivot = partition(arr, low, high)\n",
    "    quickSort(arr, low, pivot-1)\n",
    "    quickSort(arr, pivot+1, high)\n",
    "    \n",
    "def partition(arr, low, high):\n",
    "    pivotIndex = (low+high) // 2\n",
    "    arr[pivotIndex], arr[high] = arr[high], arr[pivotIndex]\n",
    "    i = low\n",
    "    for j in range(low, high, 1):\n",
    "        if arr[j] <= arr[high]:\n",
    "            arr[i], arr[j] = arr[j], arr[i]\n",
    "            i += 1\n",
    "            \n",
    "    arr[i], arr[high] = arr[high], arr[i]\n",
    "    return i"
   ]
  },
  {
   "cell_type": "code",
   "execution_count": 37,
   "id": "9047e868-f51f-4895-89c1-c7abb9d391d7",
   "metadata": {},
   "outputs": [
    {
     "name": "stdout",
     "output_type": "stream",
     "text": [
      "[-2, -2, -1, -1, 0, 0, 1]\n"
     ]
    }
   ],
   "source": [
    "arr = [-2, -1, 0, 1, 0, -1, -2]\n",
    "n = len(arr)\n",
    "quickSort(arr, 0, n-1)\n",
    "print(arr)"
   ]
  },
  {
   "cell_type": "markdown",
   "id": "90a489c7-1c35-479f-9008-0570244dce6f",
   "metadata": {},
   "source": [
    "# Merge Sort\n",
    "- <span style=\"color:orange\">O(N logN)</span>"
   ]
  },
  {
   "cell_type": "code",
   "execution_count": 45,
   "id": "4e93da9c-a773-4fad-91da-0e5eb51d0805",
   "metadata": {},
   "outputs": [],
   "source": [
    "def mergeSort(arr):\n",
    "    if len(arr) == 1:\n",
    "        return\n",
    "    \n",
    "    middle = len(arr)//2\n",
    "    left = arr[:middle]\n",
    "    right = arr[middle:]\n",
    "    \n",
    "    mergeSort(left)\n",
    "    mergeSort(right)\n",
    "    \n",
    "    i,j,k = 0,0,0\n",
    "    \n",
    "    while i < len(left) and j < len(right):\n",
    "        if left[i] < right[j]:\n",
    "            arr[k] = left[i]\n",
    "            i += 1\n",
    "        else:\n",
    "            arr[k] = right[j]\n",
    "            j += 1\n",
    "        k += 1\n",
    "    \n",
    "    while i < len(left):\n",
    "        arr[k] = left[i]\n",
    "        i += 1\n",
    "        k += 1\n",
    "        \n",
    "    while j < len(right):\n",
    "        arr[k] = right[j]\n",
    "        j += 1\n",
    "        k += 1"
   ]
  },
  {
   "cell_type": "code",
   "execution_count": 46,
   "id": "14bc8119-39ba-4b96-945e-cfb979860eb1",
   "metadata": {},
   "outputs": [
    {
     "name": "stdout",
     "output_type": "stream",
     "text": [
      "[1, 3, 4, 5, 6, 8, 10]\n"
     ]
    }
   ],
   "source": [
    "arr = [3, 5, 6, 10, 1, 4,8]\n",
    "mergeSort(arr)\n",
    "print(arr)"
   ]
  },
  {
   "cell_type": "code",
   "execution_count": null,
   "id": "72cc4ac4-be7f-40e3-a598-536cb9bfff21",
   "metadata": {},
   "outputs": [],
   "source": []
  }
 ],
 "metadata": {
  "kernelspec": {
   "display_name": "Python 3",
   "language": "python",
   "name": "python3"
  },
  "language_info": {
   "codemirror_mode": {
    "name": "ipython",
    "version": 3
   },
   "file_extension": ".py",
   "mimetype": "text/x-python",
   "name": "python",
   "nbconvert_exporter": "python",
   "pygments_lexer": "ipython3",
   "version": "3.9.1"
  }
 },
 "nbformat": 4,
 "nbformat_minor": 5
}
