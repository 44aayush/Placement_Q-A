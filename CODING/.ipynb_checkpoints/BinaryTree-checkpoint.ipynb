{
 "cells": [
  {
   "cell_type": "markdown",
   "id": "15fb76c7-81cb-45cc-8c15-3a0143123229",
   "metadata": {},
   "source": [
    "<h3 style=\"color:yellow\"> Left View of BT</h3>"
   ]
  },
  {
   "cell_type": "code",
   "execution_count": 1,
   "id": "78689b82-ed2a-4b55-85db-6521194b6d18",
   "metadata": {},
   "outputs": [
    {
     "name": "stdout",
     "output_type": "stream",
     "text": [
      "12\n",
      "10\n",
      "25\n"
     ]
    }
   ],
   "source": [
    "# T = O(n)\n",
    "# S = O(n)\n",
    "\n",
    "# STACK \n",
    "\n",
    "class Node:\n",
    "    def __init__(self, data):\n",
    "        self.data = data\n",
    "        self.left = None\n",
    "        self.right = None\n",
    "\n",
    "def leftViewUtil(root, level, maxLevel):\n",
    "    if root is None:\n",
    "        return\n",
    "    \n",
    "    # first node of level\n",
    "    if (maxLevel[0] < level):\n",
    "        print(\"%s\" %(root.data))\n",
    "        maxLevel[0] = level\n",
    "    \n",
    "    leftViewUtil(root.left, level+1, maxLevel)\n",
    "    leftViewUtil(root.right, level+1, maxLevel)\n",
    "        \n",
    "        \n",
    "def leftView(root):\n",
    "    maxLevel = [0]\n",
    "    leftViewUtil(root, 1, maxLevel)\n",
    "\n",
    "\n",
    "root = Node(12)\n",
    "root.left = Node(10)\n",
    "root.right = Node(20)\n",
    "root.right.left = Node(25)\n",
    "root.right.right = Node(40)\n",
    " \n",
    "leftView(root) #12 10 25"
   ]
  },
  {
   "cell_type": "code",
   "execution_count": 2,
   "id": "2bc60afe-aa3f-4c03-9e3c-47fcfcd9e9fd",
   "metadata": {},
   "outputs": [
    {
     "name": "stdout",
     "output_type": "stream",
     "text": [
      "10\n",
      "2\n",
      "7\n",
      "14\n"
     ]
    }
   ],
   "source": [
    "# T = O(n)\n",
    "\n",
    "# QUEUE\n",
    "\n",
    "class newNode:\n",
    " \n",
    "    # Construct to create a newNode\n",
    "    def __init__(self, key):\n",
    "        self.data = key\n",
    "        self.left = None\n",
    "        self.right = None\n",
    "        self.hd = 0\n",
    "    \n",
    "def leftView_2(root):\n",
    "    if not root:\n",
    "        return\n",
    "    \n",
    "    q = []\n",
    "    q.append(root)\n",
    "    \n",
    "    while(len(q)):\n",
    "        n = len(q)\n",
    "        \n",
    "        for i in range(1, n+1):\n",
    "            temp = q[0]\n",
    "            q.pop(0)\n",
    "            \n",
    "            if i == 1:\n",
    "                print(temp.data, end=\"\\n\")\n",
    "            if temp.left != None:\n",
    "                q.append(temp.left)\n",
    "            if temp.right != None:\n",
    "                q.append(temp.right)\n",
    "\n",
    "if __name__ == '__main__':\n",
    " \n",
    "    root = newNode(10)\n",
    "    root.left = newNode(2)\n",
    "    root.right = newNode(3)\n",
    "    root.left.left = newNode(7)\n",
    "    root.left.right = newNode(8)\n",
    "    root.right.right = newNode(15)\n",
    "    root.right.left = newNode(12)\n",
    "    root.right.right.left = newNode(14)\n",
    "    leftView_2(root)"
   ]
  },
  {
   "cell_type": "markdown",
   "id": "4aa34e76-d4ec-440d-b218-5aa2969220ee",
   "metadata": {},
   "source": [
    "<h3 style=\"color:yellow\">No Sibling Nodes</h3>"
   ]
  },
  {
   "cell_type": "code",
   "execution_count": 3,
   "id": "de438d4c-a89d-45f8-9643-5d360567613c",
   "metadata": {},
   "outputs": [
    {
     "name": "stdout",
     "output_type": "stream",
     "text": [
      "4\n",
      "5\n",
      "6\n"
     ]
    }
   ],
   "source": [
    "class Node:\n",
    "     \n",
    "    def __init__(self, data):\n",
    "        self.data = data\n",
    "        self.left = None\n",
    "        self.right = None\n",
    "\n",
    "def noSibling(root):\n",
    "    if not root:\n",
    "        return\n",
    "    \n",
    "    if root.left is not None and root.right is not None:\n",
    "        noSibling(root.left)\n",
    "        noSibling(root.right)\n",
    "        \n",
    "    elif root.right is not None:\n",
    "        print(root.right.data)\n",
    "        noSibling(root.right)\n",
    "    \n",
    "    elif root.left is not None:\n",
    "        print(root.left.data)\n",
    "        noSibling(root.left)\n",
    "        \n",
    "if __name__ == '__main__':\n",
    "    root = Node(1)\n",
    "    root.left = Node(2)\n",
    "    root.right = Node(3)\n",
    "    root.left.right = Node(4)\n",
    "    root.right.left = Node(5)\n",
    "    root.right.left.left = Node(6)\n",
    "    noSibling(root)"
   ]
  },
  {
   "cell_type": "markdown",
   "id": "d1b751a5-ceb7-4ec7-9af7-08cc07451f4a",
   "metadata": {},
   "source": [
    "<h3 style=\"color:yellow\">Is Cousin or not</h3>"
   ]
  },
  {
   "cell_type": "code",
   "execution_count": 7,
   "id": "9d13d184-5b91-4c94-9803-6dbca636d3e4",
   "metadata": {},
   "outputs": [
    {
     "name": "stdout",
     "output_type": "stream",
     "text": [
      "No\n"
     ]
    }
   ],
   "source": [
    "class Node:\n",
    "     def __init__(self, data):\n",
    "        self.data = data\n",
    "        self.left = None\n",
    "        self.right = None\n",
    "\n",
    "def isSibling(root, a, b):\n",
    "    if root is None:\n",
    "        return 0\n",
    "    \n",
    "    return ((root.left == a and root.right == b) or\n",
    "            (root.left == b and root.right == a) or\n",
    "            isSibling(root.left, a, b) or\n",
    "            isSibling(root.right, a, b))\n",
    "    \n",
    "def level(root, ptr, lev):\n",
    "    if root is None:\n",
    "        return 0\n",
    "    \n",
    "    if root == ptr:\n",
    "        return lev\n",
    "    \n",
    "    l = level(root.left, ptr, lev+1)\n",
    "    if l != 0:\n",
    "        return l\n",
    "    \n",
    "    return level(root.right, ptr, lev+1)\n",
    "    \n",
    "def isCousin(root, a, b):\n",
    "    if ((level(root, a, 1) == level(root, b, 1)) and not(isSibling(root, a, b))):\n",
    "        return 1\n",
    "    else:\n",
    "        return 0\n",
    "    \n",
    "root = Node(1)\n",
    "root.left = Node(2)\n",
    "root.right = Node(3)\n",
    "root.left.left = Node(4)\n",
    "root.left.right = Node(5)\n",
    "root.left.right.right = Node(15)\n",
    "root.right.left = Node(6)\n",
    "root.right.right = Node(7)\n",
    "root.right.left.right = Node(8)\n",
    " \n",
    "node1 = root.left\n",
    "node2 = root.right.right\n",
    " \n",
    "print(\"Yes\") if isCousin(root, node1, node2) == 1 else print(\"No\")"
   ]
  },
  {
   "cell_type": "markdown",
   "id": "8e9a79d6-0428-48d8-a20c-9a56ea57c839",
   "metadata": {},
   "source": [
    "<h3 style=\"color:yellow\">No Sibling Nodes</h3>"
   ]
  },
  {
   "cell_type": "code",
   "execution_count": null,
   "id": "26db7b31-5b57-4369-95bc-0b4c66b9b5f4",
   "metadata": {},
   "outputs": [],
   "source": []
  },
  {
   "cell_type": "markdown",
   "id": "3454bdb1-bd24-4d56-95af-47aee69cbc9d",
   "metadata": {},
   "source": [
    "<h3 style=\"color:yellow\">No Sibling Nodes</h3>"
   ]
  },
  {
   "cell_type": "code",
   "execution_count": null,
   "id": "9b501e68-1e4b-41be-88cb-6b25aded3da4",
   "metadata": {},
   "outputs": [],
   "source": []
  },
  {
   "cell_type": "markdown",
   "id": "020c50a8-34b0-4a0e-9e29-f630ae2ed4d3",
   "metadata": {},
   "source": [
    "<h3 style=\"color:yellow\">No Sibling Nodes</h3>"
   ]
  }
 ],
 "metadata": {
  "kernelspec": {
   "display_name": "Python 3",
   "language": "python",
   "name": "python3"
  },
  "language_info": {
   "codemirror_mode": {
    "name": "ipython",
    "version": 3
   },
   "file_extension": ".py",
   "mimetype": "text/x-python",
   "name": "python",
   "nbconvert_exporter": "python",
   "pygments_lexer": "ipython3",
   "version": "3.9.1"
  }
 },
 "nbformat": 4,
 "nbformat_minor": 5
}
