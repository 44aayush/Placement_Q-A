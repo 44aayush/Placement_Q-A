{
 "cells": [
  {
   "cell_type": "markdown",
   "id": "56f4fd77-d99b-4750-8719-c5ebec2aa69b",
   "metadata": {},
   "source": [
    "# Minimum number of increment-other operations to make all array elements equal"
   ]
  },
  {
   "cell_type": "code",
   "execution_count": 9,
   "id": "c0703b30-ece4-48d9-ac2c-8ca17466e4a6",
   "metadata": {},
   "outputs": [
    {
     "data": {
      "text/plain": [
       "6"
      ]
     },
     "execution_count": 9,
     "metadata": {},
     "output_type": "execute_result"
    }
   ],
   "source": [
    "def incOperations(arr, n):\n",
    "    sm = sum(arr)\n",
    "    m = min(arr)\n",
    "    return sm - (n * m)\n",
    "\n",
    "arr = [1,2,3,4]\n",
    "n = len(arr)\n",
    "incOperations(arr, n)"
   ]
  },
  {
   "cell_type": "code",
   "execution_count": 8,
   "id": "86a5640f-d72a-4d52-a840-46de6a3f7626",
   "metadata": {},
   "outputs": [
    {
     "data": {
      "text/plain": [
       "3"
      ]
     },
     "execution_count": 8,
     "metadata": {},
     "output_type": "execute_result"
    }
   ],
   "source": [
    "from collections import defaultdict\n",
    "def minOps(arr,n):\n",
    "    h = defaultdict(lambda:0)\n",
    "    \n",
    "    for i in range(n):\n",
    "        h[arr[i]] += 1\n",
    "    \n",
    "    mc = 0\n",
    "    for i in h:\n",
    "        if mc < h[i]:\n",
    "            mc = h[i]\n",
    "    return n - mc\n",
    "\n",
    "arr = [1,2,3,4]\n",
    "n = len(arr)\n",
    "minOps(arr, n)"
   ]
  },
  {
   "cell_type": "code",
   "execution_count": null,
   "id": "9d29a14c-0e2b-4abe-aefb-0282b3799dba",
   "metadata": {},
   "outputs": [],
   "source": []
  }
 ],
 "metadata": {
  "kernelspec": {
   "display_name": "Python 3",
   "language": "python",
   "name": "python3"
  },
  "language_info": {
   "codemirror_mode": {
    "name": "ipython",
    "version": 3
   },
   "file_extension": ".py",
   "mimetype": "text/x-python",
   "name": "python",
   "nbconvert_exporter": "python",
   "pygments_lexer": "ipython3",
   "version": "3.9.1"
  }
 },
 "nbformat": 4,
 "nbformat_minor": 5
}
