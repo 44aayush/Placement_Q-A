{
 "cells": [
  {
   "cell_type": "markdown",
   "id": "6003bf84-929d-466a-ba5b-5ba5f00a76db",
   "metadata": {},
   "source": [
    "# Fibonacci "
   ]
  },
  {
   "cell_type": "code",
   "execution_count": 35,
   "id": "36aaa4ac-9ad9-40b2-9d70-d66756d7ae11",
   "metadata": {},
   "outputs": [],
   "source": [
    "def recur_Fib(n):\n",
    "    if n == 0:\n",
    "        return 0\n",
    "    \n",
    "    elif n == 1:\n",
    "        return 1\n",
    "    \n",
    "    else:\n",
    "        return recur_Fib(n-1) + recur_Fib(n-2)\n",
    "\n",
    "# Time => T(n-1) + T(n-2)"
   ]
  },
  {
   "cell_type": "code",
   "execution_count": 36,
   "id": "64756777-c071-4c9c-a8b3-202eaf50a1ee",
   "metadata": {},
   "outputs": [],
   "source": [
    "def iter_Fib(n):\n",
    "    if n == 0:\n",
    "        return 0\n",
    "    \n",
    "    elif n == 1:\n",
    "        return 1\n",
    "    \n",
    "    f1 = 0\n",
    "    f2 = 1\n",
    "    temp = 0\n",
    "    for i in range(2,n+1):\n",
    "        temp = f1 + f2\n",
    "        f1 = f2\n",
    "        f2 = temp\n",
    "    \n",
    "    return temp\n",
    "\n",
    "# Time => O(n)"
   ]
  },
  {
   "cell_type": "code",
   "execution_count": 37,
   "id": "5c3c1b12-a91f-4695-ac6f-5482264069a7",
   "metadata": {},
   "outputs": [],
   "source": [
    "# If n is even then k = n/2:\n",
    "# F(n) = [2*F(k-1) + F(k)]*F(k)\n",
    "\n",
    "# If n is odd then k = (n + 1)/2\n",
    "# F(n) = F(k)*F(k) + F(k-1)*F(k-1)\n",
    "\n",
    "MAX = 1000\n",
    "f = [0]*MAX # Array for memoization\n",
    "\n",
    "# Returns nth fibonacci number using table f[]\n",
    "def formula_Fib(n):\n",
    "    if n == 0:\n",
    "        return 0\n",
    "    \n",
    "    if (n == 1 or n == 2):\n",
    "        f[n] = 1\n",
    "        return (f[n])\n",
    "    \n",
    "    # If fibonacci is already computed\n",
    "    if f[n]:\n",
    "        return (f[n])\n",
    "    \n",
    "    if (n & 1):\n",
    "        k = (n+1) // 2\n",
    "    else:\n",
    "        k = n // 2\n",
    "    \n",
    "    # Applying above formula [Note value n&1 is 1]\n",
    "    # if n is odd, else 0.\n",
    "    if (n & 1):\n",
    "        f[n] = (formula_Fib(k)*formula_Fib(k) + formula_Fib(k-1)*formula_Fib(k-1))\n",
    "    else:\n",
    "        f[n] = (2*formula_Fib(k-1) + formula_Fib(k))*formula_Fib(k)\n",
    "    \n",
    "    return f[n]\n",
    "\n",
    "# Time => O(log n)\n",
    "# Formula => {[( sqrt[5] + 1 ) / 2 ] ^ n } / sqrt[5]"
   ]
  },
  {
   "cell_type": "code",
   "execution_count": 38,
   "id": "d46ba8fd-0a51-48fc-adab-e5ccf3a64700",
   "metadata": {},
   "outputs": [],
   "source": [
    "# DP using Memoization (Top-down approach)\n",
    "\n",
    "dp = [-1 for i in range(10)]\n",
    "\n",
    "def dp_Fib(n):\n",
    "    if n <= 1:\n",
    "        return n\n",
    "    global dp\n",
    "    \n",
    "    f1 = 0\n",
    "    f2 = 1\n",
    "    \n",
    "    if (dp[n-1] != -1):\n",
    "        f1 = dp[n-1]\n",
    "    else:\n",
    "        f1 = dp_Fib(n-1) #First time calculate value\n",
    "    \n",
    "    if (dp[n-2] != -1):\n",
    "        f2 = dp[n-2]\n",
    "    else:\n",
    "        f2 =dp_Fib(n-2)\n",
    "    \n",
    "    dp[n] = f1 + f2\n",
    "    \n",
    "    return dp[n]"
   ]
  },
  {
   "cell_type": "code",
   "execution_count": 39,
   "id": "f09c92a0-69f4-450b-b55d-884a361cdec8",
   "metadata": {},
   "outputs": [
    {
     "data": {
      "text/plain": [
       "5"
      ]
     },
     "execution_count": 39,
     "metadata": {},
     "output_type": "execute_result"
    }
   ],
   "source": [
    "recur_Fib(5)"
   ]
  },
  {
   "cell_type": "code",
   "execution_count": 40,
   "id": "5548f617-f928-42ad-b4b6-70581b0aaa73",
   "metadata": {},
   "outputs": [
    {
     "data": {
      "text/plain": [
       "5"
      ]
     },
     "execution_count": 40,
     "metadata": {},
     "output_type": "execute_result"
    }
   ],
   "source": [
    "iter_Fib(5)"
   ]
  },
  {
   "cell_type": "code",
   "execution_count": 41,
   "id": "4392a527-86ce-4e91-9489-17ac30f92a38",
   "metadata": {},
   "outputs": [
    {
     "data": {
      "text/plain": [
       "5"
      ]
     },
     "execution_count": 41,
     "metadata": {},
     "output_type": "execute_result"
    }
   ],
   "source": [
    "formula_Fib(5)"
   ]
  },
  {
   "cell_type": "code",
   "execution_count": 42,
   "id": "2f95a8c2-6c41-4060-baac-5a745a3f96bf",
   "metadata": {},
   "outputs": [
    {
     "data": {
      "text/plain": [
       "5"
      ]
     },
     "execution_count": 42,
     "metadata": {},
     "output_type": "execute_result"
    }
   ],
   "source": [
    "dp_Fib(5)"
   ]
  },
  {
   "cell_type": "markdown",
   "id": "7a74891e-2b8b-4dbe-8b6c-dbcaa08dc347",
   "metadata": {},
   "source": [
    "# Pow(x,n)"
   ]
  },
  {
   "cell_type": "markdown",
   "id": "46b9f040-e08c-4378-8649-6e3d30896dfe",
   "metadata": {},
   "source": [
    "x<sup>n</sup> =  {<br>\n",
    "    <span style=\"color:red\">x * x<sup>n-1</sup>, if n > 0\n",
    "    <br>\n",
    "    1, if n == 0</span>\n",
    "    <br>\n",
    "}"
   ]
  },
  {
   "cell_type": "code",
   "execution_count": 43,
   "id": "ac079ccc-579b-49d7-932b-1f4ab6969a0a",
   "metadata": {},
   "outputs": [],
   "source": [
    "def pow(x,n):\n",
    "    if n == 0:\n",
    "        return 1\n",
    "    \n",
    "    else:\n",
    "        return x * pow(x,n-1)"
   ]
  },
  {
   "cell_type": "markdown",
   "id": "12b5b7ad-efeb-4307-b374-a120ff6a2036",
   "metadata": {},
   "source": [
    "x<sup>n</sup> =  {<br>\n",
    "    <span style=\"color:red\">x<sup>n/2</sup> * x<sup>n/2</sup>, if n is EVEN\n",
    "    <br>\n",
    "    x * x<sup>n-1</sup>, if n is ODD</span>\n",
    "    <br>\n",
    "}"
   ]
  },
  {
   "cell_type": "code",
   "execution_count": 44,
   "id": "37c067f7-7ff9-45f1-ab9a-5f5841332426",
   "metadata": {},
   "outputs": [],
   "source": [
    "def pow_1(x,n):\n",
    "    if n == 0:\n",
    "        return 1\n",
    "    \n",
    "    elif n%2 == 0:\n",
    "        even_res = pow_1(x, n//2)\n",
    "        return even_res * even_res\n",
    "    \n",
    "    else:\n",
    "        return x * pow(x,n-1)"
   ]
  },
  {
   "cell_type": "code",
   "execution_count": 45,
   "id": "842f0e17-bcec-42ef-b9b2-e38dfbf9f453",
   "metadata": {},
   "outputs": [
    {
     "data": {
      "text/plain": [
       "32"
      ]
     },
     "execution_count": 45,
     "metadata": {},
     "output_type": "execute_result"
    }
   ],
   "source": [
    "pow(2,5)"
   ]
  },
  {
   "cell_type": "code",
   "execution_count": 46,
   "id": "0d793625-a551-4d20-be3d-391609ca2b17",
   "metadata": {},
   "outputs": [
    {
     "data": {
      "text/plain": [
       "32"
      ]
     },
     "execution_count": 46,
     "metadata": {},
     "output_type": "execute_result"
    }
   ],
   "source": [
    "pow_1(2,5)"
   ]
  },
  {
   "cell_type": "markdown",
   "id": "c2be9a19-1040-49c7-b7cf-1200848c094b",
   "metadata": {},
   "source": [
    "# Modular Exponential \n",
    "- x<sup>n</sup> mod M\n",
    "- 5<sup>2</sup> mod 7 => 25 % 7 => 4\n",
    "<br>\n",
    "- (a * b ) % M => { (a % M) * (b % M) } % M\n",
    "- x<sup>n</sup> mod M => ( x * x<sup>n-1</sup>) % M\n",
    "- x<sup>n</sup> mod M => { <br>\n",
    "    <span style=\"color:red\">{ (x<sup>n/2</sup> % M) * (x<sup>n/2</sup> % M) } % M, if n is EVEN</span>\n",
    "    <br>\n",
    "    <span style=\"color:red\">{ (x % M) * (x <sup>n-1</sup> % M) } % M, if n is ODD</span>\n",
    "    <br>\n",
    "    <span style=\"color:red\"> 1, if n is 0</span>\n",
    "    <br>\n",
    "}"
   ]
  },
  {
   "cell_type": "code",
   "execution_count": 47,
   "id": "0f45ab64-59d5-4769-b0d1-4224e2c3145d",
   "metadata": {},
   "outputs": [],
   "source": [
    "def mod_Expo(x,n,M):\n",
    "    if n == 0:\n",
    "        return 1\n",
    "    elif n%2 == 0:\n",
    "        res = mod_Expo(x,n/2,M)\n",
    "        return (res * res) % M\n",
    "    else:\n",
    "        res = mod_Expo(x,n-1,M)\n",
    "        return (x * res) % M \n",
    "        # return { (x % M) * (mod_Expo(x,n-1,M))} % M"
   ]
  },
  {
   "cell_type": "code",
   "execution_count": 48,
   "id": "57219320-8d22-4fe8-81cd-798a9be1d437",
   "metadata": {},
   "outputs": [
    {
     "data": {
      "text/plain": [
       "6"
      ]
     },
     "execution_count": 48,
     "metadata": {},
     "output_type": "execute_result"
    }
   ],
   "source": [
    "mod_Expo(5,3,7)"
   ]
  },
  {
   "cell_type": "markdown",
   "id": "bd65b7f1-01d1-4de0-b6d3-d3b9017be7c1",
   "metadata": {},
   "source": [
    "# Count ways to reach nth stair"
   ]
  },
  {
   "cell_type": "markdown",
   "id": "8a5a85fb-c9f4-4f91-be25-0f5310391f74",
   "metadata": {},
   "source": [
    "## METHOD 1\n",
    "<h3>Using Finonacci</h3>\n",
    "<br>\n",
    "\n",
    "- stair_Ways(1) = Fib(2) = 1<br>\n",
    "- stair_Ways(2) = Fib(3) = 2<br>\n",
    "- stair_Ways(s) = Fib(n+1)<br>\n",
    "- n => target\n",
    "- m => max steps that can be taken \n",
    "\n",
    "<h4> Time => O(2<sup>n</sup>)\n",
    "    <br>\n",
    " Space => O(1) </h4>"
   ]
  },
  {
   "cell_type": "code",
   "execution_count": 49,
   "id": "55f2623e-98e2-4bbe-975e-8980a4fe9235",
   "metadata": {},
   "outputs": [],
   "source": [
    "def countWays(n,m):\n",
    "    if n <= 1:\n",
    "        return n\n",
    "    \n",
    "    res = 0\n",
    "    i = 1\n",
    "    while i<=m and i<=n:\n",
    "        res += countWays(n-i, m)\n",
    "        i += 1\n",
    "    return res\n",
    "    \n",
    "def stair_Ways(s, m):\n",
    "    return countWays(s+1, m)"
   ]
  },
  {
   "cell_type": "code",
   "execution_count": 50,
   "id": "5fdce1ce-a534-44dc-ad23-503252778541",
   "metadata": {},
   "outputs": [
    {
     "data": {
      "text/plain": [
       "5"
      ]
     },
     "execution_count": 50,
     "metadata": {},
     "output_type": "execute_result"
    }
   ],
   "source": [
    "stair_Ways(4, 2)"
   ]
  },
  {
   "cell_type": "markdown",
   "id": "5e53d704-a9ef-424b-b48b-ff972b2bbab5",
   "metadata": {},
   "source": [
    "# METHOD 2\n",
    "<h3>Using DP </h3>\n",
    "\n",
    "- res[i] = res[i] + res[i-j] for every (i-j) >= 0\n",
    "    \n",
    "<h4>Time => O(m*n)\n",
    "    <br>\n",
    "    Space => O(n)</h4>"
   ]
  },
  {
   "cell_type": "code",
   "execution_count": 51,
   "id": "81e72934-fe06-4b6f-9187-e94b33aaaf3f",
   "metadata": {},
   "outputs": [],
   "source": [
    "def countWays(n, m):\n",
    "    res = [0 for i in range(n)]\n",
    "    res[0], res[1] = 1, 1\n",
    "    \n",
    "    for i in range(2, n): # Stairs from 2+ onwards\n",
    "        j = 1 # Check the max steps that can be taken\n",
    "        while j <= m and j <= i:\n",
    "            res[i] += res[i-j]\n",
    "            j += 1\n",
    "    return res[n-1]\n",
    "    \n",
    "def stair_Ways_1(s, m):\n",
    "    return countWays(s+1, m)"
   ]
  },
  {
   "cell_type": "code",
   "execution_count": 52,
   "id": "b252cfcb-df15-4c17-b10b-488d1ff77d6c",
   "metadata": {},
   "outputs": [
    {
     "data": {
      "text/plain": [
       "8"
      ]
     },
     "execution_count": 52,
     "metadata": {},
     "output_type": "execute_result"
    }
   ],
   "source": [
    "stair_Ways_1(5,2)"
   ]
  },
  {
   "cell_type": "markdown",
   "id": "61ce318b-c345-41fd-814f-a34b2b5ada86",
   "metadata": {},
   "source": [
    "# METHOD 3\n",
    "<h3>Using Sliding Window </h3>\n",
    "    \n",
    "<h4>Time => O(n)\n",
    "    <br>\n",
    "    Space => O(n)</h4>"
   ]
  },
  {
   "cell_type": "code",
   "execution_count": 53,
   "id": "963a1536-a4a5-4fe6-901d-57acaccabbb4",
   "metadata": {},
   "outputs": [],
   "source": [
    "def stair_Ways_2(n, m):\n",
    "    temp = 0\n",
    "    res = [1]\n",
    "    \n",
    "    for i in range(1, n + 1):\n",
    "        start = i - m - 1\n",
    "        end = i - 1\n",
    "        \n",
    "        if (start >= 0):\n",
    "            temp -= res[start]\n",
    "        temp += res[end]\n",
    "        res.append(temp)\n",
    "    \n",
    "    return res[n]"
   ]
  },
  {
   "cell_type": "code",
   "execution_count": 54,
   "id": "029cea4e-6f07-49b0-9cb5-c3b5c408f5aa",
   "metadata": {},
   "outputs": [
    {
     "data": {
      "text/plain": [
       "8"
      ]
     },
     "execution_count": 54,
     "metadata": {},
     "output_type": "execute_result"
    }
   ],
   "source": [
    "stair_Ways_2(5, 2)"
   ]
  },
  {
   "cell_type": "markdown",
   "id": "42bbc0a7-43e8-40e9-94c5-06855efe2b50",
   "metadata": {},
   "source": [
    "# METHOD 4\n",
    "<h3>Using Simple Math </h3>\n",
    "- Used only if order does not matter\n",
    "\n",
    "- Above for s = 4 => {1, 1, 1}, {1, 1, 2}, {1, 2, 1}, {2, 1, 1}, {2, 2} \n",
    "\n",
    "- Here s= 4 => {1, 1, 2}, {1, 2, 1}, {2, 1, 1}\n",
    "<h4>Time => O(1)\n",
    "    <br>\n",
    "    Space => O(1)</h4>"
   ]
  },
  {
   "cell_type": "code",
   "execution_count": 55,
   "id": "f8a6cb07-dac0-47ad-b64a-900602b0f230",
   "metadata": {},
   "outputs": [],
   "source": [
    "def stair_Ways_3(s):\n",
    "    return 1 + ( s // 2 )"
   ]
  },
  {
   "cell_type": "code",
   "execution_count": 56,
   "id": "6c8fc132-e35e-4a6b-8176-4459a716f2c4",
   "metadata": {},
   "outputs": [
    {
     "data": {
      "text/plain": [
       "3"
      ]
     },
     "execution_count": 56,
     "metadata": {},
     "output_type": "execute_result"
    }
   ],
   "source": [
    "stair_Ways_3(4)"
   ]
  }
 ],
 "metadata": {
  "kernelspec": {
   "display_name": "Python 3",
   "language": "python",
   "name": "python3"
  },
  "language_info": {
   "codemirror_mode": {
    "name": "ipython",
    "version": 3
   },
   "file_extension": ".py",
   "mimetype": "text/x-python",
   "name": "python",
   "nbconvert_exporter": "python",
   "pygments_lexer": "ipython3",
   "version": "3.9.1"
  }
 },
 "nbformat": 4,
 "nbformat_minor": 5
}
