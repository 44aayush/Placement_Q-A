{
 "cells": [
  {
   "cell_type": "markdown",
   "id": "52843163",
   "metadata": {},
   "source": [
    "# Unique \n",
    "\n",
    "Determine if string has all unique characters or not"
   ]
  },
  {
   "cell_type": "code",
   "execution_count": 229,
   "id": "742b415d",
   "metadata": {},
   "outputs": [],
   "source": [
    "def is_Unique(string):\n",
    "    return False if len(set(string)) < len(string) else True"
   ]
  },
  {
   "cell_type": "code",
   "execution_count": 230,
   "id": "91fb1bea",
   "metadata": {},
   "outputs": [
    {
     "data": {
      "text/plain": [
       "False"
      ]
     },
     "execution_count": 230,
     "metadata": {},
     "output_type": "execute_result"
    }
   ],
   "source": [
    "is_Unique(\"unique\")"
   ]
  },
  {
   "cell_type": "code",
   "execution_count": 231,
   "id": "29fa35ff",
   "metadata": {},
   "outputs": [
    {
     "data": {
      "text/plain": [
       "True"
      ]
     },
     "execution_count": 231,
     "metadata": {},
     "output_type": "execute_result"
    }
   ],
   "source": [
    "is_Unique(\"bear\")"
   ]
  },
  {
   "cell_type": "markdown",
   "id": "701846fb",
   "metadata": {},
   "source": [
    "# Permutation\n",
    "\n",
    "Check if one string is permutation of the other"
   ]
  },
  {
   "cell_type": "code",
   "execution_count": 232,
   "id": "7f8f5979",
   "metadata": {},
   "outputs": [],
   "source": [
    "def is_Permutation(s1,s2):\n",
    "    s1 = s1.replace(\" \",\"\")\n",
    "    s2 = s2.replace(\" \",\"\")\n",
    "    \n",
    "    if len(s1) != len(s2):\n",
    "        return False\n",
    "    \n",
    "    for i in s1:\n",
    "        if i in s2:\n",
    "            s2 = s2.replace(i,\"\")\n",
    "    \n",
    "    return len(s2) == 0"
   ]
  },
  {
   "cell_type": "code",
   "execution_count": 233,
   "id": "67d4d658",
   "metadata": {},
   "outputs": [
    {
     "data": {
      "text/plain": [
       "True"
      ]
     },
     "execution_count": 233,
     "metadata": {},
     "output_type": "execute_result"
    }
   ],
   "source": [
    "is_Permutation(\"ABC\",\"BCA\")"
   ]
  },
  {
   "cell_type": "code",
   "execution_count": 234,
   "id": "f414b8f6",
   "metadata": {},
   "outputs": [
    {
     "data": {
      "text/plain": [
       "False"
      ]
     },
     "execution_count": 234,
     "metadata": {},
     "output_type": "execute_result"
    }
   ],
   "source": [
    "is_Permutation(\"cow gives milk\", \"cow give silk\")"
   ]
  },
  {
   "cell_type": "markdown",
   "id": "8031eab6",
   "metadata": {},
   "source": [
    "# Palindrome \n",
    "\n",
    "Check if string is palindrome or not"
   ]
  },
  {
   "cell_type": "code",
   "execution_count": 235,
   "id": "2a3d2a4f",
   "metadata": {},
   "outputs": [],
   "source": [
    "import re\n",
    "\n",
    "def is_Palindrome(s):\n",
    "    s = s.lower()\n",
    "    s = re.sub('\\W+','',s) #Remove any punctuation, whitespaces...\n",
    "    \n",
    "    return s == s[::-1]"
   ]
  },
  {
   "cell_type": "code",
   "execution_count": 236,
   "id": "4d57041b",
   "metadata": {},
   "outputs": [
    {
     "data": {
      "text/plain": [
       "True"
      ]
     },
     "execution_count": 236,
     "metadata": {},
     "output_type": "execute_result"
    }
   ],
   "source": [
    "is_Palindrome(\"mom\")"
   ]
  },
  {
   "cell_type": "code",
   "execution_count": 237,
   "id": "91fa69c5",
   "metadata": {},
   "outputs": [
    {
     "data": {
      "text/plain": [
       "True"
      ]
     },
     "execution_count": 237,
     "metadata": {},
     "output_type": "execute_result"
    }
   ],
   "source": [
    "is_Palindrome(\"ma'am\")"
   ]
  },
  {
   "cell_type": "markdown",
   "id": "520923b7",
   "metadata": {},
   "source": [
    "# Two Sum\n",
    "\n",
    "Return Indices of the numbers that add upto the sum"
   ]
  },
  {
   "cell_type": "code",
   "execution_count": 238,
   "id": "83e9dd6b",
   "metadata": {},
   "outputs": [],
   "source": [
    "def two_Sum(lst, target):\n",
    "    for i in range(0,len(lst)):\n",
    "        for j in range(1,len(lst)):\n",
    "            if lst[i]+lst[j] == target:\n",
    "                return i,j"
   ]
  },
  {
   "cell_type": "code",
   "execution_count": 239,
   "id": "852fbe6d",
   "metadata": {},
   "outputs": [],
   "source": [
    "def two_Sum_1(lst, target):\n",
    "    if len(lst) <= 1: return False\n",
    "    \n",
    "    h = {}\n",
    "    for i in range(len(lst)):\n",
    "        if lst[i] in h:\n",
    "            return [h[lst[i]], i]\n",
    "        else:\n",
    "            h[target - lst[i]] = i"
   ]
  },
  {
   "cell_type": "code",
   "execution_count": 240,
   "id": "c60b88a2",
   "metadata": {},
   "outputs": [
    {
     "data": {
      "text/plain": [
       "[2, 3]"
      ]
     },
     "execution_count": 240,
     "metadata": {},
     "output_type": "execute_result"
    }
   ],
   "source": [
    "target = 9\n",
    "lst = [2,3,4,5,8]\n",
    "two_Sum_1(lst, target)"
   ]
  },
  {
   "cell_type": "code",
   "execution_count": 241,
   "id": "89d7daa3",
   "metadata": {},
   "outputs": [
    {
     "data": {
      "text/plain": [
       "[0, 4]"
      ]
     },
     "execution_count": 241,
     "metadata": {},
     "output_type": "execute_result"
    }
   ],
   "source": [
    "target = 9\n",
    "lst = [2,3,4,1,7]\n",
    "two_Sum_1(lst, target)"
   ]
  },
  {
   "cell_type": "markdown",
   "id": "7105b912",
   "metadata": {},
   "source": [
    "# Fizz Buzz\n",
    "\n",
    "If number divisble by 3 => Fizz\n",
    "If number divisble by 5 => Buzz\n",
    "If number divisble by both 3 and 5 => FizzBuzz"
   ]
  },
  {
   "cell_type": "code",
   "execution_count": 242,
   "id": "fd1bf3e0",
   "metadata": {},
   "outputs": [],
   "source": [
    "def fizzBuzz(num):\n",
    "    for i in range(1, num+1):\n",
    "        if i % 15 == 0:\n",
    "            print(\"FizzBuzz\")\n",
    "                  \n",
    "        elif i % 3 == 0: \n",
    "            print(\"Fizz\")\n",
    "        \n",
    "        elif i % 5 == 0:\n",
    "            print(\"Buzz\")\n",
    "  \n",
    "        else:\n",
    "            print(i)"
   ]
  },
  {
   "cell_type": "code",
   "execution_count": 243,
   "id": "3ee5ebf2",
   "metadata": {},
   "outputs": [
    {
     "name": "stdout",
     "output_type": "stream",
     "text": [
      "1\n",
      "2\n",
      "Fizz\n",
      "4\n",
      "Buzz\n",
      "Fizz\n",
      "7\n",
      "8\n",
      "Fizz\n",
      "Buzz\n",
      "11\n",
      "Fizz\n",
      "13\n",
      "14\n",
      "FizzBuzz\n"
     ]
    }
   ],
   "source": [
    "fizzBuzz(15)"
   ]
  },
  {
   "cell_type": "markdown",
   "id": "0942b640",
   "metadata": {},
   "source": [
    "# Single number problem\n",
    "\n",
    "Return an array that appers only once in the list of numbers that are two in count max"
   ]
  },
  {
   "cell_type": "code",
   "execution_count": 244,
   "id": "6fad73a6-76d5-406e-b8b2-602105aaba75",
   "metadata": {},
   "outputs": [],
   "source": [
    "def singleNumProb(lst):\n",
    "    op = 0\n",
    "    for i in range(len(lst)):\n",
    "        op ^= lst[i]\n",
    "    \n",
    "    return op    "
   ]
  },
  {
   "cell_type": "code",
   "execution_count": 245,
   "id": "d311a72b-e27a-4ce9-af85-8660b43034d0",
   "metadata": {},
   "outputs": [
    {
     "name": "stdout",
     "output_type": "stream",
     "text": [
      "3\n"
     ]
    }
   ],
   "source": [
    "lst = [1, 2, 3, 2, 1]\n",
    "print(singleNumProb(lst))"
   ]
  },
  {
   "cell_type": "code",
   "execution_count": 246,
   "id": "6798113b-107a-42bb-8ea4-1036e163f21f",
   "metadata": {},
   "outputs": [
    {
     "name": "stdout",
     "output_type": "stream",
     "text": [
      "5\n"
     ]
    }
   ],
   "source": [
    "lst = [1, 2, 3, 2, 1, 3, 4, 4, 5, 6, 7, 7, 6]\n",
    "print(singleNumProb(lst))"
   ]
  },
  {
   "cell_type": "markdown",
   "id": "e986a232-e03b-4b74-bf22-8927b5e19d59",
   "metadata": {},
   "source": [
    "# Factorial\n",
    "\n",
    "Iterative and Recursive"
   ]
  },
  {
   "cell_type": "code",
   "execution_count": 247,
   "id": "c7c6443e-cb68-4cc8-a78d-c4995d82ab75",
   "metadata": {},
   "outputs": [],
   "source": [
    "def recursiveFactorial(num):\n",
    "    if num <= 1: return 1\n",
    "    else:\n",
    "        return num * recursiveFactorial(num-1)"
   ]
  },
  {
   "cell_type": "code",
   "execution_count": 248,
   "id": "c3db0b1f-21f1-4ccc-88e1-824546ba73f2",
   "metadata": {},
   "outputs": [],
   "source": [
    "def iterativeFactorial(num):\n",
    "    res = 1\n",
    "    for i in range(num, 0, -1):\n",
    "        res *= i\n",
    "    \n",
    "    return res"
   ]
  },
  {
   "cell_type": "code",
   "execution_count": 249,
   "id": "d6434175-3212-469c-8508-a80c48f54313",
   "metadata": {},
   "outputs": [
    {
     "name": "stdout",
     "output_type": "stream",
     "text": [
      "24\n",
      "120\n"
     ]
    }
   ],
   "source": [
    "print(recursiveFactorial(4))\n",
    "print(iterativeFactorial(5))"
   ]
  },
  {
   "cell_type": "markdown",
   "id": "a71f1f36-b657-40e5-ae35-62c453c8353f",
   "metadata": {},
   "source": [
    "# URLify\n",
    "\n",
    "Replace all spaces with \"%20\""
   ]
  },
  {
   "cell_type": "code",
   "execution_count": 250,
   "id": "6e3ecf83-5352-4810-bd52-38aa31386b91",
   "metadata": {},
   "outputs": [],
   "source": [
    "def urlify(string):\n",
    "#     return ''.join(string.replace(\" \",\"%20\")) \n",
    "    return '%20'.join(string.split())"
   ]
  },
  {
   "cell_type": "code",
   "execution_count": 251,
   "id": "5f688ab7-1281-47fd-9268-434a50f68df0",
   "metadata": {},
   "outputs": [
    {
     "name": "stdout",
     "output_type": "stream",
     "text": [
      "bac%20adefas%20asdasd\n"
     ]
    }
   ],
   "source": [
    "print(urlify(\"bac adefas asdasd  \"))"
   ]
  },
  {
   "cell_type": "markdown",
   "id": "937d30de-88cf-45dc-b587-c38c2e318d23",
   "metadata": {},
   "source": [
    "# Anagram\n",
    "\n",
    "An anagram of a string is another string that contains same characters, only the order of characters can be different"
   ]
  },
  {
   "cell_type": "code",
   "execution_count": 252,
   "id": "6c2f8613-6740-437d-8b3a-fdad75c02b81",
   "metadata": {},
   "outputs": [],
   "source": [
    "def is_Anagram(s1, s2):\n",
    "    s1 = ''.join(sorted(s1)).lower()\n",
    "    s2 = ''.join(sorted(s2)).lower()\n",
    "    \n",
    "    if len(s1) != len(s2): return False\n",
    "    \n",
    "    for i in s1:\n",
    "        if i in s2:\n",
    "            s2 = s2.replace(i,\"\")\n",
    "    \n",
    "    return len(s2) == 0"
   ]
  },
  {
   "cell_type": "code",
   "execution_count": 253,
   "id": "52293034-04ee-46d9-8e2a-9eaa57e3fc69",
   "metadata": {},
   "outputs": [],
   "source": [
    "def is_Anagram_1(s1, s2):\n",
    "    s1 = s1.replace(\" \",\"\").lower()\n",
    "    s2 = s2.replace(\" \",\"\").lower()\n",
    "       \n",
    "    if len(s1) != len(s2): return False\n",
    "    \n",
    "    alphabets = \"abcdefghijklmnopqrstuvwxyz\"\n",
    "    dict_s1 = dict.fromkeys(list(alphabets), 0)\n",
    "    dict_s2 = dict.fromkeys(list(alphabets), 0)\n",
    "    \n",
    "    for i in range(len(s1)):\n",
    "        dict_s1[s1[i]] += 1\n",
    "        dict_s2[s2[i]] += 1\n",
    "    \n",
    "    print(dict_s1,\"\\n\\n\\n\", dict_s2)\n",
    "    return dict_s1 == dict_s2"
   ]
  },
  {
   "cell_type": "code",
   "execution_count": 254,
   "id": "bce6827b-3e6d-4c28-b1c3-f5677657f0b7",
   "metadata": {},
   "outputs": [
    {
     "data": {
      "text/plain": [
       "True"
      ]
     },
     "execution_count": 254,
     "metadata": {},
     "output_type": "execute_result"
    }
   ],
   "source": [
    "is_Anagram(\"Practise makes Perfect\", \"perfect makes Practise\")"
   ]
  },
  {
   "cell_type": "code",
   "execution_count": 255,
   "id": "76b30395-0add-47d9-84a5-97f26c081aff",
   "metadata": {},
   "outputs": [
    {
     "name": "stdout",
     "output_type": "stream",
     "text": [
      "{'a': 0, 'b': 0, 'c': 0, 'd': 0, 'e': 1, 'f': 0, 'g': 0, 'h': 1, 'i': 0, 'j': 0, 'k': 0, 'l': 2, 'm': 0, 'n': 0, 'o': 1, 'p': 0, 'q': 0, 'r': 0, 's': 0, 't': 0, 'u': 0, 'v': 0, 'w': 0, 'x': 0, 'y': 0, 'z': 0} \n",
      "\n",
      "\n",
      " {'a': 0, 'b': 0, 'c': 0, 'd': 0, 'e': 1, 'f': 0, 'g': 0, 'h': 1, 'i': 0, 'j': 0, 'k': 0, 'l': 0, 'm': 0, 'n': 0, 'o': 0, 'p': 0, 'q': 0, 'r': 0, 's': 0, 't': 0, 'u': 0, 'v': 0, 'w': 0, 'x': 0, 'y': 3, 'z': 0}\n"
     ]
    },
    {
     "data": {
      "text/plain": [
       "False"
      ]
     },
     "execution_count": 255,
     "metadata": {},
     "output_type": "execute_result"
    }
   ],
   "source": [
    "is_Anagram_1(\"Hello\", \"Heyyy\")"
   ]
  },
  {
   "cell_type": "markdown",
   "id": "80b70bea-fac4-4602-a5b7-9a2093ba8ba2",
   "metadata": {},
   "source": [
    "# String Compression\n",
    "\n",
    "Basic compression based on counts of repeated characters\n",
    "- aaaabbbccccd => a4b3c4d1\n",
    "- aabccaaa => a2b1c2a3\n",
    "- abcd => abcd"
   ]
  },
  {
   "cell_type": "code",
   "execution_count": 256,
   "id": "47810227-76db-4cad-8f8a-4cc2b4bde1ca",
   "metadata": {},
   "outputs": [],
   "source": [
    "def stringCompression(s):\n",
    "    comp_str = \"\"\n",
    "    c = 1\n",
    "    \n",
    "    for i in range(len(s)-1):\n",
    "        if s[i] == s[i+1]:\n",
    "            c += 1\n",
    "        else:\n",
    "            comp_str += s[i] + str(c)\n",
    "            c = 1 #set the count to 1 for other character value\n",
    "    \n",
    "    #Last repeating characters that have been iterated before\n",
    "    comp_str += s[i] + str(c)\n",
    " \n",
    "    if len(comp_str) >= len(s):\n",
    "        return s\n",
    "    else:\n",
    "        return comp_str"
   ]
  },
  {
   "cell_type": "code",
   "execution_count": 257,
   "id": "ad8e3556-7883-46d8-9c75-7b51ca0eda36",
   "metadata": {},
   "outputs": [
    {
     "data": {
      "text/plain": [
       "'a4b3c4c1'"
      ]
     },
     "execution_count": 257,
     "metadata": {},
     "output_type": "execute_result"
    }
   ],
   "source": [
    "stringCompression(\"aaaabbbccccd\")"
   ]
  },
  {
   "cell_type": "code",
   "execution_count": 258,
   "id": "079427cc-0993-45f7-a435-919d3d574ebc",
   "metadata": {},
   "outputs": [
    {
     "data": {
      "text/plain": [
       "'a5b1c2a3'"
      ]
     },
     "execution_count": 258,
     "metadata": {},
     "output_type": "execute_result"
    }
   ],
   "source": [
    "stringCompression(\"aaaaabccaaa\")"
   ]
  },
  {
   "cell_type": "code",
   "execution_count": 259,
   "id": "70beadd1-8853-4338-8a39-b545785c3269",
   "metadata": {},
   "outputs": [
    {
     "data": {
      "text/plain": [
       "'abcd'"
      ]
     },
     "execution_count": 259,
     "metadata": {},
     "output_type": "execute_result"
    }
   ],
   "source": [
    "stringCompression(\"abcd\")"
   ]
  },
  {
   "cell_type": "markdown",
   "id": "a82f3912-1734-45df-ac3a-c4c6c560a149",
   "metadata": {},
   "source": [
    "# String Rotation\n",
    "\n",
    "- bottle => elttob"
   ]
  },
  {
   "cell_type": "code",
   "execution_count": 260,
   "id": "0e4998cb-32e4-4f53-9928-fa661959a386",
   "metadata": {},
   "outputs": [],
   "source": [
    "def is_StringRotation(s1, s2):\n",
    "    if len(s1) != len(s2): return False\n",
    "    \n",
    "    s1 = s1.lower()\n",
    "    s2 = s2.lower()\n",
    "    s1 = s1[::-1]\n",
    "    \n",
    "    return s1 == s2"
   ]
  },
  {
   "cell_type": "code",
   "execution_count": 261,
   "id": "664d6d6c-2382-4838-98c9-df85b05b960f",
   "metadata": {},
   "outputs": [],
   "source": [
    "import string\n",
    "\n",
    "def is_StringRotation_1(s1,s2):\n",
    "    if len(s1) != len(s2): return False\n",
    "    \n",
    "    s1 = s1.lower().replace(\" \",\"\")\n",
    "    s2 = s2.lower().replace(\" \",\"\")\n",
    "    \n",
    "    dict_1 = dict.fromkeys(list(string.ascii_lowercase), 0)\n",
    "    dict_2 = dict.fromkeys(list(string.ascii_lowercase), 0)\n",
    "\n",
    "    for i in range(len(s1)):\n",
    "        dict_1[s1[i]] += 1\n",
    "        dict_2[s2[i]] += 1\n",
    "    \n",
    "    return dict_1 == dict_2 "
   ]
  },
  {
   "cell_type": "code",
   "execution_count": 262,
   "id": "36a5ebca-034f-4c50-85a4-538e220b13e9",
   "metadata": {},
   "outputs": [
    {
     "data": {
      "text/plain": [
       "True"
      ]
     },
     "execution_count": 262,
     "metadata": {},
     "output_type": "execute_result"
    }
   ],
   "source": [
    "is_StringRotation(\"boTtle\",\"elttob\")"
   ]
  },
  {
   "cell_type": "code",
   "execution_count": 263,
   "id": "10aefff9-e2c8-4467-8f8f-df38f166b873",
   "metadata": {},
   "outputs": [
    {
     "data": {
      "text/plain": [
       "True"
      ]
     },
     "execution_count": 263,
     "metadata": {},
     "output_type": "execute_result"
    }
   ],
   "source": [
    "is_StringRotation_1(\"boTtle\",\"elTtob\")"
   ]
  },
  {
   "cell_type": "markdown",
   "id": "59f707b3-7471-42fa-a2f8-65447e60d25a",
   "metadata": {},
   "source": [
    "# Word Rotation "
   ]
  },
  {
   "cell_type": "code",
   "execution_count": 264,
   "id": "9260d122-9939-4589-8a0b-9901802aa974",
   "metadata": {},
   "outputs": [],
   "source": [
    "def wordRotation(s):\n",
    "    s = s[::-1]\n",
    "    print(s)\n",
    "#Don't want to rotate the characters in a word"
   ]
  },
  {
   "cell_type": "code",
   "execution_count": 265,
   "id": "a2ff899b-ec5d-4a7e-a665-5caf80ef7392",
   "metadata": {},
   "outputs": [
    {
     "name": "stdout",
     "output_type": "stream",
     "text": [
      "erolagnaB ni evil I\n"
     ]
    }
   ],
   "source": [
    "wordRotation(\"I live in Bangalore\")"
   ]
  },
  {
   "cell_type": "code",
   "execution_count": 266,
   "id": "97878a09-4da6-466d-b3aa-17bd8df29bc9",
   "metadata": {},
   "outputs": [],
   "source": [
    "def wordRotation_1(s):\n",
    "#     s1 = s.split()\n",
    "# #     s1.reverse()\n",
    "#     s1 = s1[::-1]\n",
    "#     s = \" \".join(s1)\n",
    "#     print(s)\n",
    "    \n",
    "# Single liner\n",
    "    s = \" \".join(s.split(\" \")[::-1])\n",
    "    print(s)"
   ]
  },
  {
   "cell_type": "code",
   "execution_count": 267,
   "id": "fa7435a5-982a-4e98-aabe-225be91b4704",
   "metadata": {},
   "outputs": [
    {
     "name": "stdout",
     "output_type": "stream",
     "text": [
      "Bangalore in live I\n"
     ]
    }
   ],
   "source": [
    "wordRotation_1(\"I live in Bangalore\")"
   ]
  },
  {
   "cell_type": "markdown",
   "id": "850fc8e0-f03f-443f-af20-2d2594ac2f2c",
   "metadata": {},
   "source": [
    "# Matrix Median\n",
    "\n",
    "Given N cross M matrix in which each row is sorted, find the overall median of the matrix"
   ]
  },
  {
   "cell_type": "code",
   "execution_count": 268,
   "id": "510867cf-96d4-4564-b71f-9f06ba910e0e",
   "metadata": {},
   "outputs": [],
   "source": [
    "def matrixMedian(A):\n",
    "    if len(A) == 1:\n",
    "        vec = A[0]\n",
    "        return vec[len(vec)//2]\n",
    "    else:\n",
    "        new_lst = []\n",
    "        for row in range(len(A)):\n",
    "            new_lst.extend(A[row])\n",
    "        print(new_lst)\n",
    "        new_lst.sort()\n",
    "        \n",
    "    return new_lst[len(new_lst)//2]"
   ]
  },
  {
   "cell_type": "code",
   "execution_count": 269,
   "id": "d76977bf-41de-4956-8d67-b2de9d01299e",
   "metadata": {},
   "outputs": [
    {
     "name": "stdout",
     "output_type": "stream",
     "text": [
      "[1, 3, 5, 2, 6, 9, 3, 6, 9]\n"
     ]
    },
    {
     "data": {
      "text/plain": [
       "5"
      ]
     },
     "execution_count": 269,
     "metadata": {},
     "output_type": "execute_result"
    }
   ],
   "source": [
    "r1 = [1,3,5]\n",
    "r2 = [2,6,9]\n",
    "r3 = [3,6,9]\n",
    "A = [r1,r2,r3]\n",
    "matrixMedian(A)"
   ]
  },
  {
   "cell_type": "markdown",
   "id": "f15ae273-3f08-4c11-ba7c-095c6b9b9672",
   "metadata": {},
   "source": [
    "# Count 1s in Binary\n",
    "\n",
    "- 101000111 => 5\n",
    "- 10101 => 3"
   ]
  },
  {
   "cell_type": "code",
   "execution_count": 270,
   "id": "68e6914f-55e2-40e8-9428-1bbb52ba9df8",
   "metadata": {},
   "outputs": [],
   "source": [
    "def count_1s(x):\n",
    "    c = 0\n",
    "    for i in x:\n",
    "        c += int(i)\n",
    "#         if i == \"1\": c += 1\n",
    "    return c"
   ]
  },
  {
   "cell_type": "code",
   "execution_count": 271,
   "id": "014796b7-8505-4d59-b39c-ba58fe06ab2e",
   "metadata": {},
   "outputs": [
    {
     "data": {
      "text/plain": [
       "5"
      ]
     },
     "execution_count": 271,
     "metadata": {},
     "output_type": "execute_result"
    }
   ],
   "source": [
    "count_1s(\"101000111\")"
   ]
  },
  {
   "cell_type": "code",
   "execution_count": 272,
   "id": "6cdb1e92-3813-4ffe-9867-91e9df876dd7",
   "metadata": {},
   "outputs": [],
   "source": [
    "# Convert decimal to Bin and count 1s\n",
    "def count_1s_FromDecimal(num):\n",
    "    x = bin(num)[2:]\n",
    "    print(x)\n",
    "    return count_1s(x)"
   ]
  },
  {
   "cell_type": "code",
   "execution_count": 273,
   "id": "38f6aa07-88d2-423d-a5c6-24829dc419e8",
   "metadata": {},
   "outputs": [
    {
     "name": "stdout",
     "output_type": "stream",
     "text": [
      "1011\n"
     ]
    },
    {
     "data": {
      "text/plain": [
       "3"
      ]
     },
     "execution_count": 273,
     "metadata": {},
     "output_type": "execute_result"
    }
   ],
   "source": [
    "count_1s_FromDecimal(11)"
   ]
  },
  {
   "cell_type": "markdown",
   "id": "b5b3aff6-11af-4377-8139-df05f7c9aec3",
   "metadata": {},
   "source": [
    "# First Duplicate"
   ]
  },
  {
   "cell_type": "code",
   "execution_count": 18,
   "id": "0103afe9-b91f-4293-b593-e29e3f8e89f6",
   "metadata": {},
   "outputs": [],
   "source": [
    "def firstDup(a, n):\n",
    "    h = {}\n",
    "    for i in range(n):\n",
    "        if a[i] in h:\n",
    "            return a[i]\n",
    "        else:\n",
    "            h[a[i]] = 1\n",
    "    return -1\n",
    "\n",
    "# Space Complexity due to Hash"
   ]
  },
  {
   "cell_type": "code",
   "execution_count": 14,
   "id": "8aeb968e-d32f-4a00-9e94-cb3df3955889",
   "metadata": {},
   "outputs": [],
   "source": [
    "def firstDup_2(a, n):\n",
    "    for i in range(n):\n",
    "        if a[abs(a[i])-1] < 0:\n",
    "            return abs(a[i])\n",
    "        else:\n",
    "            a[abs(a[i])-1] = -a[abs(a[i])-1]\n",
    "    return -1"
   ]
  },
  {
   "cell_type": "code",
   "execution_count": 15,
   "id": "b57eaf42-e5f4-470d-886d-10cb87a9302d",
   "metadata": {},
   "outputs": [
    {
     "name": "stdout",
     "output_type": "stream",
     "text": [
      "-1\n"
     ]
    }
   ],
   "source": [
    "arr = [1,2,3,4,5]\n",
    "print(firstDup_2(arr, len(arr)))"
   ]
  },
  {
   "cell_type": "code",
   "execution_count": 16,
   "id": "a2d97f01-ff12-4c54-bfc4-889e15a55766",
   "metadata": {},
   "outputs": [
    {
     "name": "stdout",
     "output_type": "stream",
     "text": [
      "3\n"
     ]
    }
   ],
   "source": [
    "arr = [2,3,4,5,3,2]\n",
    "print(firstDup_2(arr, len(arr)))"
   ]
  },
  {
   "cell_type": "code",
   "execution_count": 17,
   "id": "8e32ae14-cc91-4502-ac72-ca0100afb879",
   "metadata": {},
   "outputs": [
    {
     "name": "stdout",
     "output_type": "stream",
     "text": [
      "1\n"
     ]
    }
   ],
   "source": [
    "arr = [1,2,3,1,2,3]\n",
    "print(firstDup_2(arr, len(arr)))"
   ]
  },
  {
   "cell_type": "markdown",
   "id": "227390c3-e97d-40f0-8497-7580a7392fdf",
   "metadata": {},
   "source": [
    "# NonRepeating Character"
   ]
  },
  {
   "cell_type": "code",
   "execution_count": 22,
   "id": "b1db70e8-6073-40fc-91c9-b8ee5aac8401",
   "metadata": {},
   "outputs": [],
   "source": [
    "def nonRepeat(S):\n",
    "    for i in range(len(S)):\n",
    "        if S.find(S[i]) == S.rindex(S[i]):\n",
    "            return S[i]\n",
    "    return '_'"
   ]
  },
  {
   "cell_type": "code",
   "execution_count": 23,
   "id": "7d7c3a6b-b9ec-4c17-9ce0-c05642002bc4",
   "metadata": {},
   "outputs": [
    {
     "name": "stdout",
     "output_type": "stream",
     "text": [
      "_\n"
     ]
    }
   ],
   "source": [
    "s = 'abcabcabc'\n",
    "print(nonRepeat(s))"
   ]
  },
  {
   "cell_type": "code",
   "execution_count": 24,
   "id": "dff08ea6-946e-4518-9dca-684c7f32a851",
   "metadata": {},
   "outputs": [
    {
     "name": "stdout",
     "output_type": "stream",
     "text": [
      "b\n"
     ]
    }
   ],
   "source": [
    "s = 'aaaabccdeeffff'\n",
    "print(nonRepeat(s))"
   ]
  },
  {
   "cell_type": "code",
   "execution_count": 25,
   "id": "fa7755ea-439e-4702-a46a-9f5aeed6eada",
   "metadata": {},
   "outputs": [
    {
     "name": "stdout",
     "output_type": "stream",
     "text": [
      "f\n"
     ]
    }
   ],
   "source": [
    "s = 'abcabcddeef'\n",
    "print(nonRepeat(s))"
   ]
  },
  {
   "cell_type": "code",
   "execution_count": null,
   "id": "65a54e60-d824-4107-a47c-81cf060801a4",
   "metadata": {},
   "outputs": [],
   "source": []
  }
 ],
 "metadata": {
  "kernelspec": {
   "display_name": "Python 3",
   "language": "python",
   "name": "python3"
  },
  "language_info": {
   "codemirror_mode": {
    "name": "ipython",
    "version": 3
   },
   "file_extension": ".py",
   "mimetype": "text/x-python",
   "name": "python",
   "nbconvert_exporter": "python",
   "pygments_lexer": "ipython3",
   "version": "3.9.1"
  }
 },
 "nbformat": 4,
 "nbformat_minor": 5
}
