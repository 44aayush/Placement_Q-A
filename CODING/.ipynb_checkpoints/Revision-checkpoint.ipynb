{
 "cells": [
  {
   "cell_type": "markdown",
   "id": "87f50388-9774-4e64-95aa-d33f9fd4274e",
   "metadata": {},
   "source": [
    "<h1 style=\"color:red\">CN</h1>"
   ]
  },
  {
   "cell_type": "markdown",
   "id": "e349903d-4b51-4769-8d9c-f5d2b0a8fe07",
   "metadata": {},
   "source": [
    "1. <h4 style=\"color:yellow\">TCP/UDP</h4>\n",
    "<span style=\"color:orange\">TCP</span>\n",
    " - Connection oriented\n",
    " - 3 Way handshake\n",
    " - order of the packet is maintained, and any lost packet is re-transmitted\n",
    "<br>\n",
    "<br>\n",
    "<span style=\"color:orange\">UDP</span>\n",
    " - Not connection oriented\n",
    " - order of packet is not maintained"
   ]
  },
  {
   "cell_type": "markdown",
   "id": "1b367a27-3ab8-4e42-8fd7-116d967095f0",
   "metadata": {},
   "source": [
    "2. <h4 style=\"color:yellow\">ROUTER SWITCHES</h4>\n",
    "<span style=\"color:orange\">ROUTER</span>\n",
    " - connecting device\n",
    " - Acts as a dispatcher and responsibe to find the shortest path for a packet \n",
    " - Network layer\n",
    "<br>\n",
    "<br>\n",
    "<span style=\"color:orange\">SWITCHES</span>\n",
    " - connecting device\n",
    " - connects various devices in a network\n",
    " - Data link layer"
   ]
  },
  {
   "cell_type": "markdown",
   "id": "92390467-6897-4187-af71-f096fd39ee68",
   "metadata": {},
   "source": [
    "3. <h4 style=\"color:yellow\">ROUTING PROTOCOLS</h4>\n",
    "<span style=\"color:orange\">Distance Vector</span>\n",
    " - Selects best path on the basis of hop counts to reach the destination network\n",
    " - RIP => Routing Information Protocol\n",
    "<br>\n",
    "<br>\n",
    "<span style=\"color:orange\">Link State / Shortest Path First</span>\n",
    " - Knows about Internetworks than Distance vector \n",
    " - - Neighbor Table => information about neighbor of the routers\n",
    " - - Topology Table => best and backup route to dest\n",
    " - - Routing Table => best route to dest\n",
    " - OSPF => Open Shortest Path First\n",
    "<br>\n",
    "<br>\n",
    "<span style=\"color:orange\">Advanced Distance Vector</span>\n",
    " - Hybrid protocol\n",
    " - EIGRP => Enhanced Interior Gateway Routing Protocol\n",
    " - - Acts as a link state routing protocol as it uses the concept of Hello protocol for neighbor discovery and forming adjacency\n",
    " - - Acts as distance vector routing protocol as it learned routes from directly connected neighbors"
   ]
  },
  {
   "cell_type": "markdown",
   "id": "c45db766-5ab2-4afd-936e-dcb73bef19a8",
   "metadata": {},
   "source": [
    "4. <h4 style=\"color:yellow\">OSI vs TCP/IP</h4>\n",
    " - - TCP refers to Transmission Control Protocol\n",
    "   - OSI refers to Open Systems Interconnection\n",
    "<br><br>\n",
    " - - TCP/IP has 4 layers\n",
    "   - OSI has 7 layers\n",
    "<br><br>\n",
    " - - TCP/IP follow a horizontal approach.\n",
    "   - OSI uses vertical approach\n",
    "<br><br>\n",
    " - - TCP is more realiable\n",
    "   - OSI is less reliable"
   ]
  },
  {
   "cell_type": "markdown",
   "id": "00837f29-191a-4449-b9c7-b27d0a772df8",
   "metadata": {},
   "source": [
    "5. <h4 style=\"color:yellow\">DNS</h4>\n",
    " - DNS translates domain names to IP addresses so browsers can load Internet resources.\n",
    "<br><br>\n",
    "<span style=\"color:orange\">Reverse DNS</span>\n",
    " - A reverse DNS lookup is a DNS query for the domain name associated with a given IP address. "
   ]
  },
  {
   "cell_type": "markdown",
   "id": "429ab6db-fd8b-42ee-a36f-251b5948a2ea",
   "metadata": {},
   "source": [
    "<h1 style=\"color:red\">OS</h1>"
   ]
  },
  {
   "cell_type": "markdown",
   "id": "fcef5010-652d-40a5-8c10-faa45bab66f3",
   "metadata": {},
   "source": [
    "1. <h4 style=\"color:yellow\">SEMAPHORE</h4>\n",
    " - signaling mechanism to manage concurrent processes by using a simple integer value\n",
    " - used to solve the critical section problem and to achieve process synchronization in the multiprocessing environment\n",
    " - Types: Binary and Counting\n",
    " - Atomic ops: Wait and Signal\n",
    " <br><br>\n",
    " <h4 style=\"color:yellow\">MUTEX</h4>\n",
    " - A mutex is the same as a lock but it can be system wide (shared by multiple processes).\n",
    "<br><br>\n",
    " <h4 style=\"color:yellow\">LOCK</h4>\n",
    " - A lock allows only one thread to enter the part that's locked and the lock is not shared with any other processes."
   ]
  },
  {
   "cell_type": "markdown",
   "id": "18b9f32d-06da-462e-873b-4395522f761b",
   "metadata": {},
   "source": [
    "2. <h4 style=\"color:yellow\">DEADLOCK</h4>\n",
    " -  situation where a set of processes are blocked because each process is holding a resource and waiting for another resource acquired by some other process\n",
    "<br>\n",
    "<br>\n",
    "<span style=\"color:orange\">ARISE</span>\n",
    " - Mutual Exclusion\n",
    " - Hold and Wait\n",
    " - No preemption\n",
    " - Circular Wait\n",
    "<br>\n",
    "<br>\n",
    "<span style=\"color:orange\">HANDLING</span>\n",
    " - Prevention or Avoidance (Banker's algo)\n",
    " - Detectiona and recovery"
   ]
  },
  {
   "cell_type": "markdown",
   "id": "7cda54af-7a66-4372-9aeb-6e081617d3d9",
   "metadata": {},
   "source": [
    "3. <h4 style=\"color:yellow\">DAEMON vs DEMON</h4>\n",
    " - Daemon is a program that runs by itself directly under the operating system continuously and exist for the purpose of handling periodic service requests that a computer system expects to recieve.\n",
    " - Demon is part of a larger application program."
   ]
  },
  {
   "cell_type": "markdown",
   "id": "121ea169-bb61-4aba-bd1a-f466d3667f87",
   "metadata": {},
   "source": [
    "4. <h4 style=\"color:yellow\">VIRTUALISATION</h4>\n",
    " - The process of running a virtual instance of a computer system in a layer abstracted from the actual hardware.\n",
    " - Mostly refers to running multiple operating systems on a computer system simultaneously\n",
    "<br><br>\n",
    "<span style=\"color:orange\">VIRTUAL MEMORY</span>\n",
    " - Virtual Memory is a storage allocation scheme in which secondary memory can be addressed as though it were part of main memory.\n",
    " - All memory references within a process are logical addresses that are dynamically translated into physical addresses at run time.\n",
    "<br><br>\n",
    "<span style=\"color:orange\">THRASHING</span>\n",
    " - Thrashing is a condition or a situation when the system is spending a major portion of its time in servicing the page faults, but the actual processing done is very negligible."
   ]
  },
  {
   "cell_type": "code",
   "execution_count": null,
   "id": "f1eff802-5c8a-4d3e-81fa-a6bf906fbcbd",
   "metadata": {},
   "outputs": [],
   "source": []
  },
  {
   "cell_type": "code",
   "execution_count": null,
   "id": "d6865827-db26-4e0b-a623-6be98b5320c1",
   "metadata": {},
   "outputs": [],
   "source": []
  },
  {
   "cell_type": "markdown",
   "id": "913f8b73-a6d1-4929-8039-3f2c5d7b7b6d",
   "metadata": {},
   "source": [
    "<h1 style=\"color:red\">OOP's and CLOUD</h1>"
   ]
  },
  {
   "cell_type": "markdown",
   "id": "5f8b9425-ebbb-4c7d-a211-781efc8bea6d",
   "metadata": {},
   "source": [
    "1. <h4 style=\"color:yellow\">LINKED LIST</h4>\n",
    " - A linked list is a linear collection of data elements whose order is not given by their physical placement in memory.\n",
    " - Instead, each element points to the next. \n",
    " - It is a data structure consisting of a collection of nodes which together represent a sequence."
   ]
  },
  {
   "cell_type": "markdown",
   "id": "2e1353d0-bc27-41e2-a3a2-807d43fb1908",
   "metadata": {},
   "source": [
    "2. <h4 style=\"color:yellow\">ABSTRACT CLASS & INTERFACE</h4>\n",
    "<span style=\"color:orange\">ABSTRACT CLASS</span>\n",
    " - Blueprint for other classes\n",
    " - An abstract method is a method that has a declaration but does not have an implementation. \n",
    "\n",
    "from abc import ABC, abstractmethod<br>\n",
    "class Polygon(ABC):\n",
    " \n",
    "    @abstractmethod\n",
    "    def noofsides(self):\n",
    "        pass\n",
    " \n",
    "class Triangle(Polygon):\n",
    " \n",
    "    # overriding abstract method\n",
    "    def noofsides(self):\n",
    "        print(\"I have 3 sides\")\n",
    "<br><br>\n",
    "<span style=\"color:orange\">INTERFACE</span>\n",
    " - help determine what class you should use to tackle the current problem"
   ]
  },
  {
   "cell_type": "markdown",
   "id": "2760123d-2a11-4ca3-86b5-cb828e890c70",
   "metadata": {},
   "source": [
    "3. <h4 style=\"color:yellow\">C</h4>\n",
    "<span style=\"color:orange\">GLOBAL VARIABLE</span>\n",
    " - Variable defined outside all functions and available for all functions\n",
    " - Exists till program ends\n",
    "<br><br>\n",
    "<span style=\"color:orange\">STATIC VARIBALE</span>\n",
    " - Maintains value from one function call to another and exists untill the program ends\n",
    " - Either global or local\n",
    " - Default value 0\n",
    "<br><br>\n",
    "<span style=\"color:orange\">VOID</span>\n",
    " - Pointer that has no associated data type with it\n",
    " - Can hold address of any type and can be typcasted to any type"
   ]
  },
  {
   "cell_type": "code",
   "execution_count": null,
   "id": "cb9456c2-2393-44ca-bb03-96b5e98b46c0",
   "metadata": {},
   "outputs": [],
   "source": []
  },
  {
   "cell_type": "markdown",
   "id": "df26fceb-e513-4ac9-ada7-4094fe63f30a",
   "metadata": {},
   "source": [
    "<h1 style=\"color:red\">Coding Q's</h1>"
   ]
  },
  {
   "cell_type": "markdown",
   "id": "0a685ae5-ea5e-4beb-b3c6-6e9f3cdd609a",
   "metadata": {},
   "source": [
    "<h3 style=\"color:yellow\">Expressive Words</h3>"
   ]
  },
  {
   "cell_type": "code",
   "execution_count": 20,
   "id": "90c99e04-aec3-47b5-87e5-460d8e0dc0a7",
   "metadata": {},
   "outputs": [],
   "source": [
    "def expressiveWords(s, words):\n",
    "    return sum(check(s, w) for w in words)\n",
    "\n",
    "def check(s, w):\n",
    "    i, j, n, m = 0, 0, len(s), len(w)\n",
    "    for i in range(n):\n",
    "        if j < m and s[i] == w[j]:\n",
    "            j += 1        \n",
    "        elif s[i-1: i+2] != s[i]*3 != s[i-2: i+1]:\n",
    "            return False\n",
    "    return j == m"
   ]
  },
  {
   "cell_type": "code",
   "execution_count": 21,
   "id": "2020685e-c8a2-4303-95e9-84dd7d2fb75a",
   "metadata": {},
   "outputs": [
    {
     "name": "stdout",
     "output_type": "stream",
     "text": [
      "1\n"
     ]
    }
   ],
   "source": [
    "s = \"heeellooo\" \n",
    "words = [\"hello\", \"hi\", \"helo\"]\n",
    "print(expressiveWords(s, words))"
   ]
  },
  {
   "cell_type": "code",
   "execution_count": 22,
   "id": "e33820d5-59b0-464c-b201-d9ccfe5fc472",
   "metadata": {},
   "outputs": [
    {
     "name": "stdout",
     "output_type": "stream",
     "text": [
      "3\n"
     ]
    }
   ],
   "source": [
    "s = \"zzzzzyyyyy\"\n",
    "words = [\"zzyy\",\"zy\",\"zyy\"]\n",
    "print(expressiveWords(s, words))"
   ]
  },
  {
   "cell_type": "markdown",
   "id": "869c016c-f2f4-42ea-9e73-2e169b48c28d",
   "metadata": {},
   "source": [
    "<h3 style=\"color:yellow\">A string of numbers in random order is given and you have to print them in decimal format in strictly decreasing order.</h3>"
   ]
  },
  {
   "cell_type": "code",
   "execution_count": 1,
   "id": "b07a673b-7e07-4555-b83c-c28131e19fb5",
   "metadata": {},
   "outputs": [],
   "source": [
    "import collections, itertools\n",
    "def unscramble(S):\n",
    "    sc = collections.Counter(s)\n",
    "    return list(itertools.chain.from_iterable(\n",
    "    [\n",
    "        [9]*(sc['i'] - sc['x'] - sc['g'] - (sc['f'] - sc['u'])),\n",
    "        [8]*(sc['g']),\n",
    "        [7]*(sc['s'] - sc['x']),\n",
    "        [6]*(sc['x']),\n",
    "        [5]*(sc['f'] - sc['u']),\n",
    "        [4]*(sc['u']),\n",
    "        [3]*(sc['h'] - sc['g']),\n",
    "        [2]*(sc['w']),\n",
    "        [1]*(sc['o'] - sc['z'] - sc['w'] - sc['u']),\n",
    "        [0]*(sc['z'])\n",
    "    ]\n",
    "    ))"
   ]
  },
  {
   "cell_type": "code",
   "execution_count": 2,
   "id": "399c6de9-5ecb-4a63-9d07-794057caadc0",
   "metadata": {},
   "outputs": [
    {
     "name": "stdout",
     "output_type": "stream",
     "text": [
      "[9, 8, 7, 4]\n"
     ]
    }
   ],
   "source": [
    "s = \"nieignhtesevfouenr\"\n",
    "print(unscramble(s))"
   ]
  },
  {
   "cell_type": "markdown",
   "id": "a325692b-4e01-43b1-88a9-81e4313b1194",
   "metadata": {},
   "source": [
    "<h3 style=\"color:yellow\">Doubly Linked List Insert </h3>"
   ]
  },
  {
   "cell_type": "code",
   "execution_count": 3,
   "id": "1395ae06-e5a2-41ed-a285-b8381db0f231",
   "metadata": {},
   "outputs": [
    {
     "name": "stdout",
     "output_type": "stream",
     "text": [
      "Created DLL is: \n",
      "Traversal in forward direction \n",
      "4 8 1 7 \n",
      "Traversal in reverse direction \n",
      "7 1 8 4 "
     ]
    }
   ],
   "source": [
    "class Node:\n",
    "    def __init__(self, x):\n",
    "        self.data = x\n",
    "        self.prev = None\n",
    "        self.next = None\n",
    "        \n",
    "#Add a node at the front\n",
    "def push(head, data):\n",
    "    newNode = Node(data)\n",
    "    #newNode.data = data\n",
    "    newNode.next = head\n",
    "    newNode.prev = None\n",
    "    \n",
    "    if (head is not None):\n",
    "        head.prev = newNode\n",
    "    \n",
    "    head = newNode\n",
    "    return head\n",
    "\n",
    "# Insert before a node\n",
    "def insertBefore(head, data, nextNode):\n",
    "    if nextNode == None:\n",
    "        return\n",
    "    \n",
    "    newNode = Node(data)\n",
    "    newNode.prev = nextNode.prev\n",
    "    nextNode.prev = newNode\n",
    "    newNode.next = nextNode\n",
    "    \n",
    "    if newNode.prev != None:\n",
    "        newNode.prev.next = newNode\n",
    "    else:\n",
    "        head = newNode\n",
    "    \n",
    "    return head\n",
    "\n",
    "# Insert after a node\n",
    "def insertAfter(head, data, prevNode):\n",
    "    if prevNode == None:\n",
    "        return\n",
    "    \n",
    "    newNode = Node(data)\n",
    "    newNode.next = prevNode.next\n",
    "    prevNode.next = newNode\n",
    "    newNode.prev = prevNode\n",
    "    \n",
    "    if newNode.next:\n",
    "        newNode.next.prev = newNode\n",
    "    \n",
    "    return head\n",
    "\n",
    "# Append at the end\n",
    "def append(head, data):\n",
    "    newNode = Node(data)\n",
    "    \n",
    "    if head is None:\n",
    "        head = newNode\n",
    "        return\n",
    "    \n",
    "    last = head\n",
    "    while last.next:\n",
    "        last = last.next\n",
    "    \n",
    "    last.next = newNode\n",
    "    newNode.prev = last\n",
    "    \n",
    "    return head\n",
    "\n",
    "def printList(node):\n",
    "    last = None\n",
    "    print(\"Traversal in forward direction \")\n",
    "    while (node != None):\n",
    "        print(node.data, end=\" \")\n",
    "        last = node\n",
    "        node = node.next\n",
    " \n",
    "    print(\"\\nTraversal in reverse direction \")\n",
    "    while (last != None):\n",
    "        print(last.data, end=\" \")\n",
    "        last = last.prev\n",
    "\n",
    "if __name__ == '__main__':\n",
    " \n",
    "    # /* Start with the empty list */\n",
    "    head = None\n",
    "    head = push(head, 7)\n",
    " \n",
    "    head = push(head, 1)\n",
    " \n",
    "    head = push(head, 4)\n",
    " \n",
    "    # Insert 8, before 1. So linked list becomes 4.8.1.7.NULL\n",
    "    head = insertBefore(head, 8, head.next)\n",
    " \n",
    "    print(\"Created DLL is: \")\n",
    "    printList(head)"
   ]
  },
  {
   "cell_type": "markdown",
   "id": "c7fba01d-7fc1-4853-9581-d4006ebb25f3",
   "metadata": {},
   "source": [
    "<h3 style=\"color:yellow\">Reverse a Linked List</h3>"
   ]
  },
  {
   "cell_type": "code",
   "execution_count": 4,
   "id": "344b6812-8ed9-444e-863e-3d3e82849b94",
   "metadata": {},
   "outputs": [],
   "source": [
    "def reverse():\n",
    "    prev = None\n",
    "    curr = head\n",
    "    while (curr is not None):\n",
    "        temp = curr.next\n",
    "        curr.next = prev\n",
    "        prev = curr\n",
    "        curr = temp\n",
    "    #head = prev\n",
    "    return prev"
   ]
  },
  {
   "cell_type": "markdown",
   "id": "5231c2ac-73f1-4d0d-bdcb-0cb394e3cbb6",
   "metadata": {},
   "source": [
    "<h3 style=\"color:yellow\">Reverse a Double Linked List</h3>"
   ]
  },
  {
   "cell_type": "code",
   "execution_count": 5,
   "id": "1a5b5db7-877a-4af9-8f21-d4d7eac76dc9",
   "metadata": {},
   "outputs": [],
   "source": [
    "def reverse():\n",
    "    temp = None\n",
    "    curr = head\n",
    "    while (curr is not None):\n",
    "        temp = curr.prev\n",
    "        curr.prev = curr.next\n",
    "        curr.next = temp\n",
    "        curr = curr.prev\n",
    "        \n",
    "    if temp is not None:\n",
    "        head = temp.prev\n",
    "    \n",
    "    return head\n",
    "\n",
    "# Using Stack\n",
    "def reverseStack():\n",
    "    stack = []\n",
    "    temp = head\n",
    "    while temp is not None:\n",
    "        stack.append(temp.data)\n",
    "        temp = temp.next\n",
    "    \n",
    "    temp = head\n",
    "    while temp is not None:\n",
    "        temp.data = stack.pop()\n",
    "        temp = temp.next\n",
    "    temp.next = None"
   ]
  },
  {
   "cell_type": "markdown",
   "id": "786e83be-6e5a-4974-9aec-e02bc2bca8df",
   "metadata": {},
   "source": [
    "<h3 style=\"color:yellow\">Count of Set bits / Brian Kernighan’s Algorithm</h3>"
   ]
  },
  {
   "cell_type": "code",
   "execution_count": 6,
   "id": "08116c9b-1bd8-42f6-b58e-d970b6791b5c",
   "metadata": {},
   "outputs": [
    {
     "name": "stdout",
     "output_type": "stream",
     "text": [
      "2\n",
      "4\n"
     ]
    }
   ],
   "source": [
    "def countSetbits(n):\n",
    "    count = 0\n",
    "    while n:\n",
    "        n &= (n-1)\n",
    "        count += 1\n",
    "    return count\n",
    "\n",
    "n = 9     \n",
    "# function calling\n",
    "print(countSetbits(n))\n",
    "print(bin(15).count('1'))"
   ]
  },
  {
   "cell_type": "markdown",
   "id": "a383394f-c3d4-462a-b6ee-2b3ec1dd170b",
   "metadata": {},
   "source": [
    "<h3 style=\"color:yellow\">Find the Missing Number</h3>"
   ]
  },
  {
   "cell_type": "code",
   "execution_count": 7,
   "id": "4a27b4dc-cfde-4373-9ff4-46301b9e06d3",
   "metadata": {},
   "outputs": [],
   "source": [
    "def getMissingNo(arr):\n",
    "    n = len(arr)\n",
    "    total = int((n+1)*(n+2) // 2)\n",
    "    return total - sum(arr)"
   ]
  },
  {
   "cell_type": "code",
   "execution_count": 8,
   "id": "274ff716-fd73-4c0f-a04b-de8bf894f2d6",
   "metadata": {},
   "outputs": [],
   "source": [
    "def getMissingNo_1(arr):\n",
    "    n = len(arr)\n",
    "    x1 = arr[0]\n",
    "    x2 = 1\n",
    "    \n",
    "    for i in range(1, n):\n",
    "        x1 ^= arr[i]\n",
    "    \n",
    "    for i in range(2, n+2):\n",
    "        x2 ^= i\n",
    "    \n",
    "    return x1^x2"
   ]
  },
  {
   "cell_type": "code",
   "execution_count": 9,
   "id": "3704d2d8-33b6-4ff1-bcfd-2ef26f297abd",
   "metadata": {},
   "outputs": [
    {
     "name": "stdout",
     "output_type": "stream",
     "text": [
      "4\n"
     ]
    }
   ],
   "source": [
    "arr = [1,2,3,5,6]\n",
    "print(getMissingNo_1(arr))"
   ]
  },
  {
   "cell_type": "markdown",
   "id": "90b2ab11-ad94-4b32-8b62-9cb69f9c8149",
   "metadata": {},
   "source": [
    "<h3 style=\"color:yellow\">Eggs dropping puzzle</h3>"
   ]
  },
  {
   "cell_type": "code",
   "execution_count": 10,
   "id": "15652b25-0ccf-4926-a20a-7e2918ffd3be",
   "metadata": {},
   "outputs": [],
   "source": [
    "def binomialCoeff(x, n, k):\n",
    "    s = 0\n",
    "    term = 1\n",
    "    i = 1\n",
    "    \n",
    "    while i <= n and s < k:\n",
    "        term *= x - i + 1\n",
    "        term /= i\n",
    "        s += term\n",
    "        i += 1\n",
    "        \n",
    "    return s    \n",
    "    \n",
    "def minTrial(n, k):\n",
    "    low = 1\n",
    "    high = k\n",
    "    \n",
    "    while(low < high):\n",
    "        mid = int((low+high) / 2)\n",
    "        if binomialCoeff(mid, n, k) < k:\n",
    "            low = mid + 1\n",
    "        else:\n",
    "            high = mid\n",
    "    \n",
    "    return int(low)"
   ]
  },
  {
   "cell_type": "code",
   "execution_count": 11,
   "id": "bc118c4c-c747-4699-a1b3-3f56b470e1fb",
   "metadata": {},
   "outputs": [
    {
     "name": "stdout",
     "output_type": "stream",
     "text": [
      "14\n"
     ]
    }
   ],
   "source": [
    "print(minTrial(2,100))"
   ]
  },
  {
   "cell_type": "markdown",
   "id": "0830dc7e-8cff-4f77-94f0-9ab7553bfe3d",
   "metadata": {},
   "source": [
    "<h3 style=\"color:yellow\">LINKED LIST</h3>"
   ]
  },
  {
   "cell_type": "code",
   "execution_count": 12,
   "id": "1117436a-acff-4c97-a72c-8741ec8e3e7e",
   "metadata": {},
   "outputs": [
    {
     "name": "stdout",
     "output_type": "stream",
     "text": [
      "5 8 "
     ]
    }
   ],
   "source": [
    "class Node:\n",
    "    def __init__(self, data):\n",
    "        self.data = data\n",
    "        self.next = None\n",
    "    \n",
    "def push(head, data):\n",
    "    newNode = Node(data)\n",
    "    newNode.next = head\n",
    "    head = newNode\n",
    "    return head\n",
    "\n",
    "def printSecondList(l1, l2):\n",
    "    temp = l1\n",
    "    temp1 = l2\n",
    "    \n",
    "    while temp is not None:\n",
    "        i = 1\n",
    "        \n",
    "        while i < temp.data:\n",
    "            temp1 = temp1.next\n",
    "            i += 1\n",
    "        \n",
    "        print(temp1.data,end=\" \")\n",
    "        temp = temp.next\n",
    "        temp1 = l2\n",
    "        \n",
    "l1 = None\n",
    "l2 = None\n",
    "\n",
    "l1 = push(l1, 5)\n",
    "l1 = push(l1, 2)\n",
    "\n",
    "l2 = push(l2, 8)\n",
    "l2 = push(l2, 7)\n",
    "l2 = push(l2, 6)\n",
    "l2 = push(l2, 5)\n",
    "l2 = push(l2, 4)\n",
    " \n",
    "printSecondList(l1, l2)"
   ]
  },
  {
   "cell_type": "markdown",
   "id": "08e2db35-eb63-4c6c-a197-5effb6b9ce71",
   "metadata": {},
   "source": [
    "<h3 style=\"color:yellow\">DETECT LOOP</h3>"
   ]
  },
  {
   "cell_type": "code",
   "execution_count": 13,
   "id": "723e1122-2a3c-44bd-bbe2-fb0ce0a2e400",
   "metadata": {},
   "outputs": [
    {
     "name": "stdout",
     "output_type": "stream",
     "text": [
      "Loop Found\n"
     ]
    }
   ],
   "source": [
    "class Node:\n",
    "    def __init__(self, data):\n",
    "        self.data = data\n",
    "        self.next = None\n",
    "\n",
    "class LinkedList:\n",
    "    def __init__(self):\n",
    "        self.head = None\n",
    "    \n",
    "    def push(self, data):\n",
    "        newNode = Node(data)\n",
    "        newNode.next = self.head\n",
    "        self.head = newNode\n",
    "    \n",
    "    def printList(self):\n",
    "        temp = self.head\n",
    "        while temp is not None:\n",
    "            print(temp.data)\n",
    "            temp = temp.next\n",
    "    \n",
    "    def detectLoop(self):\n",
    "        slow = self.head\n",
    "        fast = self.head\n",
    "        while slow and fast and fast.next:\n",
    "            slow = slow.next\n",
    "            fast = fast.next.next\n",
    "        \n",
    "            if slow == fast:\n",
    "                return True\n",
    "\n",
    "l1 = LinkedList()\n",
    "l1.push(20)\n",
    "l1.push(4)\n",
    "l1.push(15)\n",
    "l1.push(10)\n",
    "\n",
    "l1.head.next.next.next.next = l1.head\n",
    "if (l1.detectLoop()):\n",
    "    print (\"Loop Found\")\n",
    "else:\n",
    "    print (\"No Loop\")"
   ]
  },
  {
   "cell_type": "markdown",
   "id": "6692e317-a772-4317-ba0e-a34966d61361",
   "metadata": {},
   "source": [
    "<h3 style=\"color: yellow\">MIN STACK</h3>"
   ]
  },
  {
   "cell_type": "code",
   "execution_count": 14,
   "id": "075f59ef-6b55-4b2a-a583-a9722a317034",
   "metadata": {},
   "outputs": [
    {
     "data": {
      "text/plain": [
       "3"
      ]
     },
     "execution_count": 14,
     "metadata": {},
     "output_type": "execute_result"
    }
   ],
   "source": [
    "class GetMin:\n",
    "    def __init__(self):\n",
    "        self.q = []\n",
    "    \n",
    "    def push(self, data):\n",
    "        curMin = self.getMin()\n",
    "        if curMin == None or data < curMin:\n",
    "            curMin = data\n",
    "        self.q.append((data, curMin))\n",
    "    \n",
    "    def pop(self):\n",
    "        self.q.pop()\n",
    "    \n",
    "    def top(self):\n",
    "        if len(self.q) == 0:\n",
    "            return None\n",
    "        else:\n",
    "            return self.q[len(self.q) - 1][0]\n",
    "    \n",
    "    def getMin(self):\n",
    "        if len(self.q) == 0:\n",
    "            return None\n",
    "        else:\n",
    "            return self.q[len(self.q) - 1][1]\n",
    "\n",
    "stack = GetMin()\n",
    "stack.getMin()\n",
    "stack.push(3)\n",
    "stack.push(5)\n",
    "stack.getMin()\n",
    "stack.push(2)\n",
    "stack.push(1)\n",
    "stack.getMin()\n",
    "stack.pop()\n",
    "stack.getMin()\n",
    "stack.pop()\n",
    "stack.getMin()"
   ]
  },
  {
   "cell_type": "markdown",
   "id": "6157f450-f176-40aa-9dd7-40f099b63e6d",
   "metadata": {},
   "source": [
    "<h3 style=\"color:yellow\">Duplicate Parenthesis</h3>"
   ]
  },
  {
   "cell_type": "code",
   "execution_count": 15,
   "id": "e604d49c-e8e1-4439-b828-bbf8b4adba8b",
   "metadata": {},
   "outputs": [
    {
     "name": "stdout",
     "output_type": "stream",
     "text": [
      "No Duplicates Found\n"
     ]
    }
   ],
   "source": [
    "def findDuplicateparenthesis(string):\n",
    "    stack = []\n",
    "    for ch in string:\n",
    "        if ch == ')':\n",
    "            top = stack.pop()\n",
    "            elementsInside = 0\n",
    "            while top != '(':\n",
    "                elementsInside += 1\n",
    "                top = stack.pop()\n",
    "            if elementsInside < 1:\n",
    "                return True\n",
    "        else:\n",
    "            stack.append(ch)\n",
    "    return False\n",
    "\n",
    "\n",
    "if __name__ == \"__main__\":\n",
    " \n",
    "    # input balanced expression\n",
    "    string = \"((a+b)+(c+d))\"\n",
    " \n",
    "    if findDuplicateparenthesis(string) == True:\n",
    "        print(\"Duplicate Found\")\n",
    "    else:\n",
    "        print(\"No Duplicates Found\")"
   ]
  }
 ],
 "metadata": {
  "kernelspec": {
   "display_name": "Python 3",
   "language": "python",
   "name": "python3"
  },
  "language_info": {
   "codemirror_mode": {
    "name": "ipython",
    "version": 3
   },
   "file_extension": ".py",
   "mimetype": "text/x-python",
   "name": "python",
   "nbconvert_exporter": "python",
   "pygments_lexer": "ipython3",
   "version": "3.9.1"
  }
 },
 "nbformat": 4,
 "nbformat_minor": 5
}
