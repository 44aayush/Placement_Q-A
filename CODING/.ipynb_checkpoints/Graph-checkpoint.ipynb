{
 "cells": [
  {
   "cell_type": "markdown",
   "id": "e2f2d4f5-233e-4326-9e95-dc6ab84b753e",
   "metadata": {},
   "source": [
    "# BFS\n",
    "<!-- - <span style= \"orange\">\n",
    "\n",
    "</span> -->\n",
    "- <span style=\"color:yellow\">O(V+E)</span>"
   ]
  },
  {
   "cell_type": "code",
   "execution_count": 6,
   "id": "31d1fe8c-d441-4d1e-b3f5-ee05d944e224",
   "metadata": {},
   "outputs": [],
   "source": [
    "class Node(object):\n",
    "    def __init__(self, name):\n",
    "        self.name = name\n",
    "        self.adjacentList = []\n",
    "        self.visited = False\n",
    "        self.predecssor = None\n",
    "        \n",
    "\n",
    "class BreadthFirstSearch(object):\n",
    "    def bfs(self, startNode):\n",
    "        queue = []\n",
    "        queue.append(startNode)\n",
    "        startNode.visited = True\n",
    "        \n",
    "        while queue:\n",
    "            actualNode = queue.pop(0)\n",
    "            print(\"%s \" % actualNode.name)\n",
    "            \n",
    "            for n in actualNode.adjacentList:\n",
    "                if not n.visited:\n",
    "                    n.visited = True\n",
    "                    queue.append(n)"
   ]
  },
  {
   "cell_type": "code",
   "execution_count": 7,
   "id": "445e1fe4-f13f-420d-bc1d-06226ff5ded5",
   "metadata": {},
   "outputs": [
    {
     "name": "stdout",
     "output_type": "stream",
     "text": [
      "A \n",
      "B \n",
      "C \n",
      "D \n",
      "E \n"
     ]
    }
   ],
   "source": [
    "node1 = Node(\"A\")\n",
    "node2 = Node(\"B\")\n",
    "node3 = Node(\"C\")\n",
    "node4 = Node(\"D\")\n",
    "node5 = Node(\"E\")\n",
    "\n",
    "node1.adjacentList.append(node2)\n",
    "node1.adjacentList.append(node3)\n",
    "node2.adjacentList.append(node4)\n",
    "node4.adjacentList.append(node5)\n",
    "\n",
    "bfs = BreadthFirstSearch()\n",
    "bfs.bfs(node1)"
   ]
  },
  {
   "cell_type": "markdown",
   "id": "5f733de5-50de-4320-99af-840a5b58b763",
   "metadata": {},
   "source": [
    "# DFS\n",
    "- <span style=\"color:yellow\">O(V+E)</span>"
   ]
  },
  {
   "cell_type": "code",
   "execution_count": 10,
   "id": "46fe02ab-aa06-4ea5-89e9-6e75528698da",
   "metadata": {},
   "outputs": [],
   "source": [
    "class Node(object):\n",
    "    def __init__(self, name):\n",
    "        self.name = name\n",
    "        self.adjacentList = []\n",
    "        self.visited = False\n",
    "        self.predecssor = None\n",
    "\n",
    "class DepthFirstSearch(object):\n",
    "    def dfs(self, node):\n",
    "        node.visited = True\n",
    "        print(\"%s \" % node.name)\n",
    "        \n",
    "        for n in node.adjacentList:\n",
    "            if not n.visited:\n",
    "                self.dfs(n)"
   ]
  },
  {
   "cell_type": "code",
   "execution_count": 11,
   "id": "13f2c4c8-7834-4fab-9530-9de04dd7b923",
   "metadata": {},
   "outputs": [
    {
     "name": "stdout",
     "output_type": "stream",
     "text": [
      "A \n",
      "B \n",
      "D \n",
      "E \n",
      "C \n"
     ]
    }
   ],
   "source": [
    "node1 = Node(\"A\")\n",
    "node2 = Node(\"B\")\n",
    "node3 = Node(\"C\")\n",
    "node4 = Node(\"D\")\n",
    "node5 = Node(\"E\")\n",
    "\n",
    "node1.adjacentList.append(node2)\n",
    "node1.adjacentList.append(node3)\n",
    "node2.adjacentList.append(node4)\n",
    "node4.adjacentList.append(node5)\n",
    "\n",
    "dfs = DepthFirstSearch()\n",
    "dfs.dfs(node1)"
   ]
  },
  {
   "cell_type": "code",
   "execution_count": null,
   "id": "e6f7b8f0-d4dd-4a7a-b13e-8cc465e9efd7",
   "metadata": {},
   "outputs": [],
   "source": []
  }
 ],
 "metadata": {
  "kernelspec": {
   "display_name": "Python 3",
   "language": "python",
   "name": "python3"
  },
  "language_info": {
   "codemirror_mode": {
    "name": "ipython",
    "version": 3
   },
   "file_extension": ".py",
   "mimetype": "text/x-python",
   "name": "python",
   "nbconvert_exporter": "python",
   "pygments_lexer": "ipython3",
   "version": "3.9.1"
  }
 },
 "nbformat": 4,
 "nbformat_minor": 5
}
