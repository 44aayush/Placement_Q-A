{
 "cells": [
  {
   "cell_type": "markdown",
   "id": "80387220-8228-40d8-b998-bb2083b13b99",
   "metadata": {},
   "source": [
    "<h2 style=\"color:red\">0-1 KNAPSACK</h2>"
   ]
  },
  {
   "cell_type": "markdown",
   "id": "b8922843-41b6-47fe-982a-5fe2dd316845",
   "metadata": {},
   "source": [
    "# Max Profit\n",
    "- <span style=\"color:yellow\">Base Condition</span><br>\n",
    "<span style=\"color:orange\">Think of the smallest valid input<br>\n",
    "    if n==0 or w == 0: return 0\n",
    "</span><br>\n",
    "- <span style=\"color:yellow\">Choice Diagram</span><br>\n",
    "<span style=\"color:orange\">If item added into knapsack then recursive call with (W - wt[n-1]) and n-1<br>\n",
    "    Else recursive call with n-1 argument\n",
    "</span>"
   ]
  },
  {
   "cell_type": "code",
   "execution_count": 6,
   "id": "e881866d-e3be-438c-90f3-b81e05800198",
   "metadata": {},
   "outputs": [],
   "source": [
    "def knapsack(wt, val, W, n):\n",
    "    if n == 0 or W == 0:\n",
    "        return 0\n",
    "        \n",
    "    if(wt[n-1] > W):\n",
    "        return knapsack(wt, val, W, n-1)\n",
    "    \n",
    "    else:\n",
    "        return max(val[n-1] + knapsack(wt, val, W - wt[n-1], n-1), knapsack(wt, val, W, n-1))"
   ]
  },
  {
   "cell_type": "code",
   "execution_count": 11,
   "id": "1f56fe22-faf1-4c0c-821f-4e26bba554fb",
   "metadata": {},
   "outputs": [],
   "source": [
    "def knapSack_Memoization(wt, val, W, n):\n",
    "    K = [[0 for x in range(W+1)] for x in range(n+1)]\n",
    "    \n",
    "    for i in range(n+1):\n",
    "        for w in range(W+1):\n",
    "            if i == 0 or w == 0:\n",
    "                K[i][w] = 0\n",
    "                \n",
    "            elif (wt[i-1] <= w):\n",
    "                K[i][w] = max(val[i-1] +  K[i-1][w-wt[i-1]], K[i-1][w])\n",
    "            \n",
    "            elif (wt[i-1] > w):\n",
    "                K[i][w] = K[i-1][w]\n",
    "    \n",
    "    return K[n][w]"
   ]
  },
  {
   "cell_type": "code",
   "execution_count": 12,
   "id": "5e66a2ff-fb84-4352-9f04-009545a681f8",
   "metadata": {},
   "outputs": [
    {
     "name": "stdout",
     "output_type": "stream",
     "text": [
      "9\n"
     ]
    }
   ],
   "source": [
    "wt = [1,3,4,5]\n",
    "val = [1,4,5,7]\n",
    "W = 7\n",
    "n = len(wt)\n",
    "print(knapsack(wt, val, W, n))"
   ]
  },
  {
   "cell_type": "code",
   "execution_count": 14,
   "id": "c72e59c3-5851-49a8-b48a-728cf1ccd87a",
   "metadata": {},
   "outputs": [
    {
     "name": "stdout",
     "output_type": "stream",
     "text": [
      "220\n"
     ]
    }
   ],
   "source": [
    "val = [60,100,120]\n",
    "wt = [10,20,30]\n",
    "W = 50\n",
    "n = len(wt)\n",
    "print(knapSack_Memoization(wt, val, W, n))"
   ]
  },
  {
   "cell_type": "markdown",
   "id": "43e4be5e-2f94-4c77-9a63-a598a95f8c7a",
   "metadata": {},
   "source": [
    "<br>"
   ]
  },
  {
   "cell_type": "markdown",
   "id": "48748002-b76f-4c3c-9647-cb1f63c8cd49",
   "metadata": {},
   "source": [
    "# Subset Sum "
   ]
  },
  {
   "cell_type": "code",
   "execution_count": 7,
   "id": "22fb10d5-76d6-410f-9372-444d2ddc27e7",
   "metadata": {},
   "outputs": [],
   "source": [
    "def subsetSum(arr, S, n):\n",
    "    t = [[0 for x in range(S+1)] for x in range(n+1)]\n",
    "      \n",
    "    for i in range(n+1):\n",
    "        t[i][0] = True\n",
    "        \n",
    "    for i in range(1, S + 1):\n",
    "         t[0][i]= False\n",
    "    \n",
    "    for i in range(1, n+1):\n",
    "        for j in range(1, S+1):\n",
    "            if arr[i-1] > j:\n",
    "                t[i][j] = t[i-1][j]\n",
    "                \n",
    "            if arr[i-1] <= j:\n",
    "                t[i][j] = (t[i-1][j] or t[i-1][j-arr[i-1]])\n",
    "    \n",
    "    return t[n][S]"
   ]
  },
  {
   "cell_type": "code",
   "execution_count": 8,
   "id": "b4dafab3-8785-4902-9916-451d4c6650d5",
   "metadata": {},
   "outputs": [
    {
     "name": "stdout",
     "output_type": "stream",
     "text": [
      "Valid Sum\n"
     ]
    }
   ],
   "source": [
    "arr = [2,3,7,8,10]\n",
    "S = 12\n",
    "n = len(arr)\n",
    "if(subsetSum(arr, S, n) == True):\n",
    "    print(\"Valid Sum\")\n",
    "else:\n",
    "    print(\"Invalid\")"
   ]
  },
  {
   "cell_type": "markdown",
   "id": "e4f0295a-1de5-43a0-958b-49a9260337af",
   "metadata": {},
   "source": [
    "# Equal Sum Partition"
   ]
  },
  {
   "cell_type": "code",
   "execution_count": 27,
   "id": "d1743efb-ed5a-4cc2-9840-36af7bec06d7",
   "metadata": {},
   "outputs": [],
   "source": [
    "def equalPartition(arr, n):\n",
    "    S = sum(arr)\n",
    "    \n",
    "    if (S%2 != 0): \n",
    "        return False\n",
    "    \n",
    "    if (S%2 == 0):\n",
    "        return subsetSum(arr,S,n)"
   ]
  },
  {
   "cell_type": "code",
   "execution_count": 28,
   "id": "b44659fa-f17f-4812-abf9-b642a48500a1",
   "metadata": {},
   "outputs": [
    {
     "name": "stdout",
     "output_type": "stream",
     "text": [
      "True\n"
     ]
    }
   ],
   "source": [
    "arr = [1,5,11,5]\n",
    "n = len(arr)\n",
    "if(equalPartition(arr,n) == True): print(\"True\")\n",
    "else: print(\"False\")"
   ]
  },
  {
   "cell_type": "markdown",
   "id": "27b993aa-e8da-4e73-955f-782ada272035",
   "metadata": {},
   "source": [
    "# Count of Subset Sum"
   ]
  },
  {
   "cell_type": "code",
   "execution_count": 1,
   "id": "172959ab-2642-4634-bc74-887837284b52",
   "metadata": {},
   "outputs": [],
   "source": [
    "def countSubSum(arr, S, n):\n",
    "    t = [[0 for x in range(S+1)] for x in range(n+1)]\n",
    "    \n",
    "    for i in range(n+1):\n",
    "        t[i][0] = 1\n",
    "    \n",
    "    for i in range(S+1):\n",
    "        t[0][i] = 0\n",
    "    \n",
    "    for i in range(n+1):\n",
    "        for j in range(S+1):\n",
    "            if arr[i-1] <= j:\n",
    "                t[i][j] = t[i-1][j] + t[i-1][j-arr[i-1]]\n",
    "            else:\n",
    "                t[i][j] = t[i-1][j]\n",
    "    \n",
    "    return t[i][j]"
   ]
  },
  {
   "cell_type": "code",
   "execution_count": 2,
   "id": "7edb55a6-2367-4c68-8a3c-4c54c222272a",
   "metadata": {},
   "outputs": [
    {
     "name": "stdout",
     "output_type": "stream",
     "text": [
      "4\n"
     ]
    }
   ],
   "source": [
    "arr = [2,3,5,6,8,10]\n",
    "S = 10\n",
    "res = countSubSum(arr,S,len(arr))\n",
    "print(res)"
   ]
  },
  {
   "cell_type": "markdown",
   "id": "074952a4-7f20-4c5a-b5c3-295048385f60",
   "metadata": {},
   "source": [
    "# Minimum Subset Sum Difference"
   ]
  },
  {
   "cell_type": "code",
   "execution_count": 5,
   "id": "ec13b63d-2b35-4b2c-88d5-7f3e797e0a1a",
   "metadata": {},
   "outputs": [],
   "source": [
    "import sys\n",
    "def minSubDiff(arr, n):\n",
    "    S = sum(arr)\n",
    "    dp = [[0 for i in range(S+1)] for i in range(n+1)]\n",
    "    \n",
    "    for i in range(n+1):\n",
    "        dp[i][0] = True\n",
    "    \n",
    "    for j in range(1, S+1):\n",
    "        dp[0][i] = False\n",
    "    \n",
    "    for i in range(1,n+1):\n",
    "        for j in range(1, S+1):\n",
    "            dp[i][j] = dp[i - 1][j]\n",
    "            if arr[i-1] <= j:\n",
    "                dp[i][j] = dp[i-1][j-arr[i-1]]\n",
    "                \n",
    "    diff = sys.maxsize\n",
    "    for j in range(S//2, -1, -1):\n",
    "        if dp[n][j] == True:\n",
    "            diff = S - (2*j)\n",
    "            break\n",
    "    \n",
    "    return diff"
   ]
  },
  {
   "cell_type": "code",
   "execution_count": 6,
   "id": "458b66d5-e5fc-4c96-94fa-ba38343b43e6",
   "metadata": {},
   "outputs": [
    {
     "name": "stdout",
     "output_type": "stream",
     "text": [
      "1\n"
     ]
    }
   ],
   "source": [
    "arr = [1,6,11,5]\n",
    "print(minSubDiff(arr,len(arr)))"
   ]
  },
  {
   "cell_type": "markdown",
   "id": "c386d29c-2c0c-4ab3-bd93-0d7348bc6cd4",
   "metadata": {},
   "source": [
    "# Target Sum"
   ]
  },
  {
   "cell_type": "code",
   "execution_count": null,
   "id": "f2d20b67-99b4-407d-8903-20468daaa7e2",
   "metadata": {},
   "outputs": [],
   "source": []
  },
  {
   "cell_type": "code",
   "execution_count": null,
   "id": "8bf2e053-8477-4ab5-9afd-260f2825299e",
   "metadata": {},
   "outputs": [],
   "source": []
  },
  {
   "cell_type": "markdown",
   "id": "fb175870-8036-4fcb-bc98-5a1aeba80eef",
   "metadata": {},
   "source": [
    "# Count # of Subset given Difference"
   ]
  },
  {
   "cell_type": "code",
   "execution_count": null,
   "id": "055024e8-c1c4-440c-82c2-8a95366778b4",
   "metadata": {},
   "outputs": [],
   "source": []
  },
  {
   "cell_type": "code",
   "execution_count": null,
   "id": "40b090f8-d2f4-4d6e-89fb-15a1df24fe64",
   "metadata": {},
   "outputs": [],
   "source": []
  },
  {
   "cell_type": "code",
   "execution_count": null,
   "id": "0489911a-0766-4ca5-b611-5dcaac198c4c",
   "metadata": {},
   "outputs": [],
   "source": []
  }
 ],
 "metadata": {
  "kernelspec": {
   "display_name": "Python 3",
   "language": "python",
   "name": "python3"
  },
  "language_info": {
   "codemirror_mode": {
    "name": "ipython",
    "version": 3
   },
   "file_extension": ".py",
   "mimetype": "text/x-python",
   "name": "python",
   "nbconvert_exporter": "python",
   "pygments_lexer": "ipython3",
   "version": "3.9.1"
  }
 },
 "nbformat": 4,
 "nbformat_minor": 5
}
