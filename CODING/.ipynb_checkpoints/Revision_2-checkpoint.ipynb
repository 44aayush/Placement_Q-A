{
 "cells": [
  {
   "cell_type": "markdown",
   "id": "4d88fff6-990a-4978-9999-e465dae8add5",
   "metadata": {},
   "source": [
    "<h3 style=\"color:yellow\">Sort Array of dates</h3>"
   ]
  },
  {
   "cell_type": "code",
   "execution_count": 1,
   "id": "6dd316e6-8c25-4ae6-be32-a0fa7d111925",
   "metadata": {},
   "outputs": [
    {
     "name": "stdout",
     "output_type": "stream",
     "text": [
      "01 Jan 2007\n",
      "10 Jul 2016\n",
      "2 Dec 2017\n",
      "11 Jun 2018\n",
      "23 Jun 2018\n",
      "01 Jan 2019\n"
     ]
    }
   ],
   "source": [
    "from datetime import datetime\n",
    "def sortDates(dates):\n",
    "    dates.sort(key = lambda date: datetime.strptime(date, '%d %b %Y'))\n",
    "    \n",
    "    for i in range(len(dates)):\n",
    "        print(dates[i])\n",
    "\n",
    "if __name__ == '__main__':\n",
    "    dates =  [\"23 Jun 2018\", \"2 Dec 2017\", \"11 Jun 2018\", \n",
    "              \"01 Jan 2019\", \"10 Jul 2016\", \"01 Jan 2007\"]\n",
    "    sortDates(dates)"
   ]
  },
  {
   "cell_type": "markdown",
   "id": "52da0bc7-1be5-4512-9b63-e58cecace5fd",
   "metadata": {},
   "source": [
    "<h3 style=\"color:yellow\">Triplets that Sum to given value</h3>"
   ]
  },
  {
   "cell_type": "code",
   "execution_count": 3,
   "id": "3548131f-d938-44d0-b122-edf1caf8de2e",
   "metadata": {},
   "outputs": [
    {
     "name": "stdout",
     "output_type": "stream",
     "text": [
      "Triplets : 4  10  8\n"
     ]
    }
   ],
   "source": [
    "# Naive\n",
    "def tripletsSum(arr, N, S):\n",
    "    for i in range(N-2):\n",
    "        for j in range(i+1, N-1):\n",
    "            for k in range(j+1, N):\n",
    "                if arr[i]+arr[j]+arr[k] == S:\n",
    "                    print(\"Triplets :\", arr[i], \"\", arr[j], \"\", arr[k])\n",
    "                    return True\n",
    "    return False\n",
    "\n",
    "if __name__ == '__main__':\n",
    "    arr = [1, 4, 45, 6, 10, 8]\n",
    "    S = 22\n",
    "    N = len(arr)\n",
    "    tripletsSum(arr, N, S)"
   ]
  },
  {
   "cell_type": "code",
   "execution_count": 5,
   "id": "7ac45f80-228c-41f1-b95e-a26b25143897",
   "metadata": {},
   "outputs": [
    {
     "name": "stdout",
     "output_type": "stream",
     "text": [
      "Triplets : 1  6  45\n"
     ]
    }
   ],
   "source": [
    "# Hashing\n",
    "def tripletsSum_2(arr, N, sums):\n",
    "    for i in range(N-1):\n",
    "        h = set()\n",
    "        currSum = sums - arr[i]\n",
    "        for j in range(i+1, N):\n",
    "            if (currSum - arr[j]) in h:\n",
    "                print(\"Triplets :\", arr[i], \"\", arr[j], \"\", currSum-arr[j])\n",
    "                return True\n",
    "            h.add(arr[j])\n",
    "    return False\n",
    "                \n",
    "        \n",
    "if __name__ == '__main__':\n",
    "    arr = [1, 4, 45, 6, 10, 8]\n",
    "    sums = 52\n",
    "    N = len(arr)\n",
    "    tripletsSum_2(arr, N, sums)"
   ]
  },
  {
   "cell_type": "code",
   "execution_count": null,
   "id": "f98b9770-fb31-4a37-812b-022e5e2aac55",
   "metadata": {},
   "outputs": [],
   "source": []
  }
 ],
 "metadata": {
  "kernelspec": {
   "display_name": "Python 3",
   "language": "python",
   "name": "python3"
  },
  "language_info": {
   "codemirror_mode": {
    "name": "ipython",
    "version": 3
   },
   "file_extension": ".py",
   "mimetype": "text/x-python",
   "name": "python",
   "nbconvert_exporter": "python",
   "pygments_lexer": "ipython3",
   "version": "3.9.1"
  }
 },
 "nbformat": 4,
 "nbformat_minor": 5
}
