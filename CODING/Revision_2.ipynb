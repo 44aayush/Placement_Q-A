{
 "cells": [
  {
   "cell_type": "markdown",
   "id": "4d88fff6-990a-4978-9999-e465dae8add5",
   "metadata": {},
   "source": [
    "<h3 style=\"color:yellow\">Sort Array of dates</h3>"
   ]
  },
  {
   "cell_type": "code",
   "execution_count": 1,
   "id": "6dd316e6-8c25-4ae6-be32-a0fa7d111925",
   "metadata": {},
   "outputs": [
    {
     "name": "stdout",
     "output_type": "stream",
     "text": [
      "01 Jan 2007\n",
      "10 Jul 2016\n",
      "2 Dec 2017\n",
      "11 Jun 2018\n",
      "23 Jun 2018\n",
      "01 Jan 2019\n"
     ]
    }
   ],
   "source": [
    "from datetime import datetime\n",
    "def sortDates(dates):\n",
    "    dates.sort(key = lambda date: datetime.strptime(date, '%d %b %Y'))\n",
    "    \n",
    "    for i in range(len(dates)):\n",
    "        print(dates[i])\n",
    "\n",
    "if __name__ == '__main__':\n",
    "    dates =  [\"23 Jun 2018\", \"2 Dec 2017\", \"11 Jun 2018\", \n",
    "              \"01 Jan 2019\", \"10 Jul 2016\", \"01 Jan 2007\"]\n",
    "    sortDates(dates)"
   ]
  },
  {
   "cell_type": "markdown",
   "id": "52da0bc7-1be5-4512-9b63-e58cecace5fd",
   "metadata": {},
   "source": [
    "<h3 style=\"color:yellow\">Triplets that Sum to given value</h3>"
   ]
  },
  {
   "cell_type": "code",
   "execution_count": 3,
   "id": "3548131f-d938-44d0-b122-edf1caf8de2e",
   "metadata": {},
   "outputs": [
    {
     "name": "stdout",
     "output_type": "stream",
     "text": [
      "Triplets : 4  10  8\n"
     ]
    }
   ],
   "source": [
    "# Naive\n",
    "def tripletsSum(arr, N, S):\n",
    "    for i in range(N-2):\n",
    "        for j in range(i+1, N-1):\n",
    "            for k in range(j+1, N):\n",
    "                if arr[i]+arr[j]+arr[k] == S:\n",
    "                    print(\"Triplets :\", arr[i], \"\", arr[j], \"\", arr[k])\n",
    "                    return True\n",
    "    return False\n",
    "\n",
    "if __name__ == '__main__':\n",
    "    arr = [1, 4, 45, 6, 10, 8]\n",
    "    S = 22\n",
    "    N = len(arr)\n",
    "    tripletsSum(arr, N, S)"
   ]
  },
  {
   "cell_type": "code",
   "execution_count": 6,
   "id": "7ac45f80-228c-41f1-b95e-a26b25143897",
   "metadata": {},
   "outputs": [
    {
     "name": "stdout",
     "output_type": "stream",
     "text": [
      "Triplets : 1  45  6\n"
     ]
    }
   ],
   "source": [
    "# Hashing\n",
    "def tripletsSum_2(arr, N, sums):\n",
    "    for i in range(N-1):\n",
    "        h = set()\n",
    "        currSum = sums - arr[i]\n",
    "        for j in range(i+1, N):\n",
    "            if (currSum - arr[j]) in h:\n",
    "                print(\"Triplets :\", arr[i], \"\", arr[j], \"\", currSum-arr[j])\n",
    "                return True\n",
    "            h.add(arr[j])\n",
    "    return False\n",
    "                \n",
    "        \n",
    "if __name__ == '__main__':\n",
    "    arr = [1, 4, 6, 10, 45, 8]\n",
    "    sums = 52\n",
    "    N = len(arr)\n",
    "    tripletsSum_2(arr, N, sums)"
   ]
  },
  {
   "cell_type": "markdown",
   "id": "0694f00a-4e56-41d7-8104-197637dc7fb8",
   "metadata": {},
   "source": [
    "<h3 style=\"color:yellow\">Trapping Rain Water</h3>"
   ]
  },
  {
   "cell_type": "code",
   "execution_count": 17,
   "id": "f5222fb8-263a-4df0-9e13-2bef56f19942",
   "metadata": {},
   "outputs": [
    {
     "name": "stdout",
     "output_type": "stream",
     "text": [
      "6\n"
     ]
    }
   ],
   "source": [
    "def maxWater_Rec(arr, n):\n",
    "    res = 0\n",
    "    for i in range(1, n-1):\n",
    "        left = arr[i]\n",
    "        for j in range(i):\n",
    "            left = max(left, arr[j])\n",
    "        \n",
    "        right = arr[i]\n",
    "        for j in range(i+1, n):\n",
    "            right = max(right, arr[j])\n",
    "            \n",
    "        res = res + (min(left, right) - arr[i])\n",
    "    \n",
    "    return res\n",
    "\n",
    "if __name__ == \"__main__\" :\n",
    " \n",
    "    arr = [0, 1, 0, 2, 1, 0, 1, 3, 2, 1, 2, 1];\n",
    "    n = len(arr);\n",
    "     \n",
    "    print(maxWater_Rec(arr, n));"
   ]
  },
  {
   "cell_type": "code",
   "execution_count": 20,
   "id": "6bfa9bd3-cca4-4c10-a2e5-cd4b5a184b5a",
   "metadata": {},
   "outputs": [
    {
     "name": "stdout",
     "output_type": "stream",
     "text": [
      "6\n"
     ]
    }
   ],
   "source": [
    "def maxWater_DP(arr, n):\n",
    "    left = [0]*n\n",
    "    right = [0]*n\n",
    "    res = 0\n",
    "    \n",
    "    left[0] = arr[0]\n",
    "    for i in range(1, n):\n",
    "        left[i] = max(left[i-1], arr[i])\n",
    "    \n",
    "    right[n-1] = arr[n-1]\n",
    "    for i in range(n-2, -1, -1):\n",
    "        right[i] = max(right[i+1], arr[i])\n",
    "        \n",
    "    for i in range(0,n):\n",
    "        res = res + (min(right[i], left[i]) - arr[i]) \n",
    "        \n",
    "    return res\n",
    "\n",
    "\n",
    "if __name__ == \"__main__\" :\n",
    " \n",
    "    arr = [0, 1, 0, 2, 1, 0, 1, 3, 2, 1, 2, 1];\n",
    "    n = len(arr);\n",
    "     \n",
    "    print(maxWater_DP(arr, n));"
   ]
  },
  {
   "cell_type": "code",
   "execution_count": null,
   "id": "d7d858fa-1d07-481d-a2a6-322fed98087e",
   "metadata": {},
   "outputs": [],
   "source": []
  }
 ],
 "metadata": {
  "kernelspec": {
   "display_name": "Python 3",
   "language": "python",
   "name": "python3"
  },
  "language_info": {
   "codemirror_mode": {
    "name": "ipython",
    "version": 3
   },
   "file_extension": ".py",
   "mimetype": "text/x-python",
   "name": "python",
   "nbconvert_exporter": "python",
   "pygments_lexer": "ipython3",
   "version": "3.9.1"
  }
 },
 "nbformat": 4,
 "nbformat_minor": 5
}
