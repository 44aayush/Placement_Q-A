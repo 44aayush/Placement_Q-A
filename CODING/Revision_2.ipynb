{
 "cells": [
  {
   "cell_type": "markdown",
   "id": "c91ea1c2",
   "metadata": {},
   "source": [
    "<h3 style=\"color:yellow\">Sort Array of dates</h3>"
   ]
  },
  {
   "cell_type": "code",
   "execution_count": 1,
   "id": "554479b5",
   "metadata": {},
   "outputs": [
    {
     "name": "stdout",
     "output_type": "stream",
     "text": [
      "01 Jan 2007\n",
      "10 Jul 2016\n",
      "2 Dec 2017\n",
      "11 Jun 2018\n",
      "23 Jun 2018\n",
      "01 Jan 2019\n"
     ]
    }
   ],
   "source": [
    "from datetime import datetime\r\n",
    "def sortDates(dates):\r\n",
    "    dates.sort(key = lambda date: datetime.strptime(date, '%d %b %Y'))\r\n",
    "    \r\n",
    "    for i in range(len(dates)):\r\n",
    "        print(dates[i])\r\n",
    "\r\n",
    "if __name__ == '__main__':\r\n",
    "    dates =  [\"23 Jun 2018\", \"2 Dec 2017\", \"11 Jun 2018\", \r\n",
    "              \"01 Jan 2019\", \"10 Jul 2016\", \"01 Jan 2007\"]\r\n",
    "    sortDates(dates)"
   ]
  },
  {
   "cell_type": "markdown",
   "id": "f222f047",
   "metadata": {},
   "source": [
    "<h3 style=\"color:yellow\">Triplets that Sum to given value</h3>"
   ]
  },
  {
   "cell_type": "code",
   "execution_count": 3,
   "id": "f116971e",
   "metadata": {},
   "outputs": [
    {
     "name": "stdout",
     "output_type": "stream",
     "text": [
      "Triplets : 4  10  8\n"
     ]
    }
   ],
   "source": [
    "# Naive\r\n",
    "def tripletsSum(arr, N, S):\r\n",
    "    for i in range(N-2):\r\n",
    "        for j in range(i+1, N-1):\r\n",
    "            for k in range(j+1, N):\r\n",
    "                if arr[i]+arr[j]+arr[k] == S:\r\n",
    "                    print(\"Triplets :\", arr[i], \"\", arr[j], \"\", arr[k])\r\n",
    "                    return True\r\n",
    "    return False\r\n",
    "\r\n",
    "if __name__ == '__main__':\r\n",
    "    arr = [1, 4, 45, 6, 10, 8]\r\n",
    "    S = 22\r\n",
    "    N = len(arr)\r\n",
    "    tripletsSum(arr, N, S)"
   ]
  },
  {
   "cell_type": "code",
   "execution_count": 6,
   "id": "6aa23a68",
   "metadata": {},
   "outputs": [
    {
     "name": "stdout",
     "output_type": "stream",
     "text": [
      "Triplets : 1  45  6\n"
     ]
    }
   ],
   "source": [
    "# Hashing\r\n",
    "def tripletsSum_2(arr, N, sums):\r\n",
    "    for i in range(N-1):\r\n",
    "        h = set()\r\n",
    "        currSum = sums - arr[i]\r\n",
    "        for j in range(i+1, N):\r\n",
    "            if (currSum - arr[j]) in h:\r\n",
    "                print(\"Triplets :\", arr[i], \"\", arr[j], \"\", currSum-arr[j])\r\n",
    "                return True\r\n",
    "            h.add(arr[j])\r\n",
    "    return False\r\n",
    "                \r\n",
    "        \r\n",
    "if __name__ == '__main__':\r\n",
    "    arr = [1, 4, 6, 10, 45, 8]\r\n",
    "    sums = 52\r\n",
    "    N = len(arr)\r\n",
    "    tripletsSum_2(arr, N, sums)"
   ]
  },
  {
   "cell_type": "markdown",
   "id": "8af6d885",
   "metadata": {},
   "source": [
    "<h3 style=\"color:yellow\">Trapping Rain Water</h3>"
   ]
  },
  {
   "cell_type": "code",
   "execution_count": 17,
   "id": "ae65b87b",
   "metadata": {},
   "outputs": [
    {
     "name": "stdout",
     "output_type": "stream",
     "text": [
      "6\n"
     ]
    }
   ],
   "source": [
    "def maxWater_Rec(arr, n):\r\n",
    "    res = 0\r\n",
    "    for i in range(1, n-1):\r\n",
    "        left = arr[i]\r\n",
    "        for j in range(i):\r\n",
    "            left = max(left, arr[j])\r\n",
    "        \r\n",
    "        right = arr[i]\r\n",
    "        for j in range(i+1, n):\r\n",
    "            right = max(right, arr[j])\r\n",
    "            \r\n",
    "        res = res + (min(left, right) - arr[i])\r\n",
    "    \r\n",
    "    return res\r\n",
    "\r\n",
    "if __name__ == \"__main__\" :\r\n",
    " \r\n",
    "    arr = [0, 1, 0, 2, 1, 0, 1, 3, 2, 1, 2, 1];\r\n",
    "    n = len(arr);\r\n",
    "     \r\n",
    "    print(maxWater_Rec(arr, n));"
   ]
  },
  {
   "cell_type": "code",
   "execution_count": 20,
   "id": "faf74013",
   "metadata": {},
   "outputs": [
    {
     "name": "stdout",
     "output_type": "stream",
     "text": [
      "6\n"
     ]
    }
   ],
   "source": [
    "def maxWater_DP(arr, n):\r\n",
    "    left = [0]*n\r\n",
    "    right = [0]*n\r\n",
    "    res = 0\r\n",
    "    \r\n",
    "    left[0] = arr[0]\r\n",
    "    for i in range(1, n):\r\n",
    "        left[i] = max(left[i-1], arr[i])\r\n",
    "    \r\n",
    "    right[n-1] = arr[n-1]\r\n",
    "    for i in range(n-2, -1, -1):\r\n",
    "        right[i] = max(right[i+1], arr[i])\r\n",
    "        \r\n",
    "    for i in range(0,n):\r\n",
    "        res = res + (min(right[i], left[i]) - arr[i]) \r\n",
    "        \r\n",
    "    return res\r\n",
    "\r\n",
    "\r\n",
    "if __name__ == \"__main__\" :\r\n",
    " \r\n",
    "    arr = [0, 1, 0, 2, 1, 0, 1, 3, 2, 1, 2, 1];\r\n",
    "    n = len(arr);\r\n",
    "     \r\n",
    "    print(maxWater_DP(arr, n));"
   ]
  },
  {
   "cell_type": "markdown",
   "id": "4a5ba244",
   "metadata": {},
   "source": [
    "<h3 style=\"color:yellow\">All Substrings</h3>\r\n",
    "Input :  abcd<br>\r\n",
    "Output :  <br>\r\n",
    "a <br>\r\n",
    "b<br>\r\n",
    "c<br>\r\n",
    "d<br>\r\n",
    "ab<br>\r\n",
    "bc<br>\r\n",
    "cd<br>\r\n",
    "abc<br>\r\n",
    "bcd<br>\r\n",
    "abcd<br>"
   ]
  },
  {
   "cell_type": "code",
   "execution_count": 4,
   "id": "698d4995",
   "metadata": {},
   "outputs": [
    {
     "ename": "SyntaxError",
     "evalue": "unmatched ')' (<ipython-input-4-7c97a5988777>, line 2)",
     "output_type": "error",
     "traceback": [
      "\u001b[1;36m  File \u001b[1;32m\"<ipython-input-4-7c97a5988777>\"\u001b[1;36m, line \u001b[1;32m2\u001b[0m\n\u001b[1;33m    n = le(s))\u001b[0m\n\u001b[1;37m             ^\u001b[0m\n\u001b[1;31mSyntaxError\u001b[0m\u001b[1;31m:\u001b[0m unmatched ')'\n"
     ]
    }
   ],
   "source": [
    "def subString(s):\n",
    "    n = len(s)W\r",
    "# \n",
    "    n = le(s))# \r\n",
    "    for i in range(n)# :\r\n",
    "        folen in range(i+1, n+1# ):\r\n",
    "            prsrinl:len])\r\n",
    "\r\n",
    "s = \"abcd\"\r\n",
    "subString(s)"
   ]
  },
  {
   "cell_type": "code",
   "execution_count": null,
   "id": "5d61015e",
   "metadata": {},
   "outputs": [],
   "source": []
  }
 ],
 "metadata": {
  "interpreter": {
   "hash": "63fd5069d213b44bf678585dea6b12cceca9941eaf7f819626cde1f2670de90d"
  },
  "kernelspec": {
   "display_name": "Python 3",
   "language": "python",
   "name": "python3"
  },
  "language_info": {
   "codemirror_mode": {
    "name": "ipython",
    "version": 3
   },
   "file_extension": ".py",
   "mimetype": "text/x-python",
   "name": "python",
   "nbconvert_exporter": "python",
   "pygments_lexer": "ipython3",
   "version": "3.9.1"
  }
 },
 "nbformat": 4,
 "nbformat_minor": 5
}
