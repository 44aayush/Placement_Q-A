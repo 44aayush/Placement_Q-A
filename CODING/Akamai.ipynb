{
 "cells": [
  {
   "cell_type": "markdown",
   "id": "56f4fd77-d99b-4750-8719-c5ebec2aa69b",
   "metadata": {},
   "source": [
    "# Minimum number of increment-other operations to make all array elements equal"
   ]
  },
  {
   "cell_type": "code",
   "execution_count": 9,
   "id": "c0703b30-ece4-48d9-ac2c-8ca17466e4a6",
   "metadata": {},
   "outputs": [
    {
     "data": {
      "text/plain": [
       "6"
      ]
     },
     "execution_count": 9,
     "metadata": {},
     "output_type": "execute_result"
    }
   ],
   "source": [
    "def incOperations(arr, n):\n",
    "    sm = sum(arr)\n",
    "    m = min(arr)\n",
    "    return sm - (n * m)\n",
    "\n",
    "arr = [1,2,3,4]\n",
    "n = len(arr)\n",
    "incOperations(arr, n)"
   ]
  },
  {
   "cell_type": "code",
   "execution_count": 8,
   "id": "86a5640f-d72a-4d52-a840-46de6a3f7626",
   "metadata": {},
   "outputs": [
    {
     "data": {
      "text/plain": [
       "3"
      ]
     },
     "execution_count": 8,
     "metadata": {},
     "output_type": "execute_result"
    }
   ],
   "source": [
    "from collections import defaultdict\n",
    "def minOps(arr,n):\n",
    "    h = defaultdict(lambda:0)\n",
    "    \n",
    "    for i in range(n):\n",
    "        h[arr[i]] += 1\n",
    "    \n",
    "    mc = 0\n",
    "    for i in h:\n",
    "        if mc < h[i]:\n",
    "            mc = h[i]\n",
    "    return n - mc\n",
    "\n",
    "arr = [1,2,3,4]\n",
    "n = len(arr)\n",
    "minOps(arr, n)"
   ]
  },
  {
   "cell_type": "markdown",
   "id": "14d46607-c8ad-4be7-8c37-5534999e5e5b",
   "metadata": {},
   "source": [
    "<br>"
   ]
  },
  {
   "cell_type": "markdown",
   "id": "0432b59c-1b72-41f7-857a-52cdc306df8a",
   "metadata": {},
   "source": [
    "# Next greater number "
   ]
  },
  {
   "cell_type": "code",
   "execution_count": 20,
   "id": "08dc739b-b89f-4153-bf4c-b1fcab6e6824",
   "metadata": {},
   "outputs": [
    {
     "name": "stdout",
     "output_type": "stream",
     "text": [
      "-1\n"
     ]
    }
   ],
   "source": [
    "def nextGreater(arr, n):\n",
    "    k = n - 2\n",
    "    while k >= 0:\n",
    "        if arr[k] < arr[k+1]:\n",
    "            break\n",
    "        k -= 1\n",
    "#     print(k)\n",
    "    if k < 0:\n",
    "        return -1\n",
    "    \n",
    "    else:\n",
    "        for l in range(n-1, k, -1):\n",
    "            if arr[l] > arr[k]:\n",
    "                break\n",
    "        arr[l], arr[k] = arr[k], arr[l]\n",
    "        \n",
    "        arr[k+1:] = reversed(arr[k+1:])\n",
    "        \n",
    "    return arr\n",
    "    \n",
    "\n",
    "arr = [9,7,6,5,4,3]\n",
    "n = len(arr)\n",
    "print(nextGreater(arr,n))"
   ]
  },
  {
   "cell_type": "markdown",
   "id": "dc3c030e-9b56-40e8-9d1f-9490c703e164",
   "metadata": {},
   "source": [
    "<br>"
   ]
  },
  {
   "cell_type": "markdown",
   "id": "d250113b-c638-4f65-bd3e-6f6b0fb26d4e",
   "metadata": {},
   "source": [
    "# Remove every k from list until it becomes empty"
   ]
  },
  {
   "cell_type": "code",
   "execution_count": 8,
   "id": "800bccda-e616-4b47-a60a-38cd0a3002e6",
   "metadata": {},
   "outputs": [],
   "source": [
    "def kNumber(arr,k):\n",
    "    pos = k-1\n",
    "    index = 0\n",
    "    n = len(arr)\n",
    "    while n > 0:\n",
    "        index = (pos + index) % n\n",
    "        print(arr.pop(index))\n",
    "        n -= 1"
   ]
  },
  {
   "cell_type": "code",
   "execution_count": 9,
   "id": "ed987451-6fcd-4a34-b393-799ca6cf489a",
   "metadata": {},
   "outputs": [
    {
     "name": "stdout",
     "output_type": "stream",
     "text": [
      "30\n",
      "60\n",
      "90\n",
      "40\n",
      "80\n",
      "50\n",
      "20\n",
      "70\n",
      "10\n"
     ]
    }
   ],
   "source": [
    "arr =  [10, 20, 30, 40, 50, 60, 70, 80, 90]\n",
    "k = 3\n",
    "kNumber(arr, k)"
   ]
  },
  {
   "cell_type": "markdown",
   "id": "aec6ae46-cded-4740-ad89-91118eff50bf",
   "metadata": {},
   "source": [
    "<br>"
   ]
  },
  {
   "cell_type": "markdown",
   "id": "8c4e9df6-1790-4f16-b9f5-b6c2c42fbae2",
   "metadata": {},
   "source": [
    "# Pascal Triangle"
   ]
  },
  {
   "cell_type": "code",
   "execution_count": 10,
   "id": "c89f5c09-5fa9-4910-ad61-aa35bf1b6d3b",
   "metadata": {},
   "outputs": [
    {
     "name": "stdout",
     "output_type": "stream",
     "text": [
      "1  \n",
      "1 1  \n",
      "1 2 1  \n",
      "1 3 3 1  \n",
      "1 4 6 4 1  \n",
      "1 5 10 10 5 1  \n"
     ]
    }
   ],
   "source": [
    "def pascalTriangle(n):\n",
    "    for line in range(1,n+1):\n",
    "        c = 1\n",
    "        for i in range(1, line+1):\n",
    "            print(c, end=\" \")\n",
    "            c = int(c * (line - i) / i)\n",
    "        print(\" \")\n",
    "n = 6\n",
    "pascalTriangle(n)"
   ]
  },
  {
   "cell_type": "markdown",
   "id": "a8ef9987-932d-4a13-ae6b-0223cb8046a0",
   "metadata": {},
   "source": [
    "<br>"
   ]
  },
  {
   "cell_type": "markdown",
   "id": "9432861a-57be-40c3-92f6-0d3a5f38caf1",
   "metadata": {},
   "source": [
    "# Max repeating sub string"
   ]
  },
  {
   "cell_type": "code",
   "execution_count": 21,
   "id": "8100ebe1-f98c-49f8-9548-785132919da1",
   "metadata": {},
   "outputs": [],
   "source": [
    "def maxSubstring(s):\n",
    "    n = len(s)\n",
    "    res = \"\"\n",
    "    maxCount = 0\n",
    "    for i in range(n):\n",
    "        count = 1\n",
    "        for j in range(i+1, n):\n",
    "            if s[i] != s[j]:\n",
    "                break\n",
    "            count += 1\n",
    "        if count > maxCount:\n",
    "            maxCount = count\n",
    "            res = s[i]\n",
    "    return res, maxCount"
   ]
  },
  {
   "cell_type": "code",
   "execution_count": 23,
   "id": "d8c50191-7074-4a56-8deb-96e4b065720b",
   "metadata": {},
   "outputs": [],
   "source": [
    "def maxSubstr(s):\n",
    "    n = len(s)\n",
    "    maxCount = 0\n",
    "    res = \"\"\n",
    "    c = 1\n",
    "    \n",
    "    for i in range(n):\n",
    "        if i < n-1 and s[i] == s[i+1]:\n",
    "            c += 1\n",
    "        else:\n",
    "            if c > maxCount:\n",
    "                maxCount = c\n",
    "                res = s[i]\n",
    "            c = 1\n",
    "    return res, maxCount"
   ]
  },
  {
   "cell_type": "code",
   "execution_count": 24,
   "id": "c9a74f02-394c-41a4-a149-1ce72f2fe3b0",
   "metadata": {},
   "outputs": [
    {
     "name": "stdout",
     "output_type": "stream",
     "text": [
      "('d', 8)\n",
      "('d', 8)\n"
     ]
    }
   ],
   "source": [
    "s = \"aaaaabbbbbbccdddddddd\"\n",
    "out = maxSubstring(s)\n",
    "print(out)\n",
    "print(maxSubstr(s))"
   ]
  },
  {
   "cell_type": "markdown",
   "id": "63754996-4a72-4c64-a781-2b2c90a211b8",
   "metadata": {},
   "source": [
    "<br>"
   ]
  },
  {
   "cell_type": "markdown",
   "id": "3efe34c4-09b8-4ebf-aa9f-413ef193fb90",
   "metadata": {},
   "source": [
    "# Longest Substring without repeating characters"
   ]
  },
  {
   "cell_type": "code",
   "execution_count": 31,
   "id": "c3792117-5c53-450f-9e2f-d8586f94df5a",
   "metadata": {},
   "outputs": [],
   "source": [
    "def longestSubstr(s):\n",
    "    char = set()\n",
    "    i = j = longSub = 0\n",
    "    length = len(s)\n",
    "    \n",
    "    while j < length:\n",
    "        if s[j] not in char:\n",
    "            char.add(s[j])\n",
    "            j += 1\n",
    "            longSub = max(longSub, len(char))\n",
    "        else:\n",
    "            char.remove(s[i])\n",
    "            i += 1\n",
    "    \n",
    "    return longSub"
   ]
  },
  {
   "cell_type": "code",
   "execution_count": 32,
   "id": "30f97c08-b63b-4980-988d-ade4fade6f81",
   "metadata": {},
   "outputs": [
    {
     "name": "stdout",
     "output_type": "stream",
     "text": [
      "7\n"
     ]
    }
   ],
   "source": [
    "str = \"geeksforgeeks\"\n",
    "print(longestSubstr(str))"
   ]
  },
  {
   "cell_type": "markdown",
   "id": "43f9e95c-2ca3-4a9e-8abf-f5188b760375",
   "metadata": {},
   "source": [
    "<br>"
   ]
  },
  {
   "cell_type": "markdown",
   "id": "16c48472-3426-407f-9cf8-126f1899bc42",
   "metadata": {},
   "source": [
    "# Reverse k nodes"
   ]
  },
  {
   "cell_type": "code",
   "execution_count": 33,
   "id": "253cfa60-41af-405b-915e-ab85c75da1c5",
   "metadata": {},
   "outputs": [],
   "source": [
    "def reverseKNodes(head, k):\n",
    "    if head == None:\n",
    "        return None\n",
    "    \n",
    "    curr = head\n",
    "    next = None\n",
    "    prev = None\n",
    "    count = 0\n",
    "    \n",
    "    while curr is not None and count < k:\n",
    "        next = curr.next\n",
    "        curr.next = prev\n",
    "        prev = curr\n",
    "        curr = next\n",
    "        count += 1\n",
    "    \n",
    "    if next is not None:\n",
    "        head.next = reverseKNodes(next, k)\n",
    "    return prev"
   ]
  },
  {
   "cell_type": "markdown",
   "id": "a9defa2d-b933-453a-a175-0fc68ce0a8c2",
   "metadata": {},
   "source": [
    "<br>"
   ]
  },
  {
   "cell_type": "markdown",
   "id": "ad5964b2-230a-46fb-ada7-44cf07f1856e",
   "metadata": {},
   "source": [
    "<br>"
   ]
  },
  {
   "cell_type": "markdown",
   "id": "b531b9f3-be2f-447c-ae8e-8bfca018e714",
   "metadata": {},
   "source": [
    "# Swap Kth node from beginning with Kth node from end in a Linked List"
   ]
  },
  {
   "cell_type": "code",
   "execution_count": 34,
   "id": "bf57a131-fe4a-486a-ade2-ecaf9c72622d",
   "metadata": {},
   "outputs": [],
   "source": [
    "def countNodes(head):\n",
    "    c = 0\n",
    "    node = head\n",
    "    while node.next is not None:\n",
    "        c += 1\n",
    "        node = node.next\n",
    "    return c\n",
    "\n",
    "def swapKNodes(head, k):\n",
    "    n = countNodes(head)\n",
    "    if n < k: \n",
    "        return\n",
    "    \n",
    "    if (2*k-1) == n:\n",
    "        return\n",
    "    \n",
    "    x = head\n",
    "    x_prev = None\n",
    "    for i in range(k-1):\n",
    "        x_prev = x\n",
    "        x = x.next\n",
    "        \n",
    "    y = head\n",
    "    y_prev = None\n",
    "    for i in range(n-k):\n",
    "        y_prev = y\n",
    "        y = y.next\n",
    "    \n",
    "    if x_prev is not None:\n",
    "        x_prev.next = y\n",
    "    \n",
    "    if y_prev is not None:\n",
    "        y_prev.next = x\n",
    "    \n",
    "    temp = x.next\n",
    "    x.next = y.next\n",
    "    y.next = temp\n",
    "    \n",
    "    if k==1:\n",
    "        head = y\n",
    "        \n",
    "    if k == n:\n",
    "        head = x"
   ]
  },
  {
   "cell_type": "code",
   "execution_count": null,
   "id": "e39a27a8-d559-4335-b82d-10b5856863fb",
   "metadata": {},
   "outputs": [],
   "source": []
  }
 ],
 "metadata": {
  "kernelspec": {
   "display_name": "Python 3",
   "language": "python",
   "name": "python3"
  },
  "language_info": {
   "codemirror_mode": {
    "name": "ipython",
    "version": 3
   },
   "file_extension": ".py",
   "mimetype": "text/x-python",
   "name": "python",
   "nbconvert_exporter": "python",
   "pygments_lexer": "ipython3",
   "version": "3.9.1"
  }
 },
 "nbformat": 4,
 "nbformat_minor": 5
}
