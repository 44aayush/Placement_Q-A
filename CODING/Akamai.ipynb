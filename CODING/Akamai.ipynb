{
 "cells": [
  {
   "cell_type": "markdown",
   "id": "56f4fd77-d99b-4750-8719-c5ebec2aa69b",
   "metadata": {},
   "source": [
    "# Minimum number of increment-other operations to make all array elements equal"
   ]
  },
  {
   "cell_type": "code",
   "execution_count": 9,
   "id": "c0703b30-ece4-48d9-ac2c-8ca17466e4a6",
   "metadata": {},
   "outputs": [
    {
     "data": {
      "text/plain": [
       "6"
      ]
     },
     "execution_count": 9,
     "metadata": {},
     "output_type": "execute_result"
    }
   ],
   "source": [
    "def incOperations(arr, n):\n",
    "    sm = sum(arr)\n",
    "    m = min(arr)\n",
    "    return sm - (n * m)\n",
    "\n",
    "arr = [1,2,3,4]\n",
    "n = len(arr)\n",
    "incOperations(arr, n)"
   ]
  },
  {
   "cell_type": "code",
   "execution_count": 8,
   "id": "86a5640f-d72a-4d52-a840-46de6a3f7626",
   "metadata": {},
   "outputs": [
    {
     "data": {
      "text/plain": [
       "3"
      ]
     },
     "execution_count": 8,
     "metadata": {},
     "output_type": "execute_result"
    }
   ],
   "source": [
    "from collections import defaultdict\n",
    "def minOps(arr,n):\n",
    "    h = defaultdict(lambda:0)\n",
    "    \n",
    "    for i in range(n):\n",
    "        h[arr[i]] += 1\n",
    "    \n",
    "    mc = 0\n",
    "    for i in h:\n",
    "        if mc < h[i]:\n",
    "            mc = h[i]\n",
    "    return n - mc\n",
    "\n",
    "arr = [1,2,3,4]\n",
    "n = len(arr)\n",
    "minOps(arr, n)"
   ]
  },
  {
   "cell_type": "markdown",
   "id": "14d46607-c8ad-4be7-8c37-5534999e5e5b",
   "metadata": {},
   "source": [
    "<br>"
   ]
  },
  {
   "cell_type": "markdown",
   "id": "0432b59c-1b72-41f7-857a-52cdc306df8a",
   "metadata": {},
   "source": [
    "# Next greater number "
   ]
  },
  {
   "cell_type": "code",
   "execution_count": 20,
   "id": "08dc739b-b89f-4153-bf4c-b1fcab6e6824",
   "metadata": {},
   "outputs": [
    {
     "name": "stdout",
     "output_type": "stream",
     "text": [
      "-1\n"
     ]
    }
   ],
   "source": [
    "def nextGreater(arr, n):\n",
    "    k = n - 2\n",
    "    while k >= 0:\n",
    "        if arr[k] < arr[k+1]:\n",
    "            break\n",
    "        k -= 1\n",
    "#     print(k)\n",
    "    if k < 0:\n",
    "        return -1\n",
    "    \n",
    "    else:\n",
    "        for l in range(n-1, k, -1):\n",
    "            if arr[l] > arr[k]:\n",
    "                break\n",
    "        arr[l], arr[k] = arr[k], arr[l]\n",
    "        \n",
    "        arr[k+1:] = reversed(arr[k+1:])\n",
    "        \n",
    "    return arr\n",
    "    \n",
    "\n",
    "arr = [9,7,6,5,4,3]\n",
    "n = len(arr)\n",
    "print(nextGreater(arr,n))"
   ]
  },
  {
   "cell_type": "code",
   "execution_count": null,
   "id": "4af325b9-d9db-4209-aa1e-8f7f6c56f8c7",
   "metadata": {},
   "outputs": [],
   "source": []
  }
 ],
 "metadata": {
  "kernelspec": {
   "display_name": "Python 3",
   "language": "python",
   "name": "python3"
  },
  "language_info": {
   "codemirror_mode": {
    "name": "ipython",
    "version": 3
   },
   "file_extension": ".py",
   "mimetype": "text/x-python",
   "name": "python",
   "nbconvert_exporter": "python",
   "pygments_lexer": "ipython3",
   "version": "3.9.1"
  }
 },
 "nbformat": 4,
 "nbformat_minor": 5
}
