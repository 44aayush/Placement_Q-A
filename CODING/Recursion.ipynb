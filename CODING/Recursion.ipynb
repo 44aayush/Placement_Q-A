{
 "cells": [
  {
   "cell_type": "markdown",
   "id": "e5d73d8e",
   "metadata": {},
   "source": [
    "# Fibonacci "
   ]
  },
  {
   "cell_type": "code",
   "execution_count": 35,
   "id": "f82b6486",
   "metadata": {},
   "outputs": [],
   "source": [
    "def recur_Fib(n):\r\n",
    "    if n == 0:\r\n",
    "        return 0\r\n",
    "    \r\n",
    "    elif n == 1:\r\n",
    "        return 1\r\n",
    "    \r\n",
    "    else:\r\n",
    "        return recur_Fib(n-1) + recur_Fib(n-2)\r\n",
    "\r\n",
    "# Time => T(n-1) + T(n-2)"
   ]
  },
  {
   "cell_type": "code",
   "execution_count": 36,
   "id": "8bd32570",
   "metadata": {},
   "outputs": [],
   "source": [
    "def iter_Fib(n):\r\n",
    "    if n == 0:\r\n",
    "        return 0\r\n",
    "    \r\n",
    "    elif n == 1:\r\n",
    "        return 1\r\n",
    "    \r\n",
    "    f1 = 0\r\n",
    "    f2 = 1\r\n",
    "    temp = 0\r\n",
    "    for i in range(2,n+1):\r\n",
    "        temp = f1 + f2\r\n",
    "        f1 = f2\r\n",
    "        f2 = temp\r\n",
    "    \r\n",
    "    return temp\r\n",
    "\r\n",
    "# Time => O(n)"
   ]
  },
  {
   "cell_type": "code",
   "execution_count": 37,
   "id": "35a9c481",
   "metadata": {},
   "outputs": [],
   "source": [
    "# If n is even then k = n/2:\r\n",
    "# F(n) = [2*F(k-1) + F(k)]*F(k)\r\n",
    "\r\n",
    "# If n is odd then k = (n + 1)/2\r\n",
    "# F(n) = F(k)*F(k) + F(k-1)*F(k-1)\r\n",
    "\r\n",
    "MAX = 1000\r\n",
    "f = [0]*MAX # Array for memoization\r\n",
    "\r\n",
    "# Returns nth fibonacci number using table f[]\r\n",
    "def formula_Fib(n):\r\n",
    "    if n == 0:\r\n",
    "        return 0\r\n",
    "    \r\n",
    "    if (n == 1 or n == 2):\r\n",
    "        f[n] = 1\r\n",
    "        return (f[n])\r\n",
    "    \r\n",
    "    # If fibonacci is already computed\r\n",
    "    if f[n]:\r\n",
    "        return (f[n])\r\n",
    "    \r\n",
    "    if (n & 1):\r\n",
    "        k = (n+1) // 2\r\n",
    "    else:\r\n",
    "        k = n // 2\r\n",
    "    \r\n",
    "    # Applying above formula [Note value n&1 is 1]\r\n",
    "    # if n is odd, else 0.\r\n",
    "    if (n & 1):\r\n",
    "        f[n] = (formula_Fib(k)*formula_Fib(k) + formula_Fib(k-1)*formula_Fib(k-1))\r\n",
    "    else:\r\n",
    "        f[n] = (2*formula_Fib(k-1) + formula_Fib(k))*formula_Fib(k)\r\n",
    "    \r\n",
    "    return f[n]\r\n",
    "\r\n",
    "# Time => O(log n)\r\n",
    "# Formula => {[( sqrt[5] + 1 ) / 2 ] ^ n } / sqrt[5]"
   ]
  },
  {
   "cell_type": "code",
   "execution_count": 38,
   "id": "5c347bad",
   "metadata": {},
   "outputs": [],
   "source": [
    "# DP using Memoization (Top-down approach)\r\n",
    "\r\n",
    "dp = [-1 for i in range(10)]\r\n",
    "\r\n",
    "def dp_Fib(n):\r\n",
    "    if n <= 1:\r\n",
    "        return n\r\n",
    "    global dp\r\n",
    "    \r\n",
    "    f1 = 0\r\n",
    "    f2 = 1\r\n",
    "    \r\n",
    "    if (dp[n-1] != -1):\r\n",
    "        f1 = dp[n-1]\r\n",
    "    else:\r\n",
    "        f1 = dp_Fib(n-1) #First time calculate value\r\n",
    "    \r\n",
    "    if (dp[n-2] != -1):\r\n",
    "        f2 = dp[n-2]\r\n",
    "    else:\r\n",
    "        f2 =dp_Fib(n-2)\r\n",
    "    \r\n",
    "    dp[n] = f1 + f2\r\n",
    "    \r\n",
    "    return dp[n]"
   ]
  },
  {
   "cell_type": "code",
   "execution_count": 39,
   "id": "731d1b8c",
   "metadata": {},
   "outputs": [
    {
     "data": {
      "text/plain": [
       "5"
      ]
     },
     "execution_count": 39,
     "metadata": {},
     "output_type": "execute_result"
    }
   ],
   "source": [
    "recur_Fib(5)"
   ]
  },
  {
   "cell_type": "code",
   "execution_count": 40,
   "id": "48eec00c",
   "metadata": {},
   "outputs": [
    {
     "data": {
      "text/plain": [
       "5"
      ]
     },
     "execution_count": 40,
     "metadata": {},
     "output_type": "execute_result"
    }
   ],
   "source": [
    "iter_Fib(5)"
   ]
  },
  {
   "cell_type": "code",
   "execution_count": 41,
   "id": "767ad965",
   "metadata": {},
   "outputs": [
    {
     "data": {
      "text/plain": [
       "5"
      ]
     },
     "execution_count": 41,
     "metadata": {},
     "output_type": "execute_result"
    }
   ],
   "source": [
    "formula_Fib(5)"
   ]
  },
  {
   "cell_type": "code",
   "execution_count": 42,
   "id": "42bc717e",
   "metadata": {},
   "outputs": [
    {
     "data": {
      "text/plain": [
       "5"
      ]
     },
     "execution_count": 42,
     "metadata": {},
     "output_type": "execute_result"
    }
   ],
   "source": [
    "dp_Fib(5)"
   ]
  },
  {
   "cell_type": "markdown",
   "id": "b27c4114",
   "metadata": {},
   "source": [
    "# Pow(x,n)"
   ]
  },
  {
   "cell_type": "markdown",
   "id": "815e9ace",
   "metadata": {},
   "source": [
    "x<sup>n</sup> =  {<br>\n",
    "    <span style=\"color:red\">x * x<sup>n-1</sup>, if n > 0\n",
    "    <br>\n",
    "    1, if n == 0</span>\n",
    "    <br>\n",
    "}"
   ]
  },
  {
   "cell_type": "code",
   "execution_count": 43,
   "id": "3ab30bb9",
   "metadata": {},
   "outputs": [],
   "source": [
    "def pow(x,n):\r\n",
    "    if n == 0:\r\n",
    "        return 1\r\n",
    "    \r\n",
    "    else:\r\n",
    "        return x * pow(x,n-1)"
   ]
  },
  {
   "cell_type": "markdown",
   "id": "ae774d9f",
   "metadata": {},
   "source": [
    "x<sup>n</sup> =  {<br>\n",
    "    <span style=\"color:red\">x<sup>n/2</sup> * x<sup>n/2</sup>, if n is EVEN\n",
    "    <br>\n",
    "    x * x<sup>n-1</sup>, if n is ODD</span>\n",
    "    <br>\n",
    "}"
   ]
  },
  {
   "cell_type": "code",
   "execution_count": 44,
   "id": "9caf4416",
   "metadata": {},
   "outputs": [],
   "source": [
    "def pow_1(x,n):\r\n",
    "    if n == 0:\r\n",
    "        return 1\r\n",
    "    \r\n",
    "    elif n%2 == 0:\r\n",
    "        even_res = pow_1(x, n//2)\r\n",
    "        return even_res * even_res\r\n",
    "    \r\n",
    "    else:\r\n",
    "        return x * pow(x,n-1)"
   ]
  },
  {
   "cell_type": "code",
   "execution_count": 45,
   "id": "7867a456",
   "metadata": {},
   "outputs": [
    {
     "data": {
      "text/plain": [
       "32"
      ]
     },
     "execution_count": 45,
     "metadata": {},
     "output_type": "execute_result"
    }
   ],
   "source": [
    "pow(2,5)"
   ]
  },
  {
   "cell_type": "code",
   "execution_count": 46,
   "id": "40584763",
   "metadata": {},
   "outputs": [
    {
     "data": {
      "text/plain": [
       "32"
      ]
     },
     "execution_count": 46,
     "metadata": {},
     "output_type": "execute_result"
    }
   ],
   "source": [
    "pow_1(2,5)"
   ]
  },
  {
   "cell_type": "markdown",
   "id": "ca323d03",
   "metadata": {},
   "source": [
    "# Modular Exponential \n",
    "- x<sup>n</sup> mod M\n",
    "- 5<sup>2</sup> mod 7 => 25 % 7 => 4\n",
    "<br>\n",
    "- (a * b ) % M => { (a % M) * (b % M) } % M\n",
    "- x<sup>n</sup> mod M => ( x * x<sup>n-1</sup>) % M\n",
    "- x<sup>n</sup> mod M => { <br>\n",
    "    <span style=\"color:red\">{ (x<sup>n/2</sup> % M) * (x<sup>n/2</sup> % M) } % M, if n is EVEN</span>\n",
    "    <br>\n",
    "    <span style=\"color:red\">{ (x % M) * (x <sup>n-1</sup> % M) } % M, if n is ODD</span>\n",
    "    <br>\n",
    "    <span style=\"color:red\"> 1, if n is 0</span>\n",
    "    <br>\n",
    "}"
   ]
  },
  {
   "cell_type": "code",
   "execution_count": 47,
   "id": "a45f2510",
   "metadata": {},
   "outputs": [],
   "source": [
    "def mod_Expo(x,n,M):\r\n",
    "    if n == 0:\r\n",
    "        return 1\r\n",
    "    elif n%2 == 0:\r\n",
    "        res = mod_Expo(x,n/2,M)\r\n",
    "        return (res * res) % M\r\n",
    "    else:\r\n",
    "        res = mod_Expo(x,n-1,M)\r\n",
    "        return (x * res) % M \r\n",
    "        # return { (x % M) * (mod_Expo(x,n-1,M))} % M"
   ]
  },
  {
   "cell_type": "code",
   "execution_count": 48,
   "id": "dc597d8a",
   "metadata": {},
   "outputs": [
    {
     "data": {
      "text/plain": [
       "6"
      ]
     },
     "execution_count": 48,
     "metadata": {},
     "output_type": "execute_result"
    }
   ],
   "source": [
    "mod_Expo(5,3,7)"
   ]
  },
  {
   "cell_type": "markdown",
   "id": "ef1cea54",
   "metadata": {},
   "source": [
    "# Count ways to reach nth stair"
   ]
  },
  {
   "cell_type": "markdown",
   "id": "2120fb5c",
   "metadata": {},
   "source": [
    "## METHOD 1\n",
    "<h3>Using Finonacci</h3>\n",
    "<br>\n",
    "\n",
    "- stair_Ways(1) = Fib(2) = 1<br>\n",
    "- stair_Ways(2) = Fib(3) = 2<br>\n",
    "- stair_Ways(s) = Fib(n+1)<br>\n",
    "- n => target\n",
    "- m => max steps that can be taken \n",
    "\n",
    "<h4> Time => O(2<sup>n</sup>)\n",
    "    <br>\n",
    " Space => O(1) </h4>"
   ]
  },
  {
   "cell_type": "code",
   "execution_count": 49,
   "id": "05d9c179",
   "metadata": {},
   "outputs": [],
   "source": [
    "def countWays(n,m):\r\n",
    "    if n <= 1:\r\n",
    "        return n\r\n",
    "    \r\n",
    "    res = 0\r\n",
    "    i = 1\r\n",
    "    while i<=m and i<=n:\r\n",
    "        res += countWays(n-i, m)\r\n",
    "        i += 1\r\n",
    "    return res\r\n",
    "    \r\n",
    "def stair_Ways(s, m):\r\n",
    "    return countWays(s+1, m)"
   ]
  },
  {
   "cell_type": "code",
   "execution_count": 50,
   "id": "08b022fb",
   "metadata": {},
   "outputs": [
    {
     "data": {
      "text/plain": [
       "5"
      ]
     },
     "execution_count": 50,
     "metadata": {},
     "output_type": "execute_result"
    }
   ],
   "source": [
    "stair_Ways(4, 2)"
   ]
  },
  {
   "cell_type": "markdown",
   "id": "b6c5280c",
   "metadata": {},
   "source": [
    "# METHOD 2\n",
    "<h3>Using DP </h3>\n",
    "\n",
    "- res[i] = res[i] + res[i-j] for every (i-j) >= 0\n",
    "    \n",
    "<h4>Time => O(m*n)\n",
    "    <br>\n",
    "    Space => O(n)</h4>"
   ]
  },
  {
   "cell_type": "code",
   "execution_count": 51,
   "id": "0738daa6",
   "metadata": {},
   "outputs": [],
   "source": [
    "def countWays(n, m):\r\n",
    "    res = [0 for i in range(n)]\r\n",
    "    res[0], res[1] = 1, 1\r\n",
    "    \r\n",
    "    for i in range(2, n): # Stairs from 2+ onwards\r\n",
    "        j = 1 # Check the max steps that can be taken\r\n",
    "        while j <= m and j <= i:\r\n",
    "            res[i] += res[i-j]\r\n",
    "            j += 1\r\n",
    "    return res[n-1]\r\n",
    "    \r\n",
    "def stair_Ways_1(s, m):\r\n",
    "    return countWays(s+1, m)"
   ]
  },
  {
   "cell_type": "code",
   "execution_count": 52,
   "id": "69dc081d",
   "metadata": {},
   "outputs": [
    {
     "data": {
      "text/plain": [
       "8"
      ]
     },
     "execution_count": 52,
     "metadata": {},
     "output_type": "execute_result"
    }
   ],
   "source": [
    "stair_Ways_1(5,2)"
   ]
  },
  {
   "cell_type": "markdown",
   "id": "246aabdf",
   "metadata": {},
   "source": [
    "# METHOD 3\n",
    "<h3>Using Sliding Window </h3>\n",
    "    \n",
    "<h4>Time => O(n)\n",
    "    <br>\n",
    "    Space => O(n)</h4>"
   ]
  },
  {
   "cell_type": "code",
   "execution_count": 53,
   "id": "c459c206",
   "metadata": {},
   "outputs": [],
   "source": [
    "def stair_Ways_2(n, m):\r\n",
    "    temp = 0\r\n",
    "    res = [1]\r\n",
    "    \r\n",
    "    for i in range(1, n + 1):\r\n",
    "        start = i - m - 1\r\n",
    "        end = i - 1\r\n",
    "        \r\n",
    "        if (start >= 0):\r\n",
    "            temp -= res[start]\r\n",
    "        temp += res[end]\r\n",
    "        res.append(temp)\r\n",
    "    \r\n",
    "    return res[n]"
   ]
  },
  {
   "cell_type": "code",
   "execution_count": 54,
   "id": "c5deb098",
   "metadata": {},
   "outputs": [
    {
     "data": {
      "text/plain": [
       "8"
      ]
     },
     "execution_count": 54,
     "metadata": {},
     "output_type": "execute_result"
    }
   ],
   "source": [
    "stair_Ways_2(5, 2)"
   ]
  },
  {
   "cell_type": "markdown",
   "id": "1cea01c7",
   "metadata": {},
   "source": [
    "# METHOD 4\n",
    "<h3>Using Simple Math </h3>\n",
    "- Used only if order does not matter\n",
    "\n",
    "- Above for s = 4 => {1, 1, 1}, {1, 1, 2}, {1, 2, 1}, {2, 1, 1}, {2, 2} \n",
    "\n",
    "- Here s= 4 => {1, 1, 2}, {1, 2, 1}, {2, 1, 1}\n",
    "<h4>Time => O(1)\n",
    "    <br>\n",
    "    Space => O(1)</h4>"
   ]
  },
  {
   "cell_type": "code",
   "execution_count": 55,
   "id": "cf78b973",
   "metadata": {},
   "outputs": [],
   "source": [
    "def stair_Ways_3(s):\r\n",
    "    return 1 + ( s // 2 )"
   ]
  },
  {
   "cell_type": "code",
   "execution_count": 56,
   "id": "cdbc7741",
   "metadata": {},
   "outputs": [
    {
     "data": {
      "text/plain": [
       "3"
      ]
     },
     "execution_count": 56,
     "metadata": {},
     "output_type": "execute_result"
    }
   ],
   "source": [
    "stair_Ways_3(4)"
   ]
  },
  {
   "cell_type": "markdown",
   "id": "102d4ec2",
   "metadata": {},
   "source": [
    "<h3 style=\"color:yellow\">Binary Search</h3>"
   ]
  },
  {
   "cell_type": "code",
   "execution_count": 2,
   "id": "305de97e",
   "metadata": {},
   "outputs": [],
   "source": [
    "def bsRec(arr, low, high, x):\r\n",
    "    if low <= high:\r\n",
    "        mid = low + (high - low) // 2\r\n",
    "\r\n",
    "        if arr[mid] == x:\r\n",
    "            return  mid\r\n",
    "        elif arr[mid] > x:\r\n",
    "            return bsRec(arr, low, mid-1, x)\r\n",
    "        else:\r\n",
    "            return bsRec(arr, mid+1, high, x)\r\n",
    "    else:\r\n",
    "        return -1"
   ]
  },
  {
   "cell_type": "code",
   "execution_count": 3,
   "id": "43719580",
   "metadata": {},
   "outputs": [],
   "source": [
    "def bsIter(arr, low, high, x):\r\n",
    "    while low <= high:\r\n",
    "        mid = low + (high - low) // 2\r\n",
    "        \r\n",
    "        if arr[mid] == x:\r\n",
    "            return mid\r\n",
    "        elif arr[mid] > x:\r\n",
    "            high = mid - 1\r\n",
    "        else:\r\n",
    "            low = mid + 1\r\n",
    "    return -1\r\n"
   ]
  },
  {
   "cell_type": "code",
   "execution_count": 7,
   "id": "253ebd2e",
   "metadata": {},
   "outputs": [
    {
     "name": "stdout",
     "output_type": "stream",
     "text": [
      "1\n",
      "3\n"
     ]
    }
   ],
   "source": [
    "arr = [2, 3, 4, 10, 40]\r\n",
    "x = 3\r\n",
    "y = 10\r\n",
    "print(bsRec(arr, 0, len(arr)-1, x))\r\n",
    "print(bsIter(arr, 0, len(arr)-1, y))"
   ]
  },
  {
   "cell_type": "code",
   "execution_count": null,
   "id": "7edd7701",
   "metadata": {},
   "outputs": [],
   "source": []
  }
 ],
 "metadata": {
  "interpreter": {
   "hash": "63fd5069d213b44bf678585dea6b12cceca9941eaf7f819626cde1f2670de90d"
  },
  "kernelspec": {
   "display_name": "Python 3",
   "language": "python",
   "name": "python3"
  },
  "language_info": {
   "codemirror_mode": {
    "name": "ipython",
    "version": 3
   },
   "file_extension": ".py",
   "mimetype": "text/x-python",
   "name": "python",
   "nbconvert_exporter": "python",
   "pygments_lexer": "ipython3",
   "version": "3.9.1"
  }
 },
 "nbformat": 4,
 "nbformat_minor": 5
}
