{
 "cells": [
  {
   "cell_type": "markdown",
   "source": [
    "# Fibonacci "
   ],
   "metadata": {}
  },
  {
   "cell_type": "code",
   "execution_count": 35,
   "source": [
    "def recur_Fib(n):\r\n",
    "    if n == 0:\r\n",
    "        return 0\r\n",
    "    \r\n",
    "    elif n == 1:\r\n",
    "        return 1\r\n",
    "    \r\n",
    "    else:\r\n",
    "        return recur_Fib(n-1) + recur_Fib(n-2)\r\n",
    "\r\n",
    "# Time => T(n-1) + T(n-2)"
   ],
   "outputs": [],
   "metadata": {}
  },
  {
   "cell_type": "code",
   "execution_count": 36,
   "source": [
    "def iter_Fib(n):\r\n",
    "    if n == 0:\r\n",
    "        return 0\r\n",
    "    \r\n",
    "    elif n == 1:\r\n",
    "        return 1\r\n",
    "    \r\n",
    "    f1 = 0\r\n",
    "    f2 = 1\r\n",
    "    temp = 0\r\n",
    "    for i in range(2,n+1):\r\n",
    "        temp = f1 + f2\r\n",
    "        f1 = f2\r\n",
    "        f2 = temp\r\n",
    "    \r\n",
    "    return temp\r\n",
    "\r\n",
    "# Time => O(n)"
   ],
   "outputs": [],
   "metadata": {}
  },
  {
   "cell_type": "code",
   "execution_count": 37,
   "source": [
    "# If n is even then k = n/2:\r\n",
    "# F(n) = [2*F(k-1) + F(k)]*F(k)\r\n",
    "\r\n",
    "# If n is odd then k = (n + 1)/2\r\n",
    "# F(n) = F(k)*F(k) + F(k-1)*F(k-1)\r\n",
    "\r\n",
    "MAX = 1000\r\n",
    "f = [0]*MAX # Array for memoization\r\n",
    "\r\n",
    "# Returns nth fibonacci number using table f[]\r\n",
    "def formula_Fib(n):\r\n",
    "    if n == 0:\r\n",
    "        return 0\r\n",
    "    \r\n",
    "    if (n == 1 or n == 2):\r\n",
    "        f[n] = 1\r\n",
    "        return (f[n])\r\n",
    "    \r\n",
    "    # If fibonacci is already computed\r\n",
    "    if f[n]:\r\n",
    "        return (f[n])\r\n",
    "    \r\n",
    "    if (n & 1):\r\n",
    "        k = (n+1) // 2\r\n",
    "    else:\r\n",
    "        k = n // 2\r\n",
    "    \r\n",
    "    # Applying above formula [Note value n&1 is 1]\r\n",
    "    # if n is odd, else 0.\r\n",
    "    if (n & 1):\r\n",
    "        f[n] = (formula_Fib(k)*formula_Fib(k) + formula_Fib(k-1)*formula_Fib(k-1))\r\n",
    "    else:\r\n",
    "        f[n] = (2*formula_Fib(k-1) + formula_Fib(k))*formula_Fib(k)\r\n",
    "    \r\n",
    "    return f[n]\r\n",
    "\r\n",
    "# Time => O(log n)\r\n",
    "# Formula => {[( sqrt[5] + 1 ) / 2 ] ^ n } / sqrt[5]"
   ],
   "outputs": [],
   "metadata": {}
  },
  {
   "cell_type": "code",
   "execution_count": 38,
   "source": [
    "# DP using Memoization (Top-down approach)\r\n",
    "\r\n",
    "dp = [-1 for i in range(10)]\r\n",
    "\r\n",
    "def dp_Fib(n):\r\n",
    "    if n <= 1:\r\n",
    "        return n\r\n",
    "    global dp\r\n",
    "    \r\n",
    "    f1 = 0\r\n",
    "    f2 = 1\r\n",
    "    \r\n",
    "    if (dp[n-1] != -1):\r\n",
    "        f1 = dp[n-1]\r\n",
    "    else:\r\n",
    "        f1 = dp_Fib(n-1) #First time calculate value\r\n",
    "    \r\n",
    "    if (dp[n-2] != -1):\r\n",
    "        f2 = dp[n-2]\r\n",
    "    else:\r\n",
    "        f2 =dp_Fib(n-2)\r\n",
    "    \r\n",
    "    dp[n] = f1 + f2\r\n",
    "    \r\n",
    "    return dp[n]"
   ],
   "outputs": [],
   "metadata": {}
  },
  {
   "cell_type": "code",
   "execution_count": 39,
   "source": [
    "recur_Fib(5)"
   ],
   "outputs": [
    {
     "output_type": "execute_result",
     "data": {
      "text/plain": [
       "5"
      ]
     },
     "metadata": {},
     "execution_count": 39
    }
   ],
   "metadata": {}
  },
  {
   "cell_type": "code",
   "execution_count": 40,
   "source": [
    "iter_Fib(5)"
   ],
   "outputs": [
    {
     "output_type": "execute_result",
     "data": {
      "text/plain": [
       "5"
      ]
     },
     "metadata": {},
     "execution_count": 40
    }
   ],
   "metadata": {}
  },
  {
   "cell_type": "code",
   "execution_count": 41,
   "source": [
    "formula_Fib(5)"
   ],
   "outputs": [
    {
     "output_type": "execute_result",
     "data": {
      "text/plain": [
       "5"
      ]
     },
     "metadata": {},
     "execution_count": 41
    }
   ],
   "metadata": {}
  },
  {
   "cell_type": "code",
   "execution_count": 42,
   "source": [
    "dp_Fib(5)"
   ],
   "outputs": [
    {
     "output_type": "execute_result",
     "data": {
      "text/plain": [
       "5"
      ]
     },
     "metadata": {},
     "execution_count": 42
    }
   ],
   "metadata": {}
  },
  {
   "cell_type": "markdown",
   "source": [
    "# Pow(x,n)"
   ],
   "metadata": {}
  },
  {
   "cell_type": "markdown",
   "source": [
    "x<sup>n</sup> =  {<br>\n",
    "    <span style=\"color:red\">x * x<sup>n-1</sup>, if n > 0\n",
    "    <br>\n",
    "    1, if n == 0</span>\n",
    "    <br>\n",
    "}"
   ],
   "metadata": {}
  },
  {
   "cell_type": "code",
   "execution_count": 43,
   "source": [
    "def pow(x,n):\r\n",
    "    if n == 0:\r\n",
    "        return 1\r\n",
    "    \r\n",
    "    else:\r\n",
    "        return x * pow(x,n-1)"
   ],
   "outputs": [],
   "metadata": {}
  },
  {
   "cell_type": "markdown",
   "source": [
    "x<sup>n</sup> =  {<br>\n",
    "    <span style=\"color:red\">x<sup>n/2</sup> * x<sup>n/2</sup>, if n is EVEN\n",
    "    <br>\n",
    "    x * x<sup>n-1</sup>, if n is ODD</span>\n",
    "    <br>\n",
    "}"
   ],
   "metadata": {}
  },
  {
   "cell_type": "code",
   "execution_count": 44,
   "source": [
    "def pow_1(x,n):\r\n",
    "    if n == 0:\r\n",
    "        return 1\r\n",
    "    \r\n",
    "    elif n%2 == 0:\r\n",
    "        even_res = pow_1(x, n//2)\r\n",
    "        return even_res * even_res\r\n",
    "    \r\n",
    "    else:\r\n",
    "        return x * pow(x,n-1)"
   ],
   "outputs": [],
   "metadata": {}
  },
  {
   "cell_type": "code",
   "execution_count": 45,
   "source": [
    "pow(2,5)"
   ],
   "outputs": [
    {
     "output_type": "execute_result",
     "data": {
      "text/plain": [
       "32"
      ]
     },
     "metadata": {},
     "execution_count": 45
    }
   ],
   "metadata": {}
  },
  {
   "cell_type": "code",
   "execution_count": 46,
   "source": [
    "pow_1(2,5)"
   ],
   "outputs": [
    {
     "output_type": "execute_result",
     "data": {
      "text/plain": [
       "32"
      ]
     },
     "metadata": {},
     "execution_count": 46
    }
   ],
   "metadata": {}
  },
  {
   "cell_type": "markdown",
   "source": [
    "# Modular Exponential \n",
    "- x<sup>n</sup> mod M\n",
    "- 5<sup>2</sup> mod 7 => 25 % 7 => 4\n",
    "<br>\n",
    "- (a * b ) % M => { (a % M) * (b % M) } % M\n",
    "- x<sup>n</sup> mod M => ( x * x<sup>n-1</sup>) % M\n",
    "- x<sup>n</sup> mod M => { <br>\n",
    "    <span style=\"color:red\">{ (x<sup>n/2</sup> % M) * (x<sup>n/2</sup> % M) } % M, if n is EVEN</span>\n",
    "    <br>\n",
    "    <span style=\"color:red\">{ (x % M) * (x <sup>n-1</sup> % M) } % M, if n is ODD</span>\n",
    "    <br>\n",
    "    <span style=\"color:red\"> 1, if n is 0</span>\n",
    "    <br>\n",
    "}"
   ],
   "metadata": {}
  },
  {
   "cell_type": "code",
   "execution_count": 47,
   "source": [
    "def mod_Expo(x,n,M):\r\n",
    "    if n == 0:\r\n",
    "        return 1\r\n",
    "    elif n%2 == 0:\r\n",
    "        res = mod_Expo(x,n/2,M)\r\n",
    "        return (res * res) % M\r\n",
    "    else:\r\n",
    "        res = mod_Expo(x,n-1,M)\r\n",
    "        return (x * res) % M \r\n",
    "        # return { (x % M) * (mod_Expo(x,n-1,M))} % M"
   ],
   "outputs": [],
   "metadata": {}
  },
  {
   "cell_type": "code",
   "execution_count": 48,
   "source": [
    "mod_Expo(5,3,7)"
   ],
   "outputs": [
    {
     "output_type": "execute_result",
     "data": {
      "text/plain": [
       "6"
      ]
     },
     "metadata": {},
     "execution_count": 48
    }
   ],
   "metadata": {}
  },
  {
   "cell_type": "markdown",
   "source": [
    "# Count ways to reach nth stair"
   ],
   "metadata": {}
  },
  {
   "cell_type": "markdown",
   "source": [
    "## METHOD 1\n",
    "<h3>Using Finonacci</h3>\n",
    "<br>\n",
    "\n",
    "- stair_Ways(1) = Fib(2) = 1<br>\n",
    "- stair_Ways(2) = Fib(3) = 2<br>\n",
    "- stair_Ways(s) = Fib(n+1)<br>\n",
    "- n => target\n",
    "- m => max steps that can be taken \n",
    "\n",
    "<h4> Time => O(2<sup>n</sup>)\n",
    "    <br>\n",
    " Space => O(1) </h4>"
   ],
   "metadata": {}
  },
  {
   "cell_type": "code",
   "execution_count": 49,
   "source": [
    "def countWays(n,m):\r\n",
    "    if n <= 1:\r\n",
    "        return n\r\n",
    "    \r\n",
    "    res = 0\r\n",
    "    i = 1\r\n",
    "    while i<=m and i<=n:\r\n",
    "        res += countWays(n-i, m)\r\n",
    "        i += 1\r\n",
    "    return res\r\n",
    "    \r\n",
    "def stair_Ways(s, m):\r\n",
    "    return countWays(s+1, m)"
   ],
   "outputs": [],
   "metadata": {}
  },
  {
   "cell_type": "code",
   "execution_count": 50,
   "source": [
    "stair_Ways(4, 2)"
   ],
   "outputs": [
    {
     "output_type": "execute_result",
     "data": {
      "text/plain": [
       "5"
      ]
     },
     "metadata": {},
     "execution_count": 50
    }
   ],
   "metadata": {}
  },
  {
   "cell_type": "markdown",
   "source": [
    "# METHOD 2\n",
    "<h3>Using DP </h3>\n",
    "\n",
    "- res[i] = res[i] + res[i-j] for every (i-j) >= 0\n",
    "    \n",
    "<h4>Time => O(m*n)\n",
    "    <br>\n",
    "    Space => O(n)</h4>"
   ],
   "metadata": {}
  },
  {
   "cell_type": "code",
   "execution_count": 51,
   "source": [
    "def countWays(n, m):\r\n",
    "    res = [0 for i in range(n)]\r\n",
    "    res[0], res[1] = 1, 1\r\n",
    "    \r\n",
    "    for i in range(2, n): # Stairs from 2+ onwards\r\n",
    "        j = 1 # Check the max steps that can be taken\r\n",
    "        while j <= m and j <= i:\r\n",
    "            res[i] += res[i-j]\r\n",
    "            j += 1\r\n",
    "    return res[n-1]\r\n",
    "    \r\n",
    "def stair_Ways_1(s, m):\r\n",
    "    return countWays(s+1, m)"
   ],
   "outputs": [],
   "metadata": {}
  },
  {
   "cell_type": "code",
   "execution_count": 52,
   "source": [
    "stair_Ways_1(5,2)"
   ],
   "outputs": [
    {
     "output_type": "execute_result",
     "data": {
      "text/plain": [
       "8"
      ]
     },
     "metadata": {},
     "execution_count": 52
    }
   ],
   "metadata": {}
  },
  {
   "cell_type": "markdown",
   "source": [
    "# METHOD 3\n",
    "<h3>Using Sliding Window </h3>\n",
    "    \n",
    "<h4>Time => O(n)\n",
    "    <br>\n",
    "    Space => O(n)</h4>"
   ],
   "metadata": {}
  },
  {
   "cell_type": "code",
   "execution_count": 53,
   "source": [
    "def stair_Ways_2(n, m):\r\n",
    "    temp = 0\r\n",
    "    res = [1]\r\n",
    "    \r\n",
    "    for i in range(1, n + 1):\r\n",
    "        start = i - m - 1\r\n",
    "        end = i - 1\r\n",
    "        \r\n",
    "        if (start >= 0):\r\n",
    "            temp -= res[start]\r\n",
    "        temp += res[end]\r\n",
    "        res.append(temp)\r\n",
    "    \r\n",
    "    return res[n]"
   ],
   "outputs": [],
   "metadata": {}
  },
  {
   "cell_type": "code",
   "execution_count": 54,
   "source": [
    "stair_Ways_2(5, 2)"
   ],
   "outputs": [
    {
     "output_type": "execute_result",
     "data": {
      "text/plain": [
       "8"
      ]
     },
     "metadata": {},
     "execution_count": 54
    }
   ],
   "metadata": {}
  },
  {
   "cell_type": "markdown",
   "source": [
    "# METHOD 4\n",
    "<h3>Using Simple Math </h3>\n",
    "- Used only if order does not matter\n",
    "\n",
    "- Above for s = 4 => {1, 1, 1}, {1, 1, 2}, {1, 2, 1}, {2, 1, 1}, {2, 2} \n",
    "\n",
    "- Here s= 4 => {1, 1, 2}, {1, 2, 1}, {2, 1, 1}\n",
    "<h4>Time => O(1)\n",
    "    <br>\n",
    "    Space => O(1)</h4>"
   ],
   "metadata": {}
  },
  {
   "cell_type": "code",
   "execution_count": 55,
   "source": [
    "def stair_Ways_3(s):\r\n",
    "    return 1 + ( s // 2 )"
   ],
   "outputs": [],
   "metadata": {}
  },
  {
   "cell_type": "code",
   "execution_count": 56,
   "source": [
    "stair_Ways_3(4)"
   ],
   "outputs": [
    {
     "output_type": "execute_result",
     "data": {
      "text/plain": [
       "3"
      ]
     },
     "metadata": {},
     "execution_count": 56
    }
   ],
   "metadata": {}
  },
  {
   "cell_type": "markdown",
   "source": [
    "<h3 style=\"color:yellow\">Binary Search</h3>"
   ],
   "metadata": {}
  },
  {
   "cell_type": "code",
   "execution_count": 2,
   "source": [
    "def bsRec(arr, low, high, x):\r\n",
    "    if low <= high:\r\n",
    "        mid = low + (high - low) // 2\r\n",
    "\r\n",
    "        if arr[mid] == x:\r\n",
    "            return  mid\r\n",
    "        elif arr[mid] > x:\r\n",
    "            return bsRec(arr, low, mid-1, x)\r\n",
    "        else:\r\n",
    "            return bsRec(arr, mid+1, high, x)\r\n",
    "    else:\r\n",
    "        return -1"
   ],
   "outputs": [],
   "metadata": {}
  },
  {
   "cell_type": "code",
   "execution_count": 3,
   "source": [
    "def bsIter(arr, low, high, x):\r\n",
    "    while low <= high:\r\n",
    "        mid = low + (high - low) // 2\r\n",
    "        \r\n",
    "        if arr[mid] == x:\r\n",
    "            return mid\r\n",
    "        elif arr[mid] > x:\r\n",
    "            high = mid - 1\r\n",
    "        else:\r\n",
    "            low = mid + 1\r\n",
    "    return -1\r\n"
   ],
   "outputs": [],
   "metadata": {}
  },
  {
   "cell_type": "code",
   "execution_count": 7,
   "source": [
    "arr = [2, 3, 4, 10, 40]\r\n",
    "x = 3\r\n",
    "y = 10\r\n",
    "print(bsRec(arr, 0, len(arr)-1, x))\r\n",
    "print(bsIter(arr, 0, len(arr)-1, y))"
   ],
   "outputs": [
    {
     "output_type": "stream",
     "name": "stdout",
     "text": [
      "1\n",
      "3\n"
     ]
    }
   ],
   "metadata": {}
  },
  {
   "cell_type": "code",
   "execution_count": null,
   "source": [],
   "outputs": [],
   "metadata": {}
  }
 ],
 "metadata": {
  "kernelspec": {
   "name": "python3",
   "display_name": "Python 3.9.5 64-bit"
  },
  "language_info": {
   "codemirror_mode": {
    "name": "ipython",
    "version": 3
   },
   "file_extension": ".py",
   "mimetype": "text/x-python",
   "name": "python",
   "nbconvert_exporter": "python",
   "pygments_lexer": "ipython3",
   "version": "3.9.5"
  },
  "interpreter": {
   "hash": "63fd5069d213b44bf678585dea6b12cceca9941eaf7f819626cde1f2670de90d"
  }
 },
 "nbformat": 4,
 "nbformat_minor": 5
}