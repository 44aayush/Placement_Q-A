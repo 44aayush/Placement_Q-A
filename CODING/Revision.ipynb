{
 "cells": [
  {
   "cell_type": "markdown",
   "source": [
    "<h1 style=\"color:red\">CN</h1>"
   ],
   "metadata": {}
  },
  {
   "cell_type": "markdown",
   "source": [
    "1. <h4 style=\"color:yellow\">TCP/UDP</h4>\r\n",
    "<span style=\"color:orange\">TCP</span>\r\n",
    " - Connection oriented\r\n",
    " - 3 Way handshake\r\n",
    " - order of the packet is maintained, and any lost packet is re-transmitted\r\n",
    "<br>\r\n",
    "<br>\r\n",
    "<span style=\"color:orange\">UDP</span>\r\n",
    " - Not connection oriented\r\n",
    " - order of packet is not maintained"
   ],
   "metadata": {}
  },
  {
   "cell_type": "markdown",
   "source": [
    "2. <h4 style=\"color:yellow\">ROUTER SWITCHES</h4>\n",
    "<span style=\"color:orange\">ROUTER</span>\n",
    " - connecting device\n",
    " - Acts as a dispatcher and responsibe to find the shortest path for a packet \n",
    " - Network layer\n",
    "<br>\n",
    "<br>\n",
    "<span style=\"color:orange\">SWITCHES</span>\n",
    " - connecting device\n",
    " - connects various devices in a network\n",
    " - Data link layer"
   ],
   "metadata": {}
  },
  {
   "cell_type": "markdown",
   "source": [
    "3. <h4 style=\"color:yellow\">ROUTING PROTOCOLS</h4>\n",
    "<span style=\"color:orange\">Distance Vector</span>\n",
    " - Selects best path on the basis of hop counts to reach the destination network\n",
    " - RIP => Routing Information Protocol\n",
    "<br>\n",
    "<br>\n",
    "<span style=\"color:orange\">Link State / Shortest Path First</span>\n",
    " - Knows about Internetworks than Distance vector \n",
    " - - Neighbor Table => information about neighbor of the routers\n",
    " - - Topology Table => best and backup route to dest\n",
    " - - Routing Table => best route to dest\n",
    " - OSPF => Open Shortest Path First\n",
    "<br>\n",
    "<br>\n",
    "<span style=\"color:orange\">Advanced Distance Vector</span>\n",
    " - Hybrid protocol\n",
    " - EIGRP => Enhanced Interior Gateway Routing Protocol\n",
    " - - Acts as a link state routing protocol as it uses the concept of Hello protocol for neighbor discovery and forming adjacency\n",
    " - - Acts as distance vector routing protocol as it learned routes from directly connected neighbors"
   ],
   "metadata": {}
  },
  {
   "cell_type": "markdown",
   "source": [
    "4. <h4 style=\"color:yellow\">OSI vs TCP/IP</h4>\r\n",
    " - - TCP refers to Transmission Control Protocol\r\n",
    "   - OSI refers to Open Systems Interconnection\r\n",
    "<br><br>\r\n",
    " - - TCP/IP has 4 layers\r\n",
    "   - OSI has 7 layers\r\n",
    "<br><br>\r\n",
    " - - TCP/IP follow a horizontal approach.\r\n",
    "   - OSI uses vertical approach\r\n",
    "<br><br>\r\n",
    " - - TCP is more realiable\r\n",
    "   - OSI is less reliable"
   ],
   "metadata": {}
  },
  {
   "cell_type": "markdown",
   "source": [
    "5. <h4 style=\"color:yellow\">OSI LAYER</h4>\r\n",
    "\r\n",
    "    <span style=\"color:orange\">Application Layer</span>\r\n",
    "   - Produce data for transmission over the network\r\n",
    "   - Browsers, Desktop application\r\n",
    "   <br>\r\n",
    "\r\n",
    "    <span style=\"color:orange\">Presentation Layer</span>\r\n",
    "   - Translation\r\n",
    "   - Encryption and Decryption\r\n",
    "   - Compression - Reduces no. of bits transferred over the network\r\n",
    "    <br>\r\n",
    "\r\n",
    "    <span style=\"color:orange\">Session Layer</span>\r\n",
    "   - Session establishment, maintenance and termination\r\n",
    "   - Synchronisation - Add checkpoints to detect errors\r\n",
    "   - Dialog Controller - Half-Duplex or Full-Duplex\r\n",
    "   <br>\r\n",
    "\r\n",
    "    <span style=\"color:orange\">Transport Layer</span>\r\n",
    "   - Segmentation and Reassembly\r\n",
    "   - Service Point addressing\r\n",
    "   - Flow and Error Control - to ensure proper data transmission \r\n",
    "   <br>\r\n",
    "\r\n",
    "    <span style=\"color:orange\">Network Layer</span>\r\n",
    "   - Routing - Select best path for transmission of packet\r\n",
    "   - Logical Addressing\r\n",
    "   <br>\r\n",
    "\r\n",
    "    <span style=\"color:orange\">Data Link Layer</span>\r\n",
    "   - Physical Addressing\r\n",
    "   - Error and Flow Control\r\n",
    "   - Access Control\r\n",
    "   <br>\r\n",
    "\r\n",
    "    <span style=\"color:orange\">Physical Layer</span>\r\n",
    "   - Bit Synchronisation and rate-control\r\n",
    "   - Physical Topologies - Star, Mesh, Bus...\r\n",
    "   - Transmission Mode - Simplex, Half-Duplex, Full-Duplex"
   ],
   "metadata": {}
  },
  {
   "cell_type": "markdown",
   "source": [
    "6. <h4 style=\"color:yellow\">DNS</h4>\r\n",
    " - DNS translates domain names to IP addresses so browsers can load Internet resources.\r\n",
    "<br><br>\r\n",
    "<span style=\"color:orange\">Reverse DNS</span>\r\n",
    " - A reverse DNS lookup is a DNS query for the domain name associated with a given IP address. "
   ],
   "metadata": {}
  },
  {
   "cell_type": "markdown",
   "source": [
    "7. <h3 style=\"color:yellow\">IPv6</h3>\r\n",
    " - 128 bit address\r\n",
    " - Each device will have it's own IP address\r\n",
    " - Security and Scalability\r\n",
    " - No more NAT, DHCP\r\n",
    " - No more private address collisions\r\n",
    " - efficient routing"
   ],
   "metadata": {}
  },
  {
   "cell_type": "markdown",
   "source": [
    "<h1 style=\"color:red\">OS</h1>"
   ],
   "metadata": {}
  },
  {
   "cell_type": "markdown",
   "source": [
    "1. <h4 style=\"color:yellow\">SEMAPHORE</h4>\r\n",
    " - signaling mechanism to manage concurrent processes by using a simple integer value\r\n",
    " - used to solve the critical section problem and to achieve process synchronization in the multiprocessing environment\r\n",
    " - Types: Binary and Counting\r\n",
    " - Atomic ops: Wait and Signal\r\n",
    "<br>\r\n",
    "    <h4 style=\"color:yellow\">MUTEX</h4>\r\n",
    " - A mutex is the same as a lock but it can be system wide (shared by multiple processes).\r\n",
    "<br>\r\n",
    "    <h4 style=\"color:yellow\">LOCK</h4>\r\n",
    " - A lock allows only one thread to enter the part that's locked and the lock is not shared with any other processes."
   ],
   "metadata": {}
  },
  {
   "cell_type": "markdown",
   "source": [
    "2. <h4 style=\"color:yellow\">DEADLOCK</h4>\n",
    " -  situation where a set of processes are blocked because each process is holding a resource and waiting for another resource acquired by some other process\n",
    "<br>\n",
    "<br>\n",
    "<span style=\"color:orange\">ARISE</span>\n",
    " - Mutual Exclusion\n",
    " - Hold and Wait\n",
    " - No preemption\n",
    " - Circular Wait\n",
    "<br>\n",
    "<br>\n",
    "<span style=\"color:orange\">HANDLING</span>\n",
    " - Prevention or Avoidance (Banker's algo)\n",
    " - Detectiona and recovery"
   ],
   "metadata": {}
  },
  {
   "cell_type": "markdown",
   "source": [
    "3. <h4 style=\"color:yellow\">DAEMON vs DEMON</h4>\n",
    " - Daemon is a program that runs by itself directly under the operating system continuously and exist for the purpose of handling periodic service requests that a computer system expects to recieve.\n",
    " - Demon is part of a larger application program."
   ],
   "metadata": {}
  },
  {
   "cell_type": "markdown",
   "source": [
    "4. <h4 style=\"color:yellow\">VIRTUALISATION</h4>\r\n",
    " - The process of running a virtual instance of a computer system in a layer abstracted from the actual hardware.\r\n",
    " - Mostly refers to running multiple operating systems on a computer system simultaneously\r\n",
    "<br><br>\r\n",
    "<span style=\"color:orange\">VIRTUAL MEMORY</span>\r\n",
    " - Virtual Memory is a storage allocation scheme in which secondary memory can be addressed as though it were part of main memory.\r\n",
    " - All memory references within a process are logical addresses that are dynamically translated into physical addresses at run time.\r\n",
    "<br><br>\r\n",
    "<span style=\"color:orange\">THRASHING</span>\r\n",
    " - Thrashing is a condition or a situation when the system is spending a major portion of its time in servicing the page faults, but the actual processing done is very negligible."
   ],
   "metadata": {}
  },
  {
   "cell_type": "markdown",
   "source": [
    "5. <h3 style=\"color:yellow\">PRIORITY INVERSION</h3>\r\n",
    " - Scenario in scheduling in which higher priority tasks is indirectly preempted by a lower priority task effectively inverting the relative priorities of the two tasks."
   ],
   "metadata": {}
  },
  {
   "cell_type": "markdown",
   "source": [
    "6. <h3 style=\"color:yellow\">DINING PHILOSOPHER</h3>\r\n",
    "    <span style=\"color:orange\">Solution</span>\r\n",
    " - semaphore chopstick [5];\r\n",
    " - do {\r\n",
    " -  wait (chopstick[i]);\r\n",
    " -  wait (chopstick[i+1] % 5);\r\n",
    " -  EATING\r\n",
    " -  signal (chopstick[i]);\r\n",
    " -  signal (chopstick[i+1] % 5);\r\n",
    " -  THINKING\r\n",
    " - } while(1);\r\n",
    "<br><br>\r\n",
    "<span style=\"color:orange\">Deadlock</span>\r\n",
    " - All the philosophers pick their left chopstick simultaneously\r\n",
    "<br><br>\r\n",
    "<span style=\"color:orange\">Avoid Deadlock</span>\r\n",
    " - Should be at most four philosophers on the table\r\n",
    " - Even philosopher should pick the right chopstick and then the left chopstick while an Odd philosopher should pick the left chopstick and then the right chopstick\r\n",
    " - A philosopher should only be allowed to pick their chopstick if both are available at the same time\r\n",
    "  "
   ],
   "metadata": {}
  },
  {
   "cell_type": "markdown",
   "source": [],
   "metadata": {}
  },
  {
   "cell_type": "markdown",
   "source": [
    "<h1 style=\"color:red\">OOP's and CLOUD</h1>"
   ],
   "metadata": {}
  },
  {
   "cell_type": "markdown",
   "source": [
    "1. <h4 style=\"color:yellow\">DATA STRUCTURES</h4>\r\n",
    "<span style=\"color:orange\">Linked List</span>\r\n",
    " - A linked list is a linear collection of data elements whose order is not given by their physical placement in memory.\r\n",
    " - Instead, each element points to the next. \r\n",
    " - It is a data structure consisting of a collection of nodes which together represent a sequence.\r\n",
    "<br>\r\n",
    "\r\n",
    "<span style=\"color:orange\">Binary Search Tree</span>\r\n",
    " - A tree in which all the nodes follow\r\n",
    " - - value of key of left sub-tree is less than the value of the parent node\r\n",
    " - - value of key of right sub-tree is greater than the value of the parent node\r\n",
    "<br>\r\n",
    "\r\n",
    "<span style=\"color:orange\">Microservice Architecture</span>\r\n"
   ],
   "metadata": {}
  },
  {
   "cell_type": "markdown",
   "source": [
    "2. <h4 style=\"color:yellow\">ABSTRACT CLASS & INTERFACE</h4>\n",
    "<span style=\"color:orange\">ABSTRACT CLASS</span>\n",
    " - Blueprint for other classes\n",
    " - An abstract method is a method that has a declaration but does not have an implementation. \n",
    "\n",
    "from abc import ABC, abstractmethod<br>\n",
    "class Polygon(ABC):\n",
    " \n",
    "    @abstractmethod\n",
    "    def noofsides(self):\n",
    "        pass\n",
    " \n",
    "class Triangle(Polygon):\n",
    " \n",
    "    # overriding abstract method\n",
    "    def noofsides(self):\n",
    "        print(\"I have 3 sides\")\n",
    "<br><br>\n",
    "<span style=\"color:orange\">INTERFACE</span>\n",
    " - help determine what class you should use to tackle the current problem"
   ],
   "metadata": {}
  },
  {
   "cell_type": "markdown",
   "source": [
    "3. <h4 style=\"color:yellow\">C</h4>\r\n",
    "<span style=\"color:orange\">GLOBAL VARIABLE</span>\r\n",
    " - Variable defined outside all functions and available for all functions\r\n",
    " - Exists till program ends\r\n",
    "<br><br>\r\n",
    "<span style=\"color:orange\">STATIC VARIBALE</span>\r\n",
    " - Maintains value from one function call to another and exists untill the program ends\r\n",
    " - Either global or local\r\n",
    " - Default value 0\r\n",
    "<br><br>\r\n",
    "<span style=\"color:orange\">VOID</span>\r\n",
    " - Pointer that has no associated data type with it\r\n",
    " - Can hold address of any type and can be typcasted to any type"
   ],
   "metadata": {}
  },
  {
   "cell_type": "markdown",
   "source": [
    "4. <h4 style=\"color:yellow\">CLOUD</h4>\r\n",
    "<span style=\"color:orange\">SaaS</span>\r\n",
    " - Can be run on web browsers without any downloads or installation required.\r\n",
    " - Cost effective, Accessible everywhere, scalable, auto-updates\r\n",
    " - Gmail, Ms-365, Dropbox\r\n",
    "<br>\r\n",
    "\r\n",
    "<span style=\"color:orange\">PaaS</span>\r\n",
    " - Provides platform and enviroment for developers to build applications and services over the internet\r\n",
    " - Development and Deployment independent of the **Hardware**\r\n",
    " - Efficient lifecycle, cost effective\r\n",
    " - Salesforce, Google App Engine\r\n",
    "<br>\r\n",
    "\r\n",
    "<span style=\"color:orange\">IaaS</span>\r\n",
    " - Model that delivers computing, networking, storage as an outsource to the users\r\n",
    " - Allows Dynamic Scaling, resources as distributed as a service\r\n",
    " - Security, pay on a per use basis, website hosting\r\n",
    " - AWS, GCP, Azure\r\n"
   ],
   "metadata": {}
  },
  {
   "cell_type": "markdown",
   "source": [
    "5. <h3 style=\"color:yellow\">MICROSERVICES</h3>\r\n",
    "<span style=\"color:orange\">Microservice Architecture</span>\r\n",
    " - An architectural deployment style which builds an application as a collection of small autonomous services developed for business domain\r\n",
    " - Loosely coupled\r\n",
    " - Fault Isolation, Independent deployment and time reduction.\r\n",
    "<br>\r\n",
    "\r\n",
    "<span style=\"color:orange\">Monolithic Architecture</span>\r\n",
    " - A big container in which all the software components of an application are clubbed inside a single package\r\n",
    " - Tightly coupled\r\n",
    "<br>\r\n",
    "\r\n",
    "<span style=\"color:orange\">REST</span>\r\n",
    " - Representational State Transfer is an architectural style that helps systems communicate over the internet\r\n",
    " - Makes microservice easier to understand and implement"
   ],
   "metadata": {}
  },
  {
   "cell_type": "markdown",
   "source": [
    "<h1 style=\"color:red\">Coding Q's</h1>"
   ],
   "metadata": {}
  },
  {
   "cell_type": "markdown",
   "source": [
    "<h3 style=\"color:yellow\">Expressive Words</h3>"
   ],
   "metadata": {}
  },
  {
   "cell_type": "code",
   "execution_count": 23,
   "source": [
    "def expressiveWords(s, words):\r\n",
    "    return sum(check(s, w) for w in words)\r\n",
    "\r\n",
    "def check(s, w):\r\n",
    "    i, j, n, m = 0, 0, len(s), len(w)\r\n",
    "    for i in range(n):\r\n",
    "        if j < m and s[i] == w[j]:\r\n",
    "            j += 1        \r\n",
    "        elif s[i-1: i+2] != s[i]*3 != s[i-2: i+1]:\r\n",
    "            return False\r\n",
    "    return j == m"
   ],
   "outputs": [],
   "metadata": {}
  },
  {
   "cell_type": "code",
   "execution_count": 24,
   "source": [
    "s = \"heeellooo\" \r\n",
    "words = [\"hello\", \"hi\", \"helo\"]\r\n",
    "print(expressiveWords(s, words))"
   ],
   "outputs": [
    {
     "output_type": "stream",
     "name": "stdout",
     "text": [
      "1\n"
     ]
    }
   ],
   "metadata": {}
  },
  {
   "cell_type": "code",
   "execution_count": 25,
   "source": [
    "s = \"zzzzzyyyyy\"\r\n",
    "words = [\"zzyy\",\"zy\",\"zyy\"]\r\n",
    "print(expressiveWords(s, words))"
   ],
   "outputs": [
    {
     "output_type": "stream",
     "name": "stdout",
     "text": [
      "3\n"
     ]
    }
   ],
   "metadata": {}
  },
  {
   "cell_type": "markdown",
   "source": [
    "<h3 style=\"color:yellow\">A string of numbers in random order is given and you have to print them in decimal format in strictly decreasing order.</h3>"
   ],
   "metadata": {}
  },
  {
   "cell_type": "code",
   "execution_count": 26,
   "source": [
    "import collections, itertools\r\n",
    "def unscramble(S):\r\n",
    "    sc = collections.Counter(s)\r\n",
    "    return list(itertools.chain.from_iterable(\r\n",
    "    [\r\n",
    "        [9]*(sc['i'] - sc['x'] - sc['g'] - (sc['f'] - sc['u'])),\r\n",
    "        [8]*(sc['g']),\r\n",
    "        [7]*(sc['s'] - sc['x']),\r\n",
    "        [6]*(sc['x']),\r\n",
    "        [5]*(sc['f'] - sc['u']),\r\n",
    "        [4]*(sc['u']),\r\n",
    "        [3]*(sc['h'] - sc['g']),\r\n",
    "        [2]*(sc['w']),\r\n",
    "        [1]*(sc['o'] - sc['z'] - sc['w'] - sc['u']),\r\n",
    "        [0]*(sc['z'])\r\n",
    "    ]\r\n",
    "    ))"
   ],
   "outputs": [],
   "metadata": {}
  },
  {
   "cell_type": "code",
   "execution_count": 27,
   "source": [
    "s = \"nieignhtesevfouenr\"\r\n",
    "print(unscramble(s))"
   ],
   "outputs": [
    {
     "output_type": "stream",
     "name": "stdout",
     "text": [
      "[9, 8, 7, 4]\n"
     ]
    }
   ],
   "metadata": {}
  },
  {
   "cell_type": "markdown",
   "source": [
    "<h3 style=\"color:yellow\">Lucky Number</h3>"
   ],
   "metadata": {}
  },
  {
   "cell_type": "code",
   "execution_count": 84,
   "source": [
    "def isLucky(n):\r\n",
    "    counter = 2\r\n",
    "    if counter > n:\r\n",
    "        return True\r\n",
    "    if n % counter == 0:\r\n",
    "        return False\r\n",
    "    \r\n",
    "    n -= (n/isLucky.counter)\r\n",
    "    counter = counter + 1\r\n",
    "    return isLucky(n)\r\n",
    "\r\n",
    "isLucky.counter = 2\r\n",
    "x = 11\r\n",
    "if isLucky(x):\r\n",
    "    print(x, \"Lucky number\")\r\n",
    "else:\r\n",
    "    print(x, \"not a Lucky number\")"
   ],
   "outputs": [
    {
     "output_type": "stream",
     "name": "stdout",
     "text": [
      "11 Lucky number\n"
     ]
    }
   ],
   "metadata": {}
  },
  {
   "cell_type": "markdown",
   "source": [
    "<h3 style=\"color:yellow\">Doubly Linked List Insert </h3>"
   ],
   "metadata": {}
  },
  {
   "cell_type": "code",
   "execution_count": 28,
   "source": [
    "class Node:\r\n",
    "    def __init__(self, x):\r\n",
    "        self.data = x\r\n",
    "        self.prev = None\r\n",
    "        self.next = None\r\n",
    "        \r\n",
    "#Add a node at the front\r\n",
    "def push(head, data):\r\n",
    "    newNode = Node(data)\r\n",
    "    #newNode.data = data\r\n",
    "    newNode.next = head\r\n",
    "    newNode.prev = None\r\n",
    "    \r\n",
    "    if (head is not None):\r\n",
    "        head.prev = newNode\r\n",
    "    \r\n",
    "    head = newNode\r\n",
    "    return head\r\n",
    "\r\n",
    "# Insert before a node\r\n",
    "def insertBefore(head, data, nextNode):\r\n",
    "    if nextNode == None:\r\n",
    "        return\r\n",
    "    \r\n",
    "    newNode = Node(data)\r\n",
    "    newNode.prev = nextNode.prev\r\n",
    "    nextNode.prev = newNode\r\n",
    "    newNode.next = nextNode\r\n",
    "    \r\n",
    "    if newNode.prev != None:\r\n",
    "        newNode.prev.next = newNode\r\n",
    "    else:\r\n",
    "        head = newNode\r\n",
    "    \r\n",
    "    return head\r\n",
    "\r\n",
    "# Insert after a node\r\n",
    "def insertAfter(head, data, prevNode):\r\n",
    "    if prevNode == None:\r\n",
    "        return\r\n",
    "    \r\n",
    "    newNode = Node(data)\r\n",
    "    newNode.next = prevNode.next\r\n",
    "    prevNode.next = newNode\r\n",
    "    newNode.prev = prevNode\r\n",
    "    \r\n",
    "    if newNode.next:\r\n",
    "        newNode.next.prev = newNode\r\n",
    "    \r\n",
    "    return head\r\n",
    "\r\n",
    "# Append at the end\r\n",
    "def append(head, data):\r\n",
    "    newNode = Node(data)\r\n",
    "    \r\n",
    "    if head is None:\r\n",
    "        head = newNode\r\n",
    "        return\r\n",
    "    \r\n",
    "    last = head\r\n",
    "    while last.next:\r\n",
    "        last = last.next\r\n",
    "    \r\n",
    "    last.next = newNode\r\n",
    "    newNode.prev = last\r\n",
    "    \r\n",
    "    return head\r\n",
    "\r\n",
    "def printList(node):\r\n",
    "    last = None\r\n",
    "    print(\"Traversal in forward direction \")\r\n",
    "    while (node != None):\r\n",
    "        print(node.data, end=\" \")\r\n",
    "        last = node\r\n",
    "        node = node.next\r\n",
    " \r\n",
    "    print(\"\\nTraversal in reverse direction \")\r\n",
    "    while (last != None):\r\n",
    "        print(last.data, end=\" \")\r\n",
    "        last = last.prev\r\n",
    "\r\n",
    "if __name__ == '__main__':\r\n",
    " \r\n",
    "    # /* Start with the empty list */\r\n",
    "    head = None\r\n",
    "    head = push(head, 7)\r\n",
    " \r\n",
    "    head = push(head, 1)\r\n",
    " \r\n",
    "    head = push(head, 4)\r\n",
    " \r\n",
    "    # Insert 8, before 1. So linked list becomes 4.8.1.7.NULL\r\n",
    "    head = insertBefore(head, 8, head.next)\r\n",
    " \r\n",
    "    print(\"Created DLL is: \")\r\n",
    "    printList(head)"
   ],
   "outputs": [
    {
     "output_type": "stream",
     "name": "stdout",
     "text": [
      "Created DLL is: \n",
      "Traversal in forward direction \n",
      "4 8 1 7 \n",
      "Traversal in reverse direction \n",
      "7 1 8 4 "
     ]
    }
   ],
   "metadata": {}
  },
  {
   "cell_type": "markdown",
   "source": [
    "<h3 style=\"color:yellow\">Reverse a Linked List</h3>"
   ],
   "metadata": {}
  },
  {
   "cell_type": "code",
   "execution_count": 29,
   "source": [
    "def reverse():\r\n",
    "    prev = None\r\n",
    "    curr = head\r\n",
    "    while (curr is not None):\r\n",
    "        temp = curr.next\r\n",
    "        curr.next = prev\r\n",
    "        prev = curr\r\n",
    "        curr = temp\r\n",
    "    #head = prev\r\n",
    "    return prev"
   ],
   "outputs": [],
   "metadata": {}
  },
  {
   "cell_type": "markdown",
   "source": [
    "<h3 style=\"color:yellow\">Reverse a Double Linked List</h3>"
   ],
   "metadata": {}
  },
  {
   "cell_type": "code",
   "execution_count": 30,
   "source": [
    "def reverse(head):\r\n",
    "    temp = None\r\n",
    "    curr = head\r\n",
    "    while (curr is not None):\r\n",
    "        temp = curr.prev\r\n",
    "        curr.prev = curr.next\r\n",
    "        curr.next = temp\r\n",
    "        curr = curr.prev\r\n",
    "        \r\n",
    "    if temp is not None:\r\n",
    "        head = temp.prev\r\n",
    "    \r\n",
    "    return head\r\n",
    "\r\n",
    "# Using Stack\r\n",
    "def reverseStack():\r\n",
    "    stack = []\r\n",
    "    temp = head\r\n",
    "    while temp is not None:\r\n",
    "        stack.append(temp.data)\r\n",
    "        temp = temp.next\r\n",
    "    \r\n",
    "    temp = head\r\n",
    "    while temp is not None:\r\n",
    "        temp.data = stack.pop()\r\n",
    "        temp = temp.next\r\n",
    "    temp.next = None"
   ],
   "outputs": [],
   "metadata": {}
  },
  {
   "cell_type": "markdown",
   "source": [
    "<h3 style=\"color:yellow\">Count of Set bits / Brian Kernighan’s Algorithm</h3>"
   ],
   "metadata": {}
  },
  {
   "cell_type": "code",
   "execution_count": 31,
   "source": [
    "def countSetbits(n):\r\n",
    "    count = 0\r\n",
    "    while n:\r\n",
    "        n &= (n-1)\r\n",
    "        count += 1\r\n",
    "    return count\r\n",
    "\r\n",
    "n = 9     \r\n",
    "# function calling\r\n",
    "print(countSetbits(n))\r\n",
    "print(bin(15).count('1'))"
   ],
   "outputs": [
    {
     "output_type": "stream",
     "name": "stdout",
     "text": [
      "2\n",
      "4\n"
     ]
    }
   ],
   "metadata": {}
  },
  {
   "cell_type": "markdown",
   "source": [
    "<h3 style=\"color:yellow\">Find the Missing Number</h3>"
   ],
   "metadata": {}
  },
  {
   "cell_type": "code",
   "execution_count": 32,
   "source": [
    "def getMissingNo(arr):\r\n",
    "    n = len(arr)\r\n",
    "    total = int((n+1)*(n+2) // 2)\r\n",
    "    return total - sum(arr)"
   ],
   "outputs": [],
   "metadata": {}
  },
  {
   "cell_type": "code",
   "execution_count": 33,
   "source": [
    "def getMissingNo_1(arr):\r\n",
    "    n = len(arr)\r\n",
    "    x1 = arr[0]\r\n",
    "    x2 = 1\r\n",
    "    \r\n",
    "    for i in range(1, n):\r\n",
    "        x1 ^= arr[i]\r\n",
    "    \r\n",
    "    for i in range(2, n+2):\r\n",
    "        x2 ^= i\r\n",
    "    \r\n",
    "    return x1^x2"
   ],
   "outputs": [],
   "metadata": {}
  },
  {
   "cell_type": "code",
   "execution_count": 34,
   "source": [
    "arr = [1,2,3,5,6]\r\n",
    "print(getMissingNo_1(arr))"
   ],
   "outputs": [
    {
     "output_type": "stream",
     "name": "stdout",
     "text": [
      "4\n"
     ]
    }
   ],
   "metadata": {}
  },
  {
   "cell_type": "markdown",
   "source": [
    "<h3 style=\"color:yellow\">Eggs dropping puzzle</h3>"
   ],
   "metadata": {}
  },
  {
   "cell_type": "code",
   "execution_count": 35,
   "source": [
    "def binomialCoeff(x, n, k):\r\n",
    "    s = 0\r\n",
    "    term = 1\r\n",
    "    i = 1\r\n",
    "    \r\n",
    "    while i <= n and s < k:\r\n",
    "        term *= x - i + 1\r\n",
    "        term /= i\r\n",
    "        s += term\r\n",
    "        i += 1\r\n",
    "        \r\n",
    "    return s    \r\n",
    "    \r\n",
    "def minTrial(n, k):\r\n",
    "    low = 1\r\n",
    "    high = k\r\n",
    "    \r\n",
    "    while(low < high):\r\n",
    "        mid = int((low+high) / 2)\r\n",
    "        if binomialCoeff(mid, n, k) < k:\r\n",
    "            low = mid + 1\r\n",
    "        else:\r\n",
    "            high = mid\r\n",
    "    \r\n",
    "    return int(low)"
   ],
   "outputs": [],
   "metadata": {}
  },
  {
   "cell_type": "code",
   "execution_count": 36,
   "source": [
    "print(minTrial(2,100))"
   ],
   "outputs": [
    {
     "output_type": "stream",
     "name": "stdout",
     "text": [
      "14\n"
     ]
    }
   ],
   "metadata": {}
  },
  {
   "cell_type": "markdown",
   "source": [
    "<h3 style=\"color:yellow\">LINKED LIST</h3>"
   ],
   "metadata": {}
  },
  {
   "cell_type": "code",
   "execution_count": 37,
   "source": [
    "class Node:\r\n",
    "    def __init__(self, data):\r\n",
    "        self.data = data\r\n",
    "        self.next = None\r\n",
    "    \r\n",
    "def push(head, data):\r\n",
    "    newNode = Node(data)\r\n",
    "    newNode.next = head\r\n",
    "    head = newNode\r\n",
    "    return head\r\n",
    "\r\n",
    "def printSecondList(l1, l2):\r\n",
    "    temp = l1\r\n",
    "    temp1 = l2\r\n",
    "    \r\n",
    "    while temp is not None:\r\n",
    "        i = 1\r\n",
    "        \r\n",
    "        while i < temp.data:\r\n",
    "            temp1 = temp1.next\r\n",
    "            i += 1\r\n",
    "        \r\n",
    "        print(temp1.data,end=\" \")\r\n",
    "        temp = temp.next\r\n",
    "        temp1 = l2\r\n",
    "        \r\n",
    "l1 = None\r\n",
    "l2 = None\r\n",
    "\r\n",
    "l1 = push(l1, 5)\r\n",
    "l1 = push(l1, 2)\r\n",
    "\r\n",
    "l2 = push(l2, 8)\r\n",
    "l2 = push(l2, 7)\r\n",
    "l2 = push(l2, 6)\r\n",
    "l2 = push(l2, 5)\r\n",
    "l2 = push(l2, 4)\r\n",
    " \r\n",
    "printSecondList(l1, l2)"
   ],
   "outputs": [
    {
     "output_type": "stream",
     "name": "stdout",
     "text": [
      "5 8 "
     ]
    }
   ],
   "metadata": {}
  },
  {
   "cell_type": "markdown",
   "source": [
    "<h3 style=\"color:yellow\">DETECT LOOP</h3>"
   ],
   "metadata": {}
  },
  {
   "cell_type": "code",
   "execution_count": 38,
   "source": [
    "class Node:\r\n",
    "    def __init__(self, data):\r\n",
    "        self.data = data\r\n",
    "        self.next = None\r\n",
    "\r\n",
    "class LinkedList:\r\n",
    "    def __init__(self):\r\n",
    "        self.head = None\r\n",
    "    \r\n",
    "    def push(self, data):\r\n",
    "        newNode = Node(data)\r\n",
    "        newNode.next = self.head\r\n",
    "        self.head = newNode\r\n",
    "    \r\n",
    "    def printList(self):\r\n",
    "        temp = self.head\r\n",
    "        while temp is not None:\r\n",
    "            print(temp.data)\r\n",
    "            temp = temp.next\r\n",
    "    \r\n",
    "    def detectLoop(self):\r\n",
    "        slow = self.head\r\n",
    "        fast = self.head\r\n",
    "        while slow and fast and fast.next:\r\n",
    "            slow = slow.next\r\n",
    "            fast = fast.next.next\r\n",
    "        \r\n",
    "            if slow == fast:\r\n",
    "                return True\r\n",
    "\r\n",
    "l1 = LinkedList()\r\n",
    "l1.push(20)\r\n",
    "l1.push(4)\r\n",
    "l1.push(15)\r\n",
    "l1.push(10)\r\n",
    "\r\n",
    "l1.head.next.next.next.next = l1.head\r\n",
    "if (l1.detectLoop()):\r\n",
    "    print (\"Loop Found\")\r\n",
    "else:\r\n",
    "    print (\"No Loop\")"
   ],
   "outputs": [
    {
     "output_type": "stream",
     "name": "stdout",
     "text": [
      "Loop Found\n"
     ]
    }
   ],
   "metadata": {}
  },
  {
   "cell_type": "markdown",
   "source": [
    "<h3 style=\"color: yellow\">MIN STACK</h3>"
   ],
   "metadata": {}
  },
  {
   "cell_type": "code",
   "execution_count": 39,
   "source": [
    "class GetMin:\r\n",
    "    def __init__(self):\r\n",
    "        self.q = []\r\n",
    "    \r\n",
    "    def push(self, data):\r\n",
    "        curMin = self.getMin()\r\n",
    "        if curMin == None or data < curMin:\r\n",
    "            curMin = data\r\n",
    "        self.q.append((data, curMin))\r\n",
    "    \r\n",
    "    def pop(self):\r\n",
    "        self.q.pop()\r\n",
    "    \r\n",
    "    def top(self):\r\n",
    "        if len(self.q) == 0:\r\n",
    "            return None\r\n",
    "        else:\r\n",
    "            return self.q[len(self.q) - 1][0]\r\n",
    "    \r\n",
    "    def getMin(self):\r\n",
    "        if len(self.q) == 0:\r\n",
    "            return None\r\n",
    "        else:\r\n",
    "            return self.q[len(self.q) - 1][1]\r\n",
    "\r\n",
    "stack = GetMin()\r\n",
    "stack.getMin()\r\n",
    "stack.push(3)\r\n",
    "stack.push(5)\r\n",
    "stack.getMin()\r\n",
    "stack.push(2)\r\n",
    "stack.push(1)\r\n",
    "stack.getMin()\r\n",
    "stack.pop()\r\n",
    "stack.getMin()\r\n",
    "stack.pop()\r\n",
    "stack.getMin()"
   ],
   "outputs": [
    {
     "output_type": "execute_result",
     "data": {
      "text/plain": [
       "3"
      ]
     },
     "metadata": {},
     "execution_count": 39
    }
   ],
   "metadata": {}
  },
  {
   "cell_type": "markdown",
   "source": [
    "<h3 style=\"color:yellow\">Duplicate Parenthesis</h3>"
   ],
   "metadata": {}
  },
  {
   "cell_type": "code",
   "execution_count": 40,
   "source": [
    "def findDuplicateparenthesis(string):\r\n",
    "    stack = []\r\n",
    "    for ch in string:\r\n",
    "        if ch == ')':\r\n",
    "            top = stack.pop()\r\n",
    "            elementsInside = 0\r\n",
    "            while top != '(':\r\n",
    "                elementsInside += 1\r\n",
    "                top = stack.pop()\r\n",
    "            if elementsInside < 1:\r\n",
    "                return True\r\n",
    "        else:\r\n",
    "            stack.append(ch)\r\n",
    "    return False\r\n",
    "\r\n",
    "\r\n",
    "if __name__ == \"__main__\":\r\n",
    " \r\n",
    "    # input balanced expression\r\n",
    "    string = \"((a+b)+((c+d)))\"\r\n",
    " \r\n",
    "    if findDuplicateparenthesis(string) == True:\r\n",
    "        print(\"Duplicate Found\")\r\n",
    "    else:\r\n",
    "        print(\"No Duplicate Found\");"
   ],
   "outputs": [
    {
     "output_type": "stream",
     "name": "stdout",
     "text": [
      "Duplicate Found\n"
     ]
    }
   ],
   "metadata": {}
  },
  {
   "cell_type": "markdown",
   "source": [
    "<h3 style=\"color:yellow\">Powerset</h3>"
   ],
   "metadata": {}
  },
  {
   "cell_type": "code",
   "execution_count": 44,
   "source": [
    "import math;\r\n",
    "\r\n",
    "def powerset(arr, N):\r\n",
    "    power_set_size = (int) (math.pow(2, N))\r\n",
    "    counter = 0\r\n",
    "    i = 0\r\n",
    "\r\n",
    "    for counter in range(0, power_set_size):\r\n",
    "        for j in range(N):\r\n",
    "            if((counter & (1 << j)) > 0):\r\n",
    "                print(arr[j], end = \"\")\r\n",
    "        print(\"\")"
   ],
   "outputs": [],
   "metadata": {}
  },
  {
   "cell_type": "code",
   "execution_count": 57,
   "source": [
    "from itertools import combinations\r\n",
    "\r\n",
    "def powerset_2(arr, N):\r\n",
    "    #print(None)\r\n",
    "    for i in range(0, N):\r\n",
    "        for ele in combinations(arr, i):\r\n",
    "            print(''.join(ele))\r\n",
    "               "
   ],
   "outputs": [],
   "metadata": {}
  },
  {
   "cell_type": "code",
   "execution_count": 58,
   "source": [
    "arr = ['a','b','c']\r\n",
    "powerset_2(arr, len(arr))"
   ],
   "outputs": [
    {
     "output_type": "stream",
     "name": "stdout",
     "text": [
      "None\n",
      "\n",
      "a\n",
      "b\n",
      "c\n",
      "ab\n",
      "ac\n",
      "bc\n"
     ]
    }
   ],
   "metadata": {}
  },
  {
   "cell_type": "markdown",
   "source": [
    "<h3 style=\"color:yellow\">Count pairs with given sum</h3>"
   ],
   "metadata": {}
  },
  {
   "cell_type": "code",
   "execution_count": 59,
   "source": [
    "def pairCount(arr, N, S):\r\n",
    "    count = 0\r\n",
    "    for i in range(N):\r\n",
    "        for j in range(i+1, N):\r\n",
    "            if arr[i] + arr[j] == S:\r\n",
    "                count += 1\r\n",
    "    return count"
   ],
   "outputs": [],
   "metadata": {}
  },
  {
   "cell_type": "code",
   "execution_count": 66,
   "source": [
    "def pairCount_2(arr, N, S):\r\n",
    "    m = [0]*1000\r\n",
    "    count = 0\r\n",
    "    for i in range(N):\r\n",
    "        m[arr[i]] += 1\r\n",
    "    \r\n",
    "    for i in range(N):\r\n",
    "        count += m[S - arr[i]]\r\n",
    "        if (S - arr[i] == arr[i]):\r\n",
    "            count -= 1\r\n",
    "        \r\n",
    "    return (count // 2)"
   ],
   "outputs": [],
   "metadata": {}
  },
  {
   "cell_type": "code",
   "execution_count": 67,
   "source": [
    "arr = [1, 5, 7, -1, 5, 2, 4]\r\n",
    "n = len(arr)\r\n",
    "sum = 6\r\n",
    "print(pairCount_2(arr, n, sum))"
   ],
   "outputs": [
    {
     "output_type": "stream",
     "name": "stdout",
     "text": [
      "4\n"
     ]
    }
   ],
   "metadata": {}
  },
  {
   "cell_type": "markdown",
   "source": [
    "<h3 style=\"color:yellow\">Middle Node of Linked List </h3>"
   ],
   "metadata": {}
  },
  {
   "cell_type": "code",
   "execution_count": 68,
   "source": [
    "def middleLL(head):\r\n",
    "    slow = fast = head\r\n",
    "\r\n",
    "    while fast and fast.next:\r\n",
    "        slow = slow.next\r\n",
    "        fast = fast.next.next\r\n",
    "    \r\n",
    "    print(\"Middle Node: \", slow.data)"
   ],
   "outputs": [],
   "metadata": {}
  },
  {
   "cell_type": "code",
   "execution_count": null,
   "source": [],
   "outputs": [],
   "metadata": {}
  }
 ],
 "metadata": {
  "kernelspec": {
   "name": "python3",
   "display_name": "Python 3.9.5 64-bit"
  },
  "language_info": {
   "codemirror_mode": {
    "name": "ipython",
    "version": 3
   },
   "file_extension": ".py",
   "mimetype": "text/x-python",
   "name": "python",
   "nbconvert_exporter": "python",
   "pygments_lexer": "ipython3",
   "version": "3.9.5"
  },
  "interpreter": {
   "hash": "63fd5069d213b44bf678585dea6b12cceca9941eaf7f819626cde1f2670de90d"
  }
 },
 "nbformat": 4,
 "nbformat_minor": 5
}