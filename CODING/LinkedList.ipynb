{
 "cells": [
  {
   "cell_type": "markdown",
   "id": "de8208a5",
   "metadata": {},
   "source": [
    "# Linked List"
   ]
  },
  {
   "cell_type": "code",
   "execution_count": 1,
   "id": "82cd332f",
   "metadata": {},
   "outputs": [],
   "source": [
    "class Node:\n",
    "    def __init__(self, value):\n",
    "        self.value = value\n",
    "        self.nextNode = None"
   ]
  },
  {
   "cell_type": "code",
   "execution_count": 2,
   "id": "303a2c9b",
   "metadata": {},
   "outputs": [],
   "source": [
    "def cycleCheck(node):\r\n",
    "    p1 = node\r\n",
    "    p2 = node\r\n",
    "    while p2 != None and p2.nextNode != None:\r\n",
    "        p1 = p1.nextNode\r\n",
    "        p2 = p2.nextNode.nextNode\r\n",
    "        \r\n",
    "    return p1 == p2"
   ]
  },
  {
   "cell_type": "code",
   "execution_count": 3,
   "id": "4803e348",
   "metadata": {},
   "outputs": [],
   "source": [
    "def reverseLinkedList(node):\n",
    "    curr = head\n",
    "    prev = None\n",
    "    \n",
    "    while curr:\n",
    "        temp = curr.nextNode\n",
    "        curr.nextNode = prev\n",
    "        prev = curr\n",
    "        curr = temp\n",
    "    \n",
    "    return prev        "
   ]
  },
  {
   "cell_type": "code",
   "execution_count": 4,
   "id": "1799038e",
   "metadata": {},
   "outputs": [],
   "source": [
    "def nth_to_last(n):\n",
    "    lp = head\n",
    "    rp = head\n",
    "    \n",
    "    for i in range(n-1):\n",
    "        if not rp.nextNode:\n",
    "            raise LookupError('Error n: is greater than linked list')\n",
    "        \n",
    "        rp = rp.nextNode\n",
    "    \n",
    "    while rp.nextNode:\n",
    "        lp = lp.nextNode\n",
    "        rp = rp.nextNode\n",
    "    \n",
    "    return lp"
   ]
  },
  {
   "cell_type": "markdown",
   "id": "de13b2a0",
   "metadata": {},
   "source": [
    "<br>"
   ]
  },
  {
   "cell_type": "markdown",
   "id": "0102e3d0",
   "metadata": {},
   "source": []
  }
 ],
 "metadata": {
  "kernelspec": {
   "display_name": "Python 3",
   "language": "python",
   "name": "python3"
  },
  "language_info": {
   "codemirror_mode": {
    "name": "ipython",
    "version": 3
   },
   "file_extension": ".py",
   "mimetype": "text/x-python",
   "name": "python",
   "nbconvert_exporter": "python",
   "pygments_lexer": "ipython3",
   "version": "3.9.1"
  }
 },
 "nbformat": 4,
 "nbformat_minor": 5
}
