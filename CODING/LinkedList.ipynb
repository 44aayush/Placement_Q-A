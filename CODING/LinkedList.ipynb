{
 "cells": [
  {
   "cell_type": "markdown",
   "id": "de8208a5",
   "metadata": {},
   "source": [
    "# Linked List"
   ]
  },
  {
   "cell_type": "code",
   "execution_count": 1,
   "id": "82cd332f",
   "metadata": {},
   "outputs": [],
   "source": [
    "class Node:\n",
    "    def __init__(self, value):\n",
    "        self.value = value\n",
    "        self.nextNode = None"
   ]
  },
  {
   "cell_type": "code",
   "execution_count": 2,
   "id": "303a2c9b",
   "metadata": {},
   "outputs": [],
   "source": [
    "def cycleCheck(node):\r\n",
    "    p1 = node\r\n",
    "    p2 = node\r\n",
    "    while p2 != None and p2.nextNode != None:\r\n",
    "        p1 = p1.nextNode\r\n",
    "        p2 = p2.nextNode.nextNode\r\n",
    "        \r\n",
    "    return p1 == p2"
   ]
  },
  {
   "cell_type": "code",
   "execution_count": 3,
   "id": "4803e348",
   "metadata": {},
   "outputs": [],
   "source": [
    "def reverseLinkedList(node):\n",
    "    curr = head\n",
    "    prev = None\n",
    "    \n",
    "    while curr:\n",
    "        temp = curr.nextNode\n",
    "        curr.nextNode = prev\n",
    "        prev = curr\n",
    "        curr = temp\n",
    "    \n",
    "    return prev        "
   ]
  },
  {
   "cell_type": "code",
   "execution_count": 4,
   "id": "1799038e",
   "metadata": {},
   "outputs": [],
   "source": [
    "def nth_to_last(n):\n",
    "    lp = head\n",
    "    rp = head\n",
    "    \n",
    "    for i in range(n-1):\n",
    "        if not rp.nextNode:\n",
    "            raise LookupError('Error n: is greater than linked list')\n",
    "        \n",
    "        rp = rp.nextNode\n",
    "    \n",
    "    while rp.nextNode:\n",
    "        lp = lp.nextNode\n",
    "        rp = rp.nextNode\n",
    "    \n",
    "    return lp"
   ]
  },
  {
   "cell_type": "markdown",
   "id": "de13b2a0",
   "metadata": {},
   "source": [
    "<br>"
   ]
  },
  {
   "cell_type": "markdown",
   "id": "0102e3d0",
   "metadata": {},
   "source": [
    "# Pairwise Swap Elements "
   ]
  },
  {
   "cell_type": "code",
   "execution_count": 4,
   "id": "8ae9ef6f-a961-466e-9460-7f16442a3343",
   "metadata": {},
   "outputs": [
    {
     "name": "stdout",
     "output_type": "stream",
     "text": [
      "2\n",
      "1\n",
      "4\n",
      "3\n",
      "5\n"
     ]
    }
   ],
   "source": [
    "class Node:\n",
    "    def __init__(self, data):\n",
    "        self.data = data\n",
    "        self.next = None\n",
    "        \n",
    "class LinkedList:\n",
    "    def __init__(self):\n",
    "        self.head = None\n",
    "    \n",
    "    def printList(self):\n",
    "        temp = self.head\n",
    "        while(temp):\n",
    "            print(temp.data)\n",
    "            temp = temp.next\n",
    "    \n",
    "    def push(self, new_data):\n",
    "        new_node = Node(new_data)\n",
    "        new_node.next = self.head\n",
    "        self.head = new_node\n",
    "    \n",
    "    def pairwiseSwap(self):\n",
    "        temp = self.head\n",
    "        \n",
    "        if self.head is None:\n",
    "            return\n",
    "        \n",
    "        while temp and temp.next:\n",
    "            if temp.data != temp.next.data:\n",
    "                temp.data, temp.next.data = temp.next.data, temp.data\n",
    "            \n",
    "            temp = temp.next.next\n",
    "    \n",
    "\n",
    "llist = LinkedList()\n",
    "llist.push(5)\n",
    "llist.push(4)\n",
    "llist.push(3)\n",
    "llist.push(2)\n",
    "llist.push(1)\n",
    "\n",
    "llist.pairwiseSwap()\n",
    "\n",
    "llist.printList()"
   ]
  },
  {
   "cell_type": "markdown",
   "id": "1e48fd74-c543-49e8-88e8-5ad852a32e60",
   "metadata": {},
   "source": [
    "# Merge two sorted linked list"
   ]
  },
  {
   "cell_type": "code",
   "execution_count": null,
   "id": "f762972c-17cc-49db-8184-7b65fcfb6eaa",
   "metadata": {},
   "outputs": [],
   "source": [
    "class Node:\n",
    "    def __init__(self, data):\n",
    "        self.data = data\n",
    "        self.next = None\n",
    "        \n",
    "        \n",
    "class LinkedList:\n",
    "    def __init__(self):\n",
    "        self.head = None\n",
    "    \n",
    "    def printList(self):\n",
    "        temp = self.head\n",
    "        while temp:\n",
    "            print(temp.data, end=\" \")\n",
    "            temp = temp.next\n",
    "    \n",
    "    def addToList(self, data):\n",
    "        newNode = Node(data)\n",
    "        \n",
    "        if self.head is None:\n",
    "            self.head = newNode\n",
    "            return\n",
    "        \n",
    "        last = self.head\n",
    "        while last.next:\n",
    "            last = last.next\n",
    "        \n",
    "        last.next = newNode\n",
    "\n",
    "\n",
    "def mergeLists(headA, headB):\n",
    "    dummyNode = Node(0)\n",
    "    tail = dummyNode\n",
    "    \n",
    "    while True:\n",
    "        if headA is None:\n",
    "            tail.next = headB\n",
    "            break\n",
    "        if headB is None:\n",
    "            tail.next = headA\n",
    "            break\n",
    "        \n",
    "        if headA.data < headB.data:\n",
    "            tail.next = headA\n",
    "            headA = headA.next\n",
    "        else:\n",
    "            tail.next = headB\n",
    "            headB = headB.next\n",
    "        \n",
    "        tail = tail.next\n",
    "    \n",
    "    return dummyNode.next\n",
    "\n",
    "\n",
    "def mergeLists_Rec(head1, head2):\n",
    "    temp = None\n",
    "    \n",
    "    if head1 is None:\n",
    "        return head2\n",
    "    \n",
    "    if head2 is None:\n",
    "        return head1\n",
    "    \n",
    "    if head1.data <= head2.data:\n",
    "        temp = head1\n",
    "        temp.next = mergeLists_Rec(head1.next, head2)\n",
    "    else:\n",
    "        temp = head2\n",
    "        temp.next = mergeLists_Rec(head1, head2.next)\n",
    "    \n",
    "    return temp"
   ]
  },
  {
   "cell_type": "code",
   "execution_count": 6,
   "id": "b75db329-7ebf-45dd-868e-680d7c75a2f3",
   "metadata": {},
   "outputs": [
    {
     "name": "stdout",
     "output_type": "stream",
     "text": [
      "2 3 5 10 15 20 "
     ]
    }
   ],
   "source": [
    "listA = LinkedList()\n",
    "listB = LinkedList()\n",
    "listC = LinkedList()\n",
    " \n",
    "listA.addToList(5)\n",
    "listA.addToList(10)\n",
    "listA.addToList(15)\n",
    " \n",
    "listB.addToList(2)\n",
    "listB.addToList(3)\n",
    "listB.addToList(20)\n",
    " \n",
    "listA.head = mergeLists(listA.head, listB.head)\n",
    "listA.printList()\n",
    "\n",
    "#print(\"\\n\\n\")\n",
    "\n",
    "#listC.head = mergeLists_Rec(listA.head, listB.head)\n",
    "#listC.printList()"
   ]
  },
  {
   "cell_type": "code",
   "execution_count": null,
   "id": "cd111f58-76bc-4ec4-b78d-1aea589b2e79",
   "metadata": {},
   "outputs": [],
   "source": []
  }
 ],
 "metadata": {
  "kernelspec": {
   "display_name": "Python 3",
   "language": "python",
   "name": "python3"
  },
  "language_info": {
   "codemirror_mode": {
    "name": "ipython",
    "version": 3
   },
   "file_extension": ".py",
   "mimetype": "text/x-python",
   "name": "python",
   "nbconvert_exporter": "python",
   "pygments_lexer": "ipython3",
   "version": "3.9.1"
  }
 },
 "nbformat": 4,
 "nbformat_minor": 5
}
