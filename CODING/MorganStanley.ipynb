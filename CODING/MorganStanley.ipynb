{
 "cells": [
  {
   "cell_type": "markdown",
   "id": "614e5d55-81ee-4a22-8a9a-5303431df5d7",
   "metadata": {},
   "source": [
    "# Sort array in 0's, 1's and 2's"
   ]
  },
  {
   "cell_type": "code",
   "execution_count": 4,
   "id": "bde0dc4d-3dbc-433f-9ba5-a7e341a5afb5",
   "metadata": {},
   "outputs": [],
   "source": [
    "def segregate012(arr, n):\n",
    "    c0, c1, c2 = 0,0,0\n",
    "    for i in range(n):\n",
    "        if arr[i] == 0:\n",
    "            c0 += 1\n",
    "        elif arr[i] == 1:\n",
    "            c1 += 1\n",
    "        elif arr[i] == 2:\n",
    "            c2 += 1\n",
    "    i = 0\n",
    "    while c0 > 0:\n",
    "        arr[i] = 0\n",
    "        i += 1\n",
    "        c0 -= 1\n",
    "    \n",
    "    while c1 > 0:\n",
    "        arr[i] = 1\n",
    "        i += 1\n",
    "        c1 -= 1\n",
    "    \n",
    "    while c2 > 0:\n",
    "        arr[i] = 2\n",
    "        i += 1\n",
    "        c2 -= 1\n",
    "        \n",
    "    return arr"
   ]
  },
  {
   "cell_type": "code",
   "execution_count": 5,
   "id": "b0e52917-9590-436b-a189-0db4db7b93dc",
   "metadata": {},
   "outputs": [
    {
     "name": "stdout",
     "output_type": "stream",
     "text": [
      "[0, 0, 0, 0, 0, 1, 1, 1, 1, 1, 2, 2]\n"
     ]
    }
   ],
   "source": [
    "arr = [0,1,1,0,1,2,1,2,0,0,0,1]\n",
    "s012 = segregate012(arr, len(arr))\n",
    "print(s012)"
   ]
  },
  {
   "cell_type": "markdown",
   "id": "877804fb-7766-4517-a7c8-de39bf49aea6",
   "metadata": {},
   "source": [
    "# Swap Kth node from beginning with Kth node from end in a Linked List\n",
    "<span style=\"color: orange\">\n",
    "Input: 1->2->3->4->5<br>\n",
    "    k: 2<br>\n",
    "Output: 1->4->3->2->5\n",
    "</span>"
   ]
  },
  {
   "cell_type": "code",
   "execution_count": 6,
   "id": "3b57e9f6-15a8-4ad5-a433-adb986510989",
   "metadata": {},
   "outputs": [],
   "source": [
    "def countNodes():\n",
    "    c = 0\n",
    "    curr = head\n",
    "    while curr.next is not None:\n",
    "        c += 1\n",
    "        curr = curr.next\n",
    "    return c\n",
    "\n",
    "def swapKth(k):\n",
    "    n = countNodes()\n",
    "    \n",
    "    if n < k:\n",
    "        return \n",
    "    \n",
    "    if 2*k-1 == n:\n",
    "        return\n",
    "    \n",
    "    x = head\n",
    "    x_prev = None\n",
    "    \n",
    "    # Kth node from beginning\n",
    "    for i in range(k-1):\n",
    "        x_prev = x\n",
    "        x = x.next\n",
    "    \n",
    "    y = head\n",
    "    y_prev = None\n",
    "    # Kth node from end\n",
    "    for i in range(n-k):\n",
    "        y_prev = y\n",
    "        y = y.next\n",
    "    \n",
    "    if x_prev is not None:\n",
    "        x_prev.next = y\n",
    "    \n",
    "    if y_prev is not None:\n",
    "        y_prev.next = x\n",
    "    \n",
    "    x.next, y.next = y.next, x.next\n",
    "    \n",
    "    if k == 1:\n",
    "        head = y\n",
    "    \n",
    "    if k == n:\n",
    "        head = x\n",
    "        "
   ]
  },
  {
   "cell_type": "markdown",
   "id": "6a0c5d77-6a93-44de-a198-02e027a7c14f",
   "metadata": {},
   "source": [
    "# Largest Sum Contiguous SubArray - KADANE'S ALGO"
   ]
  },
  {
   "cell_type": "code",
   "execution_count": 13,
   "id": "7c58c376-18c3-4bb7-94ae-e1d39ba6aee8",
   "metadata": {},
   "outputs": [],
   "source": [
    "from sys import maxsize\n",
    "def maxSubArraySum(a, n):\n",
    "    max_so_far = -maxsize - 1\n",
    "    max_ending, start, end, s = 0,0,0,0\n",
    "    \n",
    "    for i in range(0, n):\n",
    "        max_ending += a[i]\n",
    "        \n",
    "        if max_so_far < max_ending:\n",
    "            max_so_far = max_ending\n",
    "            start = s\n",
    "            end = i\n",
    "        \n",
    "        if max_ending < 0:\n",
    "            max_ending = 0\n",
    "            s = i+1\n",
    "    print(\"Max COntiguous Sum : %d\" %max_so_far)\n",
    "    print(\"Starting Index : %d\" %start)\n",
    "    print(\"Last Index : %d\" %end)"
   ]
  },
  {
   "cell_type": "code",
   "execution_count": 14,
   "id": "36618690-a7df-4ece-8922-e054a0661868",
   "metadata": {},
   "outputs": [
    {
     "name": "stdout",
     "output_type": "stream",
     "text": [
      "Max COntiguous Sum : 7\n",
      "Starting Index : 2\n",
      "Last Index : 6\n"
     ]
    }
   ],
   "source": [
    "arr = [-2, -3, 4, -1, -2, 1, 5, -3]\n",
    "maxSubArraySum(arr,len(arr))"
   ]
  },
  {
   "cell_type": "markdown",
   "id": "bf70a036-453f-4555-b39b-d1123d96cd10",
   "metadata": {},
   "source": [
    "# Remove Duplicate without hash or set"
   ]
  },
  {
   "cell_type": "code",
   "execution_count": 24,
   "id": "239c2e30-670d-4d8e-a7dd-4154cd0af838",
   "metadata": {},
   "outputs": [],
   "source": [
    "def removeDup(a, n):\n",
    "    if n==0 or n==1:\n",
    "        return n\n",
    "    \n",
    "    temp = list(range(n))\n",
    "    \n",
    "    j = 0\n",
    "    for i in range(n-1):\n",
    "        if arr[i] != arr[i+1]:\n",
    "            temp[j] = arr[i]\n",
    "            j += 1\n",
    "    \n",
    "    temp[j] = arr[n-1]\n",
    "    j += 1\n",
    "    \n",
    "    for i in range(j):\n",
    "        arr[i] = temp[i]\n",
    "    \n",
    "    return j"
   ]
  },
  {
   "cell_type": "code",
   "execution_count": 25,
   "id": "cf46b3c3-273b-44b5-9f12-241a1101cdc7",
   "metadata": {},
   "outputs": [
    {
     "name": "stdout",
     "output_type": "stream",
     "text": [
      "1 2 3 4 5 "
     ]
    }
   ],
   "source": [
    "arr = [1, 2, 2, 3, 4, 4, 4, 5, 5]\n",
    "n = len(arr)\n",
    "j = removeDup(arr, n)\n",
    "for i in range(j):\n",
    "    print(\"%d\" %arr[i], end = \" \")"
   ]
  },
  {
   "cell_type": "markdown",
   "id": "3d8dcb87-5882-49c9-9543-2e3b5e0eeca8",
   "metadata": {},
   "source": [
    "# Minimum element in a sorted and rotated array"
   ]
  },
  {
   "cell_type": "code",
   "execution_count": 26,
   "id": "60597c6b-f7da-4038-966e-84f383b039d0",
   "metadata": {},
   "outputs": [],
   "source": [
    "def findMin(self, arr, n):\n",
    "        arr.sort()\n",
    "        return arr[0]"
   ]
  },
  {
   "cell_type": "code",
   "execution_count": null,
   "id": "60af584b-9456-4791-bdf3-e54197b035bd",
   "metadata": {},
   "outputs": [],
   "source": [
    "# "
   ]
  }
 ],
 "metadata": {
  "kernelspec": {
   "display_name": "Python 3",
   "language": "python",
   "name": "python3"
  },
  "language_info": {
   "codemirror_mode": {
    "name": "ipython",
    "version": 3
   },
   "file_extension": ".py",
   "mimetype": "text/x-python",
   "name": "python",
   "nbconvert_exporter": "python",
   "pygments_lexer": "ipython3",
   "version": "3.9.1"
  }
 },
 "nbformat": 4,
 "nbformat_minor": 5
}
